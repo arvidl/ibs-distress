{
 "cells": [
  {
   "cell_type": "markdown",
   "id": "714f035c",
   "metadata": {},
   "source": [
    "## 3-unsupervised-classification\n",
    "\n",
    "Accompanying the paper:<br>\n",
    "A. J. Lundervold, ..., A. Lundervold. _Decoding IBS: A Machine Learning Approach to Psychological Distress and Gut-Brain Interaction_\n",
    "\n",
    "Arvid Lundervold, v. 2024-07-21  - using conda kernel `ibs` (Python 3.11.9))\n",
    "\n",
    "Last updated: 2024-07-22\n"
   ]
  },
  {
   "cell_type": "markdown",
   "id": "c08e2db5",
   "metadata": {},
   "source": [
    "**References**\n",
    "\n",
    "[1] Steinley, Douglas. “K‐means clustering: a half‐century synthesis.” British Journal of Mathematical and Statistical Psychology 59.1 (2006): 1–34.\n",
    "\n",
    "[2] Dueck, Delbert. Affinity propagation: clustering data by passing messages. Toronto: University of Toronto, 2009.\n",
    "\n",
    "[3] Von Luxburg, Ulrike. “A tutorial on spectral clustering.” Statistics and computing 17.4 (2007): 395–416.\n",
    "\n",
    "[4] Ackermann, Marcel R., et al. “Analysis of agglomerative clustering.” Algorithmica 69.1 (2014): 184–215.\n",
    "\n",
    "[5] Derpanis, Konstantinos G. “Mean shift clustering.” Lecture Notes (2005): 32.\n",
    "\n",
    "[6] Khan, Kamran, et al. “DBSCAN: Past, present and future.” The fifth international conference on the applications of digital information and web technologies (ICADIWT 2014). IEEE, 2014.\n",
    "\n",
    "[7] Rousseeuw, Peter J. “Silhouettes: a graphical aid to the interpretation and validation of cluster analysis.” Journal of computational and applied mathematics 20 (1987): 53–65.\n",
    "\n",
    "[8] Caliński, Tadeusz, and Jerzy Harabasz. “A dendrite method for cluster analysis.” Communications in Statistics-theory and Methods 3.1 (1974): 1–27.\n",
    "\n",
    "[9] Davies, David L., and Donald W. Bouldin. “A cluster separation measure.” IEEE transactions on pattern analysis and machine intelligence 2 (1979): 224–227.\n",
    "\n",
    "[10] Yuan, Chunhui, and Haitao Yang. “Research on K-value selection method of K-means clustering algorithm.” J 2.2 (2019): 226–235.\n",
    "\n",
    "[11] Abdi, Hervé, and Lynne J. Williams. “Principal component analysis.” Wiley interdisciplinary reviews: computational statistics 2.4 (2010): 433–459.\n",
    "\n",
    "- https://github.com/pycaret/pycaret/blob/master/tutorials/Tutorial%20-%20Clustering.ipynb\n",
    "\n",
    "- https://towardsdatascience.com/clustering-made-easy-with-pycaret-656316c0b080\n",
    "\n",
    "- https://towardsdatascience.com/introduction-to-clustering-in-python-with-pycaret-5d869b9714a3"
   ]
  },
  {
   "cell_type": "markdown",
   "id": "9c14fdea",
   "metadata": {},
   "source": [
    "### Import libraries"
   ]
  },
  {
   "cell_type": "code",
   "execution_count": 1,
   "id": "135f0e60",
   "metadata": {},
   "outputs": [],
   "source": [
    "%matplotlib inline"
   ]
  },
  {
   "cell_type": "code",
   "execution_count": 2,
   "id": "6b57f394",
   "metadata": {},
   "outputs": [],
   "source": [
    "import os\n",
    "import numpy as np\n",
    "import pandas as pd\n",
    "import pyreadstat\n",
    "import matplotlib.pyplot as plt\n",
    "import seaborn as sns\n",
    "import sklearn\n",
    "import pycaret\n",
    "import ydata_profiling\n",
    "from ydata_profiling import ProfileReport\n",
    "import platform\n",
    "import shutil\n",
    "import warnings\n",
    "import datetime\n",
    "import pingouin as pg\n",
    "import xgboost as xgb\n",
    "from pycaret.classification import *\n",
    "from pycaret.regression import *\n",
    "from pycaret.clustering import *\n",
    "from pycaret.anomaly import *\n",
    "from sklearn.gaussian_process import GaussianProcessClassifier as gpc\n",
    "from sklearn.gaussian_process.kernels import RBF\n",
    "\n",
    "# import MLP from scikit-learn  \n",
    "from sklearn.neural_network import MLPClassifier\n",
    "from sklearn.neural_network import MLPRegressor\n",
    "\n",
    "from sklearn.metrics import classification_report, confusion_matrix, accuracy_score, roc_auc_score, roc_curve, auc\n",
    "import scikitplot as skplt\n",
    "from sklearn.metrics import RocCurveDisplay\n",
    "from sklearn.metrics import precision_recall_curve\n",
    "from sklearn.metrics import PrecisionRecallDisplay\n",
    "\n",
    "from sklearn.inspection import permutation_importance\n",
    "import shap\n",
    "\n",
    "home = os.path.expanduser('~')"
   ]
  },
  {
   "cell_type": "code",
   "execution_count": 4,
   "id": "f70295ca",
   "metadata": {},
   "outputs": [
    {
     "name": "stdout",
     "output_type": "stream",
     "text": [
      "OK, you are running on MacOS (Darwin Kernel Version 23.5.0: Wed May  1 20:09:52 PDT 2024; root:xnu-10063.121.3~5/RELEASE_X86_64)\n"
     ]
    }
   ],
   "source": [
    "if platform.system() == 'Darwin':\n",
    "    print(f'OK, you are running on MacOS ({platform.version()})')\n",
    "if platform.system() == 'Linux':\n",
    "    print(f'OK, you are running on Linux ({platform.version()})')\n",
    "if platform.system() == 'Windows':\n",
    "    print(f'OK, but consider to install WSL for Windows10/11 since you are running on {platform.system()}')\n",
    "    print('Check https://docs.microsoft.com/en-us/windows/wsl/install')"
   ]
  },
  {
   "cell_type": "code",
   "execution_count": 5,
   "id": "e0e99ac2",
   "metadata": {},
   "outputs": [
    {
     "name": "stdout",
     "output_type": "stream",
     "text": [
      "seaborn: 0.13.2\n",
      "pandas: 2.1.4\n",
      "pycaret: 3.3.2\n",
      "ydata_profiling: v4.9.0\n",
      "pingouin: 0.5.4\n",
      "xgboost: 2.1.0\n",
      "scikit-learn: 1.4.2\n",
      "shap: 0.46.0\n",
      "scikit-plot: 0.3.7\n"
     ]
    }
   ],
   "source": [
    "# Versions\n",
    "\n",
    "print(f'seaborn: {sns.__version__}')\n",
    "print(f'pandas: {pd.__version__}')\n",
    "print(f'pycaret: {pycaret.__version__}')\n",
    "print(f'ydata_profiling: {ydata_profiling.__version__}')\n",
    "print(f'pingouin: {pg.__version__}')\n",
    "print(f'xgboost: {xgb.__version__}')\n",
    "print(f'scikit-learn: {sklearn.__version__}')\n",
    "print(f'shap: {shap.__version__}')\n",
    "print(f'scikit-plot: {skplt.__version__}')\n"
   ]
  },
  {
   "cell_type": "markdown",
   "id": "a310a5a8",
   "metadata": {},
   "source": [
    "### Read reduced dataset, rename columns, and inspect the data"
   ]
  },
  {
   "cell_type": "code",
   "execution_count": 7,
   "id": "3320257b",
   "metadata": {},
   "outputs": [],
   "source": [
    "# Load the CSV file\n",
    "df_in = pd.read_csv('../data/BGA_for_classification_77x13.csv')"
   ]
  },
  {
   "cell_type": "code",
   "execution_count": 8,
   "id": "9323fe4e",
   "metadata": {},
   "outputs": [],
   "source": [
    "df_in = df_in.rename(columns = {'Category':'Group'})"
   ]
  },
  {
   "cell_type": "code",
   "execution_count": 9,
   "id": "e35eadac",
   "metadata": {},
   "outputs": [
    {
     "data": {
      "text/html": [
       "<div>\n",
       "<style scoped>\n",
       "    .dataframe tbody tr th:only-of-type {\n",
       "        vertical-align: middle;\n",
       "    }\n",
       "\n",
       "    .dataframe tbody tr th {\n",
       "        vertical-align: top;\n",
       "    }\n",
       "\n",
       "    .dataframe thead th {\n",
       "        text-align: right;\n",
       "    }\n",
       "</style>\n",
       "<table border=\"1\" class=\"dataframe\">\n",
       "  <thead>\n",
       "    <tr style=\"text-align: right;\">\n",
       "      <th></th>\n",
       "      <th>BGA</th>\n",
       "      <th>Sex</th>\n",
       "      <th>Age</th>\n",
       "      <th>IBS-SSS</th>\n",
       "      <th>R1</th>\n",
       "      <th>R2</th>\n",
       "      <th>B1</th>\n",
       "      <th>B2</th>\n",
       "      <th>H1</th>\n",
       "      <th>H2</th>\n",
       "      <th>F1</th>\n",
       "      <th>F2</th>\n",
       "      <th>Group</th>\n",
       "    </tr>\n",
       "  </thead>\n",
       "  <tbody>\n",
       "    <tr>\n",
       "      <th>0</th>\n",
       "      <td>BGA_046</td>\n",
       "      <td>M</td>\n",
       "      <td>38.0</td>\n",
       "      <td>195.0</td>\n",
       "      <td>37.0</td>\n",
       "      <td>63.0</td>\n",
       "      <td>3.0</td>\n",
       "      <td>13.0</td>\n",
       "      <td>1.0</td>\n",
       "      <td>4.0</td>\n",
       "      <td>3.0</td>\n",
       "      <td>0.0</td>\n",
       "      <td>IBS</td>\n",
       "    </tr>\n",
       "    <tr>\n",
       "      <th>1</th>\n",
       "      <td>BGA_051</td>\n",
       "      <td>M</td>\n",
       "      <td>38.0</td>\n",
       "      <td>293.0</td>\n",
       "      <td>36.0</td>\n",
       "      <td>71.0</td>\n",
       "      <td>8.0</td>\n",
       "      <td>4.0</td>\n",
       "      <td>2.0</td>\n",
       "      <td>3.0</td>\n",
       "      <td>5.0</td>\n",
       "      <td>0.0</td>\n",
       "      <td>IBS</td>\n",
       "    </tr>\n",
       "    <tr>\n",
       "      <th>2</th>\n",
       "      <td>BGA_057</td>\n",
       "      <td>F</td>\n",
       "      <td>30.0</td>\n",
       "      <td>264.0</td>\n",
       "      <td>35.0</td>\n",
       "      <td>63.0</td>\n",
       "      <td>14.0</td>\n",
       "      <td>20.0</td>\n",
       "      <td>7.0</td>\n",
       "      <td>1.0</td>\n",
       "      <td>6.0</td>\n",
       "      <td>2.0</td>\n",
       "      <td>IBS</td>\n",
       "    </tr>\n",
       "    <tr>\n",
       "      <th>3</th>\n",
       "      <td>BGA_058</td>\n",
       "      <td>F</td>\n",
       "      <td>57.0</td>\n",
       "      <td>296.0</td>\n",
       "      <td>37.0</td>\n",
       "      <td>51.0</td>\n",
       "      <td>8.0</td>\n",
       "      <td>12.0</td>\n",
       "      <td>7.0</td>\n",
       "      <td>7.0</td>\n",
       "      <td>7.0</td>\n",
       "      <td>4.0</td>\n",
       "      <td>IBS</td>\n",
       "    </tr>\n",
       "    <tr>\n",
       "      <th>4</th>\n",
       "      <td>BGA_059</td>\n",
       "      <td>F</td>\n",
       "      <td>43.0</td>\n",
       "      <td>364.0</td>\n",
       "      <td>30.0</td>\n",
       "      <td>55.0</td>\n",
       "      <td>7.0</td>\n",
       "      <td>6.0</td>\n",
       "      <td>13.0</td>\n",
       "      <td>6.0</td>\n",
       "      <td>1.0</td>\n",
       "      <td>1.0</td>\n",
       "      <td>IBS</td>\n",
       "    </tr>\n",
       "    <tr>\n",
       "      <th>...</th>\n",
       "      <td>...</td>\n",
       "      <td>...</td>\n",
       "      <td>...</td>\n",
       "      <td>...</td>\n",
       "      <td>...</td>\n",
       "      <td>...</td>\n",
       "      <td>...</td>\n",
       "      <td>...</td>\n",
       "      <td>...</td>\n",
       "      <td>...</td>\n",
       "      <td>...</td>\n",
       "      <td>...</td>\n",
       "      <td>...</td>\n",
       "    </tr>\n",
       "    <tr>\n",
       "      <th>72</th>\n",
       "      <td>BGA_160</td>\n",
       "      <td>F</td>\n",
       "      <td>23.0</td>\n",
       "      <td>265.0</td>\n",
       "      <td>20.0</td>\n",
       "      <td>46.0</td>\n",
       "      <td>11.0</td>\n",
       "      <td>13.0</td>\n",
       "      <td>12.0</td>\n",
       "      <td>4.0</td>\n",
       "      <td>4.0</td>\n",
       "      <td>1.0</td>\n",
       "      <td>IBS</td>\n",
       "    </tr>\n",
       "    <tr>\n",
       "      <th>73</th>\n",
       "      <td>BGA_161</td>\n",
       "      <td>F</td>\n",
       "      <td>21.0</td>\n",
       "      <td>393.0</td>\n",
       "      <td>35.0</td>\n",
       "      <td>51.0</td>\n",
       "      <td>0.0</td>\n",
       "      <td>3.0</td>\n",
       "      <td>8.0</td>\n",
       "      <td>1.0</td>\n",
       "      <td>5.0</td>\n",
       "      <td>2.0</td>\n",
       "      <td>IBS</td>\n",
       "    </tr>\n",
       "    <tr>\n",
       "      <th>74</th>\n",
       "      <td>BGA_164</td>\n",
       "      <td>F</td>\n",
       "      <td>25.0</td>\n",
       "      <td>12.0</td>\n",
       "      <td>40.0</td>\n",
       "      <td>66.0</td>\n",
       "      <td>2.0</td>\n",
       "      <td>3.0</td>\n",
       "      <td>11.0</td>\n",
       "      <td>7.0</td>\n",
       "      <td>3.0</td>\n",
       "      <td>0.0</td>\n",
       "      <td>HC</td>\n",
       "    </tr>\n",
       "    <tr>\n",
       "      <th>75</th>\n",
       "      <td>BGA_171</td>\n",
       "      <td>M</td>\n",
       "      <td>21.0</td>\n",
       "      <td>32.0</td>\n",
       "      <td>35.0</td>\n",
       "      <td>66.0</td>\n",
       "      <td>3.0</td>\n",
       "      <td>13.0</td>\n",
       "      <td>8.0</td>\n",
       "      <td>2.0</td>\n",
       "      <td>2.0</td>\n",
       "      <td>1.0</td>\n",
       "      <td>HC</td>\n",
       "    </tr>\n",
       "    <tr>\n",
       "      <th>76</th>\n",
       "      <td>BGA_172</td>\n",
       "      <td>F</td>\n",
       "      <td>58.0</td>\n",
       "      <td>53.0</td>\n",
       "      <td>34.0</td>\n",
       "      <td>82.0</td>\n",
       "      <td>7.0</td>\n",
       "      <td>12.0</td>\n",
       "      <td>6.0</td>\n",
       "      <td>0.0</td>\n",
       "      <td>1.0</td>\n",
       "      <td>0.0</td>\n",
       "      <td>HC</td>\n",
       "    </tr>\n",
       "  </tbody>\n",
       "</table>\n",
       "<p>77 rows × 13 columns</p>\n",
       "</div>"
      ],
      "text/plain": [
       "        BGA Sex   Age  IBS-SSS    R1    R2    B1    B2    H1   H2   F1   F2  \\\n",
       "0   BGA_046   M  38.0    195.0  37.0  63.0   3.0  13.0   1.0  4.0  3.0  0.0   \n",
       "1   BGA_051   M  38.0    293.0  36.0  71.0   8.0   4.0   2.0  3.0  5.0  0.0   \n",
       "2   BGA_057   F  30.0    264.0  35.0  63.0  14.0  20.0   7.0  1.0  6.0  2.0   \n",
       "3   BGA_058   F  57.0    296.0  37.0  51.0   8.0  12.0   7.0  7.0  7.0  4.0   \n",
       "4   BGA_059   F  43.0    364.0  30.0  55.0   7.0   6.0  13.0  6.0  1.0  1.0   \n",
       "..      ...  ..   ...      ...   ...   ...   ...   ...   ...  ...  ...  ...   \n",
       "72  BGA_160   F  23.0    265.0  20.0  46.0  11.0  13.0  12.0  4.0  4.0  1.0   \n",
       "73  BGA_161   F  21.0    393.0  35.0  51.0   0.0   3.0   8.0  1.0  5.0  2.0   \n",
       "74  BGA_164   F  25.0     12.0  40.0  66.0   2.0   3.0  11.0  7.0  3.0  0.0   \n",
       "75  BGA_171   M  21.0     32.0  35.0  66.0   3.0  13.0   8.0  2.0  2.0  1.0   \n",
       "76  BGA_172   F  58.0     53.0  34.0  82.0   7.0  12.0   6.0  0.0  1.0  0.0   \n",
       "\n",
       "   Group  \n",
       "0    IBS  \n",
       "1    IBS  \n",
       "2    IBS  \n",
       "3    IBS  \n",
       "4    IBS  \n",
       "..   ...  \n",
       "72   IBS  \n",
       "73   IBS  \n",
       "74    HC  \n",
       "75    HC  \n",
       "76    HC  \n",
       "\n",
       "[77 rows x 13 columns]"
      ]
     },
     "execution_count": 9,
     "metadata": {},
     "output_type": "execute_result"
    }
   ],
   "source": [
    "df_in"
   ]
  },
  {
   "cell_type": "code",
   "execution_count": 10,
   "id": "67123193",
   "metadata": {},
   "outputs": [
    {
     "data": {
      "text/html": [
       "<div>\n",
       "<style scoped>\n",
       "    .dataframe tbody tr th:only-of-type {\n",
       "        vertical-align: middle;\n",
       "    }\n",
       "\n",
       "    .dataframe tbody tr th {\n",
       "        vertical-align: top;\n",
       "    }\n",
       "\n",
       "    .dataframe thead th {\n",
       "        text-align: right;\n",
       "    }\n",
       "</style>\n",
       "<table border=\"1\" class=\"dataframe\">\n",
       "  <thead>\n",
       "    <tr style=\"text-align: right;\">\n",
       "      <th></th>\n",
       "      <th>R1</th>\n",
       "      <th>R2</th>\n",
       "      <th>B1</th>\n",
       "      <th>B2</th>\n",
       "      <th>H1</th>\n",
       "      <th>H2</th>\n",
       "      <th>F1</th>\n",
       "      <th>F2</th>\n",
       "    </tr>\n",
       "  </thead>\n",
       "  <tbody>\n",
       "    <tr>\n",
       "      <th>count</th>\n",
       "      <td>77.000000</td>\n",
       "      <td>77.000000</td>\n",
       "      <td>77.000000</td>\n",
       "      <td>77.000000</td>\n",
       "      <td>77.000000</td>\n",
       "      <td>77.000000</td>\n",
       "      <td>77.000000</td>\n",
       "      <td>77.000000</td>\n",
       "    </tr>\n",
       "    <tr>\n",
       "      <th>mean</th>\n",
       "      <td>33.909091</td>\n",
       "      <td>59.701299</td>\n",
       "      <td>5.220779</td>\n",
       "      <td>9.168831</td>\n",
       "      <td>6.571429</td>\n",
       "      <td>3.753247</td>\n",
       "      <td>3.285714</td>\n",
       "      <td>1.259740</td>\n",
       "    </tr>\n",
       "    <tr>\n",
       "      <th>std</th>\n",
       "      <td>5.145723</td>\n",
       "      <td>8.669464</td>\n",
       "      <td>4.109115</td>\n",
       "      <td>4.985248</td>\n",
       "      <td>4.290223</td>\n",
       "      <td>3.116830</td>\n",
       "      <td>2.689439</td>\n",
       "      <td>1.408644</td>\n",
       "    </tr>\n",
       "    <tr>\n",
       "      <th>min</th>\n",
       "      <td>14.000000</td>\n",
       "      <td>35.000000</td>\n",
       "      <td>0.000000</td>\n",
       "      <td>1.000000</td>\n",
       "      <td>0.000000</td>\n",
       "      <td>0.000000</td>\n",
       "      <td>0.000000</td>\n",
       "      <td>0.000000</td>\n",
       "    </tr>\n",
       "    <tr>\n",
       "      <th>25%</th>\n",
       "      <td>32.000000</td>\n",
       "      <td>54.000000</td>\n",
       "      <td>2.000000</td>\n",
       "      <td>5.000000</td>\n",
       "      <td>3.000000</td>\n",
       "      <td>1.000000</td>\n",
       "      <td>0.000000</td>\n",
       "      <td>0.000000</td>\n",
       "    </tr>\n",
       "    <tr>\n",
       "      <th>50%</th>\n",
       "      <td>35.000000</td>\n",
       "      <td>60.000000</td>\n",
       "      <td>4.000000</td>\n",
       "      <td>9.000000</td>\n",
       "      <td>6.000000</td>\n",
       "      <td>4.000000</td>\n",
       "      <td>4.000000</td>\n",
       "      <td>1.000000</td>\n",
       "    </tr>\n",
       "    <tr>\n",
       "      <th>75%</th>\n",
       "      <td>37.000000</td>\n",
       "      <td>66.000000</td>\n",
       "      <td>8.000000</td>\n",
       "      <td>13.000000</td>\n",
       "      <td>9.000000</td>\n",
       "      <td>6.000000</td>\n",
       "      <td>6.000000</td>\n",
       "      <td>2.000000</td>\n",
       "    </tr>\n",
       "    <tr>\n",
       "      <th>max</th>\n",
       "      <td>42.000000</td>\n",
       "      <td>82.000000</td>\n",
       "      <td>16.000000</td>\n",
       "      <td>21.000000</td>\n",
       "      <td>17.000000</td>\n",
       "      <td>14.000000</td>\n",
       "      <td>7.000000</td>\n",
       "      <td>4.000000</td>\n",
       "    </tr>\n",
       "  </tbody>\n",
       "</table>\n",
       "</div>"
      ],
      "text/plain": [
       "              R1         R2         B1         B2         H1         H2  \\\n",
       "count  77.000000  77.000000  77.000000  77.000000  77.000000  77.000000   \n",
       "mean   33.909091  59.701299   5.220779   9.168831   6.571429   3.753247   \n",
       "std     5.145723   8.669464   4.109115   4.985248   4.290223   3.116830   \n",
       "min    14.000000  35.000000   0.000000   1.000000   0.000000   0.000000   \n",
       "25%    32.000000  54.000000   2.000000   5.000000   3.000000   1.000000   \n",
       "50%    35.000000  60.000000   4.000000   9.000000   6.000000   4.000000   \n",
       "75%    37.000000  66.000000   8.000000  13.000000   9.000000   6.000000   \n",
       "max    42.000000  82.000000  16.000000  21.000000  17.000000  14.000000   \n",
       "\n",
       "              F1         F2  \n",
       "count  77.000000  77.000000  \n",
       "mean    3.285714   1.259740  \n",
       "std     2.689439   1.408644  \n",
       "min     0.000000   0.000000  \n",
       "25%     0.000000   0.000000  \n",
       "50%     4.000000   1.000000  \n",
       "75%     6.000000   2.000000  \n",
       "max     7.000000   4.000000  "
      ]
     },
     "execution_count": 10,
     "metadata": {},
     "output_type": "execute_result"
    }
   ],
   "source": [
    "# col_keep = ['Sex', 'Age', 'R1', 'R2', 'B1', 'B2', 'H1', 'H2', 'F1', 'F2', 'Group']\n",
    "col_keep = ['R1', 'R2', 'B1', 'B2', 'H1', 'H2', 'F1', 'F2', 'Group']\n",
    "\n",
    "\n",
    "df = df_in.copy()\n",
    "df = df_in[col_keep]\n",
    "df.describe()"
   ]
  },
  {
   "cell_type": "code",
   "execution_count": 11,
   "id": "22acd640",
   "metadata": {},
   "outputs": [
    {
     "name": "stdout",
     "output_type": "stream",
     "text": [
      "<class 'pandas.core.frame.DataFrame'>\n",
      "RangeIndex: 77 entries, 0 to 76\n",
      "Data columns (total 9 columns):\n",
      " #   Column  Non-Null Count  Dtype  \n",
      "---  ------  --------------  -----  \n",
      " 0   R1      77 non-null     float64\n",
      " 1   R2      77 non-null     float64\n",
      " 2   B1      77 non-null     float64\n",
      " 3   B2      77 non-null     float64\n",
      " 4   H1      77 non-null     float64\n",
      " 5   H2      77 non-null     float64\n",
      " 6   F1      77 non-null     float64\n",
      " 7   F2      77 non-null     float64\n",
      " 8   Group   77 non-null     object \n",
      "dtypes: float64(8), object(1)\n",
      "memory usage: 5.5+ KB\n"
     ]
    }
   ],
   "source": [
    "df.info()"
   ]
  },
  {
   "cell_type": "code",
   "execution_count": 12,
   "id": "6208011d",
   "metadata": {},
   "outputs": [
    {
     "data": {
      "image/png": "[encoded data removed]",
      "text/plain": [
       "<Figure size 1200x1000 with 9 Axes>"
      ]
     },
     "metadata": {},
     "output_type": "display_data"
    }
   ],
   "source": [
    "df.hist(bins = 30, figsize = (12,10), grid = False)\n",
    "plt.show()"
   ]
  },
  {
   "cell_type": "code",
   "execution_count": 13,
   "id": "acfa6fdd",
   "metadata": {},
   "outputs": [
    {
     "data": {
      "text/html": [
       "<div>\n",
       "<style scoped>\n",
       "    .dataframe tbody tr th:only-of-type {\n",
       "        vertical-align: middle;\n",
       "    }\n",
       "\n",
       "    .dataframe tbody tr th {\n",
       "        vertical-align: top;\n",
       "    }\n",
       "\n",
       "    .dataframe thead th {\n",
       "        text-align: right;\n",
       "    }\n",
       "</style>\n",
       "<table border=\"1\" class=\"dataframe\">\n",
       "  <thead>\n",
       "    <tr style=\"text-align: right;\">\n",
       "      <th></th>\n",
       "      <th>R1</th>\n",
       "      <th>R2</th>\n",
       "      <th>B1</th>\n",
       "      <th>B2</th>\n",
       "      <th>H1</th>\n",
       "      <th>H2</th>\n",
       "      <th>F1</th>\n",
       "      <th>F2</th>\n",
       "    </tr>\n",
       "  </thead>\n",
       "  <tbody>\n",
       "    <tr>\n",
       "      <th>0</th>\n",
       "      <td>37.0</td>\n",
       "      <td>63.0</td>\n",
       "      <td>3.0</td>\n",
       "      <td>13.0</td>\n",
       "      <td>1.0</td>\n",
       "      <td>4.0</td>\n",
       "      <td>3.0</td>\n",
       "      <td>0.0</td>\n",
       "    </tr>\n",
       "    <tr>\n",
       "      <th>1</th>\n",
       "      <td>36.0</td>\n",
       "      <td>71.0</td>\n",
       "      <td>8.0</td>\n",
       "      <td>4.0</td>\n",
       "      <td>2.0</td>\n",
       "      <td>3.0</td>\n",
       "      <td>5.0</td>\n",
       "      <td>0.0</td>\n",
       "    </tr>\n",
       "    <tr>\n",
       "      <th>2</th>\n",
       "      <td>35.0</td>\n",
       "      <td>63.0</td>\n",
       "      <td>14.0</td>\n",
       "      <td>20.0</td>\n",
       "      <td>7.0</td>\n",
       "      <td>1.0</td>\n",
       "      <td>6.0</td>\n",
       "      <td>2.0</td>\n",
       "    </tr>\n",
       "    <tr>\n",
       "      <th>3</th>\n",
       "      <td>37.0</td>\n",
       "      <td>51.0</td>\n",
       "      <td>8.0</td>\n",
       "      <td>12.0</td>\n",
       "      <td>7.0</td>\n",
       "      <td>7.0</td>\n",
       "      <td>7.0</td>\n",
       "      <td>4.0</td>\n",
       "    </tr>\n",
       "    <tr>\n",
       "      <th>4</th>\n",
       "      <td>30.0</td>\n",
       "      <td>55.0</td>\n",
       "      <td>7.0</td>\n",
       "      <td>6.0</td>\n",
       "      <td>13.0</td>\n",
       "      <td>6.0</td>\n",
       "      <td>1.0</td>\n",
       "      <td>1.0</td>\n",
       "    </tr>\n",
       "    <tr>\n",
       "      <th>...</th>\n",
       "      <td>...</td>\n",
       "      <td>...</td>\n",
       "      <td>...</td>\n",
       "      <td>...</td>\n",
       "      <td>...</td>\n",
       "      <td>...</td>\n",
       "      <td>...</td>\n",
       "      <td>...</td>\n",
       "    </tr>\n",
       "    <tr>\n",
       "      <th>72</th>\n",
       "      <td>20.0</td>\n",
       "      <td>46.0</td>\n",
       "      <td>11.0</td>\n",
       "      <td>13.0</td>\n",
       "      <td>12.0</td>\n",
       "      <td>4.0</td>\n",
       "      <td>4.0</td>\n",
       "      <td>1.0</td>\n",
       "    </tr>\n",
       "    <tr>\n",
       "      <th>73</th>\n",
       "      <td>35.0</td>\n",
       "      <td>51.0</td>\n",
       "      <td>0.0</td>\n",
       "      <td>3.0</td>\n",
       "      <td>8.0</td>\n",
       "      <td>1.0</td>\n",
       "      <td>5.0</td>\n",
       "      <td>2.0</td>\n",
       "    </tr>\n",
       "    <tr>\n",
       "      <th>74</th>\n",
       "      <td>40.0</td>\n",
       "      <td>66.0</td>\n",
       "      <td>2.0</td>\n",
       "      <td>3.0</td>\n",
       "      <td>11.0</td>\n",
       "      <td>7.0</td>\n",
       "      <td>3.0</td>\n",
       "      <td>0.0</td>\n",
       "    </tr>\n",
       "    <tr>\n",
       "      <th>75</th>\n",
       "      <td>35.0</td>\n",
       "      <td>66.0</td>\n",
       "      <td>3.0</td>\n",
       "      <td>13.0</td>\n",
       "      <td>8.0</td>\n",
       "      <td>2.0</td>\n",
       "      <td>2.0</td>\n",
       "      <td>1.0</td>\n",
       "    </tr>\n",
       "    <tr>\n",
       "      <th>76</th>\n",
       "      <td>34.0</td>\n",
       "      <td>82.0</td>\n",
       "      <td>7.0</td>\n",
       "      <td>12.0</td>\n",
       "      <td>6.0</td>\n",
       "      <td>0.0</td>\n",
       "      <td>1.0</td>\n",
       "      <td>0.0</td>\n",
       "    </tr>\n",
       "  </tbody>\n",
       "</table>\n",
       "<p>77 rows × 8 columns</p>\n",
       "</div>"
      ],
      "text/plain": [
       "      R1    R2    B1    B2    H1   H2   F1   F2\n",
       "0   37.0  63.0   3.0  13.0   1.0  4.0  3.0  0.0\n",
       "1   36.0  71.0   8.0   4.0   2.0  3.0  5.0  0.0\n",
       "2   35.0  63.0  14.0  20.0   7.0  1.0  6.0  2.0\n",
       "3   37.0  51.0   8.0  12.0   7.0  7.0  7.0  4.0\n",
       "4   30.0  55.0   7.0   6.0  13.0  6.0  1.0  1.0\n",
       "..   ...   ...   ...   ...   ...  ...  ...  ...\n",
       "72  20.0  46.0  11.0  13.0  12.0  4.0  4.0  1.0\n",
       "73  35.0  51.0   0.0   3.0   8.0  1.0  5.0  2.0\n",
       "74  40.0  66.0   2.0   3.0  11.0  7.0  3.0  0.0\n",
       "75  35.0  66.0   3.0  13.0   8.0  2.0  2.0  1.0\n",
       "76  34.0  82.0   7.0  12.0   6.0  0.0  1.0  0.0\n",
       "\n",
       "[77 rows x 8 columns]"
      ]
     },
     "execution_count": 13,
     "metadata": {},
     "output_type": "execute_result"
    }
   ],
   "source": [
    "data = df.drop('Group', axis=1)\n",
    "data"
   ]
  },
  {
   "cell_type": "markdown",
   "id": "692e356b",
   "metadata": {},
   "source": [
    "## Using PyCaret"
   ]
  },
  {
   "cell_type": "markdown",
   "id": "b6134584",
   "metadata": {},
   "source": [
    "We use PyCaret to automatically prepare the data for us (using the default settings of the setup function):\n",
    "\n",
    "Seen as an **unsupervised classification problem**\n",
    "\n",
    "**Features (X):** R1, R2, B1, B2, H1, H2, F1, F2<br>\n",
    "**Labels (y):** Group (IBS or HC)"
   ]
  },
  {
   "cell_type": "code",
   "execution_count": 15,
   "id": "bbf28c65",
   "metadata": {},
   "outputs": [],
   "source": [
    "from pycaret.clustering import *"
   ]
  },
  {
   "cell_type": "markdown",
   "id": "feb56528",
   "metadata": {},
   "source": [
    "First intro to Kmeans with PyCaret (`exp_clu101`)"
   ]
  },
  {
   "cell_type": "code",
   "execution_count": 16,
   "id": "db8291e7",
   "metadata": {},
   "outputs": [
    {
     "data": {
      "text/html": [
       "<style type=\"text/css\">\n",
       "#T_15816_row4_col1, #T_15816_row8_col1 {\n",
       "  background-color: lightgreen;\n",
       "}\n",
       "</style>\n",
       "<table id=\"T_15816\">\n",
       "  <thead>\n",
       "    <tr>\n",
       "      <th class=\"blank level0\" >&nbsp;</th>\n",
       "      <th id=\"T_15816_level0_col0\" class=\"col_heading level0 col0\" >Description</th>\n",
       "      <th id=\"T_15816_level0_col1\" class=\"col_heading level0 col1\" >Value</th>\n",
       "    </tr>\n",
       "  </thead>\n",
       "  <tbody>\n",
       "    <tr>\n",
       "      <th id=\"T_15816_level0_row0\" class=\"row_heading level0 row0\" >0</th>\n",
       "      <td id=\"T_15816_row0_col0\" class=\"data row0 col0\" >Session id</td>\n",
       "      <td id=\"T_15816_row0_col1\" class=\"data row0 col1\" >123</td>\n",
       "    </tr>\n",
       "    <tr>\n",
       "      <th id=\"T_15816_level0_row1\" class=\"row_heading level0 row1\" >1</th>\n",
       "      <td id=\"T_15816_row1_col0\" class=\"data row1 col0\" >Original data shape</td>\n",
       "      <td id=\"T_15816_row1_col1\" class=\"data row1 col1\" >(77, 8)</td>\n",
       "    </tr>\n",
       "    <tr>\n",
       "      <th id=\"T_15816_level0_row2\" class=\"row_heading level0 row2\" >2</th>\n",
       "      <td id=\"T_15816_row2_col0\" class=\"data row2 col0\" >Transformed data shape</td>\n",
       "      <td id=\"T_15816_row2_col1\" class=\"data row2 col1\" >(77, 8)</td>\n",
       "    </tr>\n",
       "    <tr>\n",
       "      <th id=\"T_15816_level0_row3\" class=\"row_heading level0 row3\" >3</th>\n",
       "      <td id=\"T_15816_row3_col0\" class=\"data row3 col0\" >Numeric features</td>\n",
       "      <td id=\"T_15816_row3_col1\" class=\"data row3 col1\" >8</td>\n",
       "    </tr>\n",
       "    <tr>\n",
       "      <th id=\"T_15816_level0_row4\" class=\"row_heading level0 row4\" >4</th>\n",
       "      <td id=\"T_15816_row4_col0\" class=\"data row4 col0\" >Preprocess</td>\n",
       "      <td id=\"T_15816_row4_col1\" class=\"data row4 col1\" >True</td>\n",
       "    </tr>\n",
       "    <tr>\n",
       "      <th id=\"T_15816_level0_row5\" class=\"row_heading level0 row5\" >5</th>\n",
       "      <td id=\"T_15816_row5_col0\" class=\"data row5 col0\" >Imputation type</td>\n",
       "      <td id=\"T_15816_row5_col1\" class=\"data row5 col1\" >simple</td>\n",
       "    </tr>\n",
       "    <tr>\n",
       "      <th id=\"T_15816_level0_row6\" class=\"row_heading level0 row6\" >6</th>\n",
       "      <td id=\"T_15816_row6_col0\" class=\"data row6 col0\" >Numeric imputation</td>\n",
       "      <td id=\"T_15816_row6_col1\" class=\"data row6 col1\" >mean</td>\n",
       "    </tr>\n",
       "    <tr>\n",
       "      <th id=\"T_15816_level0_row7\" class=\"row_heading level0 row7\" >7</th>\n",
       "      <td id=\"T_15816_row7_col0\" class=\"data row7 col0\" >Categorical imputation</td>\n",
       "      <td id=\"T_15816_row7_col1\" class=\"data row7 col1\" >mode</td>\n",
       "    </tr>\n",
       "    <tr>\n",
       "      <th id=\"T_15816_level0_row8\" class=\"row_heading level0 row8\" >8</th>\n",
       "      <td id=\"T_15816_row8_col0\" class=\"data row8 col0\" >Normalize</td>\n",
       "      <td id=\"T_15816_row8_col1\" class=\"data row8 col1\" >True</td>\n",
       "    </tr>\n",
       "    <tr>\n",
       "      <th id=\"T_15816_level0_row9\" class=\"row_heading level0 row9\" >9</th>\n",
       "      <td id=\"T_15816_row9_col0\" class=\"data row9 col0\" >Normalize method</td>\n",
       "      <td id=\"T_15816_row9_col1\" class=\"data row9 col1\" >zscore</td>\n",
       "    </tr>\n",
       "    <tr>\n",
       "      <th id=\"T_15816_level0_row10\" class=\"row_heading level0 row10\" >10</th>\n",
       "      <td id=\"T_15816_row10_col0\" class=\"data row10 col0\" >CPU Jobs</td>\n",
       "      <td id=\"T_15816_row10_col1\" class=\"data row10 col1\" >-1</td>\n",
       "    </tr>\n",
       "    <tr>\n",
       "      <th id=\"T_15816_level0_row11\" class=\"row_heading level0 row11\" >11</th>\n",
       "      <td id=\"T_15816_row11_col0\" class=\"data row11 col0\" >Use GPU</td>\n",
       "      <td id=\"T_15816_row11_col1\" class=\"data row11 col1\" >False</td>\n",
       "    </tr>\n",
       "    <tr>\n",
       "      <th id=\"T_15816_level0_row12\" class=\"row_heading level0 row12\" >12</th>\n",
       "      <td id=\"T_15816_row12_col0\" class=\"data row12 col0\" >Log Experiment</td>\n",
       "      <td id=\"T_15816_row12_col1\" class=\"data row12 col1\" >False</td>\n",
       "    </tr>\n",
       "    <tr>\n",
       "      <th id=\"T_15816_level0_row13\" class=\"row_heading level0 row13\" >13</th>\n",
       "      <td id=\"T_15816_row13_col0\" class=\"data row13 col0\" >Experiment Name</td>\n",
       "      <td id=\"T_15816_row13_col1\" class=\"data row13 col1\" >cluster-default-name</td>\n",
       "    </tr>\n",
       "    <tr>\n",
       "      <th id=\"T_15816_level0_row14\" class=\"row_heading level0 row14\" >14</th>\n",
       "      <td id=\"T_15816_row14_col0\" class=\"data row14 col0\" >USI</td>\n",
       "      <td id=\"T_15816_row14_col1\" class=\"data row14 col1\" >3714</td>\n",
       "    </tr>\n",
       "  </tbody>\n",
       "</table>\n"
      ],
      "text/plain": [
       "<pandas.io.formats.style.Styler at 0x14e4eac90>"
      ]
     },
     "metadata": {},
     "output_type": "display_data"
    }
   ],
   "source": [
    "exp_clu101 = setup(data, normalize = True, session_id = 123)"
   ]
  },
  {
   "cell_type": "code",
   "execution_count": 17,
   "id": "a292af46",
   "metadata": {},
   "outputs": [
    {
     "data": {
      "text/html": [],
      "text/plain": [
       "<IPython.core.display.HTML object>"
      ]
     },
     "metadata": {},
     "output_type": "display_data"
    },
    {
     "data": {
      "text/html": [
       "<style type=\"text/css\">\n",
       "</style>\n",
       "<table id=\"T_484d5\">\n",
       "  <thead>\n",
       "    <tr>\n",
       "      <th class=\"blank level0\" >&nbsp;</th>\n",
       "      <th id=\"T_484d5_level0_col0\" class=\"col_heading level0 col0\" >Silhouette</th>\n",
       "      <th id=\"T_484d5_level0_col1\" class=\"col_heading level0 col1\" >Calinski-Harabasz</th>\n",
       "      <th id=\"T_484d5_level0_col2\" class=\"col_heading level0 col2\" >Davies-Bouldin</th>\n",
       "      <th id=\"T_484d5_level0_col3\" class=\"col_heading level0 col3\" >Homogeneity</th>\n",
       "      <th id=\"T_484d5_level0_col4\" class=\"col_heading level0 col4\" >Rand Index</th>\n",
       "      <th id=\"T_484d5_level0_col5\" class=\"col_heading level0 col5\" >Completeness</th>\n",
       "    </tr>\n",
       "  </thead>\n",
       "  <tbody>\n",
       "    <tr>\n",
       "      <th id=\"T_484d5_level0_row0\" class=\"row_heading level0 row0\" >0</th>\n",
       "      <td id=\"T_484d5_row0_col0\" class=\"data row0 col0\" >0.1545</td>\n",
       "      <td id=\"T_484d5_row0_col1\" class=\"data row0 col1\" >17.9228</td>\n",
       "      <td id=\"T_484d5_row0_col2\" class=\"data row0 col2\" >1.8775</td>\n",
       "      <td id=\"T_484d5_row0_col3\" class=\"data row0 col3\" >0</td>\n",
       "      <td id=\"T_484d5_row0_col4\" class=\"data row0 col4\" >0</td>\n",
       "      <td id=\"T_484d5_row0_col5\" class=\"data row0 col5\" >0</td>\n",
       "    </tr>\n",
       "  </tbody>\n",
       "</table>\n"
      ],
      "text/plain": [
       "<pandas.io.formats.style.Styler at 0x14e551610>"
      ]
     },
     "metadata": {},
     "output_type": "display_data"
    },
    {
     "data": {
      "text/html": [],
      "text/plain": [
       "<IPython.core.display.HTML object>"
      ]
     },
     "metadata": {},
     "output_type": "display_data"
    }
   ],
   "source": [
    "# num_clusters: int, default = 4\n",
    "kmeans = create_model('kmeans')"
   ]
  },
  {
   "cell_type": "code",
   "execution_count": 18,
   "id": "c01d067e",
   "metadata": {},
   "outputs": [
    {
     "name": "stdout",
     "output_type": "stream",
     "text": [
      "KMeans(n_clusters=4, random_state=123)\n"
     ]
    }
   ],
   "source": [
    "print(kmeans)"
   ]
  },
  {
   "cell_type": "code",
   "execution_count": 19,
   "id": "e5aba395",
   "metadata": {},
   "outputs": [
    {
     "data": {
      "text/html": [
       "<div>\n",
       "<style scoped>\n",
       "    .dataframe tbody tr th:only-of-type {\n",
       "        vertical-align: middle;\n",
       "    }\n",
       "\n",
       "    .dataframe tbody tr th {\n",
       "        vertical-align: top;\n",
       "    }\n",
       "\n",
       "    .dataframe thead th {\n",
       "        text-align: right;\n",
       "    }\n",
       "</style>\n",
       "<table border=\"1\" class=\"dataframe\">\n",
       "  <thead>\n",
       "    <tr style=\"text-align: right;\">\n",
       "      <th></th>\n",
       "      <th>Name</th>\n",
       "      <th>Reference</th>\n",
       "    </tr>\n",
       "    <tr>\n",
       "      <th>ID</th>\n",
       "      <th></th>\n",
       "      <th></th>\n",
       "    </tr>\n",
       "  </thead>\n",
       "  <tbody>\n",
       "    <tr>\n",
       "      <th>kmeans</th>\n",
       "      <td>K-Means Clustering</td>\n",
       "      <td>sklearn.cluster._kmeans.KMeans</td>\n",
       "    </tr>\n",
       "    <tr>\n",
       "      <th>ap</th>\n",
       "      <td>Affinity Propagation</td>\n",
       "      <td>sklearn.cluster._affinity_propagation.Affinity...</td>\n",
       "    </tr>\n",
       "    <tr>\n",
       "      <th>meanshift</th>\n",
       "      <td>Mean Shift Clustering</td>\n",
       "      <td>sklearn.cluster._mean_shift.MeanShift</td>\n",
       "    </tr>\n",
       "    <tr>\n",
       "      <th>sc</th>\n",
       "      <td>Spectral Clustering</td>\n",
       "      <td>sklearn.cluster._spectral.SpectralClustering</td>\n",
       "    </tr>\n",
       "    <tr>\n",
       "      <th>hclust</th>\n",
       "      <td>Agglomerative Clustering</td>\n",
       "      <td>sklearn.cluster._agglomerative.AgglomerativeCl...</td>\n",
       "    </tr>\n",
       "    <tr>\n",
       "      <th>dbscan</th>\n",
       "      <td>Density-Based Spatial Clustering</td>\n",
       "      <td>sklearn.cluster._dbscan.DBSCAN</td>\n",
       "    </tr>\n",
       "    <tr>\n",
       "      <th>optics</th>\n",
       "      <td>OPTICS Clustering</td>\n",
       "      <td>sklearn.cluster._optics.OPTICS</td>\n",
       "    </tr>\n",
       "    <tr>\n",
       "      <th>birch</th>\n",
       "      <td>Birch Clustering</td>\n",
       "      <td>sklearn.cluster._birch.Birch</td>\n",
       "    </tr>\n",
       "  </tbody>\n",
       "</table>\n",
       "</div>"
      ],
      "text/plain": [
       "                                       Name  \\\n",
       "ID                                            \n",
       "kmeans                   K-Means Clustering   \n",
       "ap                     Affinity Propagation   \n",
       "meanshift             Mean Shift Clustering   \n",
       "sc                      Spectral Clustering   \n",
       "hclust             Agglomerative Clustering   \n",
       "dbscan     Density-Based Spatial Clustering   \n",
       "optics                    OPTICS Clustering   \n",
       "birch                      Birch Clustering   \n",
       "\n",
       "                                                   Reference  \n",
       "ID                                                            \n",
       "kmeans                        sklearn.cluster._kmeans.KMeans  \n",
       "ap         sklearn.cluster._affinity_propagation.Affinity...  \n",
       "meanshift              sklearn.cluster._mean_shift.MeanShift  \n",
       "sc              sklearn.cluster._spectral.SpectralClustering  \n",
       "hclust     sklearn.cluster._agglomerative.AgglomerativeCl...  \n",
       "dbscan                        sklearn.cluster._dbscan.DBSCAN  \n",
       "optics                        sklearn.cluster._optics.OPTICS  \n",
       "birch                           sklearn.cluster._birch.Birch  "
      ]
     },
     "execution_count": 19,
     "metadata": {},
     "output_type": "execute_result"
    }
   ],
   "source": [
    "models()"
   ]
  },
  {
   "cell_type": "code",
   "execution_count": 20,
   "id": "3cb3c22e",
   "metadata": {},
   "outputs": [
    {
     "data": {
      "text/html": [
       "<div>\n",
       "<style scoped>\n",
       "    .dataframe tbody tr th:only-of-type {\n",
       "        vertical-align: middle;\n",
       "    }\n",
       "\n",
       "    .dataframe tbody tr th {\n",
       "        vertical-align: top;\n",
       "    }\n",
       "\n",
       "    .dataframe thead th {\n",
       "        text-align: right;\n",
       "    }\n",
       "</style>\n",
       "<table border=\"1\" class=\"dataframe\">\n",
       "  <thead>\n",
       "    <tr style=\"text-align: right;\">\n",
       "      <th></th>\n",
       "      <th>Name</th>\n",
       "      <th>Display Name</th>\n",
       "      <th>Score Function</th>\n",
       "      <th>Scorer</th>\n",
       "      <th>Target</th>\n",
       "      <th>Args</th>\n",
       "      <th>Greater is Better</th>\n",
       "      <th>Needs Ground Truth</th>\n",
       "      <th>Custom</th>\n",
       "    </tr>\n",
       "    <tr>\n",
       "      <th>ID</th>\n",
       "      <th></th>\n",
       "      <th></th>\n",
       "      <th></th>\n",
       "      <th></th>\n",
       "      <th></th>\n",
       "      <th></th>\n",
       "      <th></th>\n",
       "      <th></th>\n",
       "      <th></th>\n",
       "    </tr>\n",
       "  </thead>\n",
       "  <tbody>\n",
       "    <tr>\n",
       "      <th>silhouette</th>\n",
       "      <td>Silhouette</td>\n",
       "      <td>Silhouette</td>\n",
       "      <td>&lt;function silhouette_score at 0x1437c5440&gt;</td>\n",
       "      <td>make_scorer(silhouette_score, response_method=...</td>\n",
       "      <td>pred</td>\n",
       "      <td>{}</td>\n",
       "      <td>True</td>\n",
       "      <td>False</td>\n",
       "      <td>False</td>\n",
       "    </tr>\n",
       "    <tr>\n",
       "      <th>chs</th>\n",
       "      <td>Calinski-Harabasz</td>\n",
       "      <td>Calinski-Harabasz</td>\n",
       "      <td>&lt;function calinski_harabasz_score at 0x1437c5760&gt;</td>\n",
       "      <td>make_scorer(calinski_harabasz_score, response_...</td>\n",
       "      <td>pred</td>\n",
       "      <td>{}</td>\n",
       "      <td>True</td>\n",
       "      <td>False</td>\n",
       "      <td>False</td>\n",
       "    </tr>\n",
       "    <tr>\n",
       "      <th>db</th>\n",
       "      <td>Davies-Bouldin</td>\n",
       "      <td>Davies-Bouldin</td>\n",
       "      <td>&lt;function davies_bouldin_score at 0x1437c58a0&gt;</td>\n",
       "      <td>make_scorer(davies_bouldin_score, response_met...</td>\n",
       "      <td>pred</td>\n",
       "      <td>{}</td>\n",
       "      <td>True</td>\n",
       "      <td>False</td>\n",
       "      <td>False</td>\n",
       "    </tr>\n",
       "    <tr>\n",
       "      <th>hs</th>\n",
       "      <td>Homogeneity Score</td>\n",
       "      <td>Homogeneity</td>\n",
       "      <td>&lt;function homogeneity_score at 0x143567e20&gt;</td>\n",
       "      <td>make_scorer(homogeneity_score, response_method...</td>\n",
       "      <td>pred</td>\n",
       "      <td>{}</td>\n",
       "      <td>True</td>\n",
       "      <td>True</td>\n",
       "      <td>False</td>\n",
       "    </tr>\n",
       "    <tr>\n",
       "      <th>ari</th>\n",
       "      <td>Rand Index</td>\n",
       "      <td>Rand Index</td>\n",
       "      <td>&lt;function adjusted_rand_score at 0x143567ba0&gt;</td>\n",
       "      <td>make_scorer(adjusted_rand_score, response_meth...</td>\n",
       "      <td>pred</td>\n",
       "      <td>{}</td>\n",
       "      <td>True</td>\n",
       "      <td>True</td>\n",
       "      <td>False</td>\n",
       "    </tr>\n",
       "    <tr>\n",
       "      <th>cs</th>\n",
       "      <td>Completeness Score</td>\n",
       "      <td>Completeness</td>\n",
       "      <td>&lt;function completeness_score at 0x143567f60&gt;</td>\n",
       "      <td>make_scorer(completeness_score, response_metho...</td>\n",
       "      <td>pred</td>\n",
       "      <td>{}</td>\n",
       "      <td>True</td>\n",
       "      <td>True</td>\n",
       "      <td>False</td>\n",
       "    </tr>\n",
       "  </tbody>\n",
       "</table>\n",
       "</div>"
      ],
      "text/plain": [
       "                          Name       Display Name  \\\n",
       "ID                                                  \n",
       "silhouette          Silhouette         Silhouette   \n",
       "chs          Calinski-Harabasz  Calinski-Harabasz   \n",
       "db              Davies-Bouldin     Davies-Bouldin   \n",
       "hs           Homogeneity Score        Homogeneity   \n",
       "ari                 Rand Index         Rand Index   \n",
       "cs          Completeness Score       Completeness   \n",
       "\n",
       "                                               Score Function  \\\n",
       "ID                                                              \n",
       "silhouette         <function silhouette_score at 0x1437c5440>   \n",
       "chs         <function calinski_harabasz_score at 0x1437c5760>   \n",
       "db             <function davies_bouldin_score at 0x1437c58a0>   \n",
       "hs                <function homogeneity_score at 0x143567e20>   \n",
       "ari             <function adjusted_rand_score at 0x143567ba0>   \n",
       "cs               <function completeness_score at 0x143567f60>   \n",
       "\n",
       "                                                       Scorer Target Args  \\\n",
       "ID                                                                          \n",
       "silhouette  make_scorer(silhouette_score, response_method=...   pred   {}   \n",
       "chs         make_scorer(calinski_harabasz_score, response_...   pred   {}   \n",
       "db          make_scorer(davies_bouldin_score, response_met...   pred   {}   \n",
       "hs          make_scorer(homogeneity_score, response_method...   pred   {}   \n",
       "ari         make_scorer(adjusted_rand_score, response_meth...   pred   {}   \n",
       "cs          make_scorer(completeness_score, response_metho...   pred   {}   \n",
       "\n",
       "            Greater is Better  Needs Ground Truth  Custom  \n",
       "ID                                                         \n",
       "silhouette               True               False   False  \n",
       "chs                      True               False   False  \n",
       "db                       True               False   False  \n",
       "hs                       True                True   False  \n",
       "ari                      True                True   False  \n",
       "cs                       True                True   False  "
      ]
     },
     "execution_count": 20,
     "metadata": {},
     "output_type": "execute_result"
    }
   ],
   "source": [
    "get_metrics()"
   ]
  },
  {
   "cell_type": "code",
   "execution_count": 21,
   "id": "62a4704a",
   "metadata": {},
   "outputs": [
    {
     "data": {
      "text/html": [
       "<div>\n",
       "<style scoped>\n",
       "    .dataframe tbody tr th:only-of-type {\n",
       "        vertical-align: middle;\n",
       "    }\n",
       "\n",
       "    .dataframe tbody tr th {\n",
       "        vertical-align: top;\n",
       "    }\n",
       "\n",
       "    .dataframe thead th {\n",
       "        text-align: right;\n",
       "    }\n",
       "</style>\n",
       "<table border=\"1\" class=\"dataframe\">\n",
       "  <thead>\n",
       "    <tr style=\"text-align: right;\">\n",
       "      <th></th>\n",
       "      <th>R1</th>\n",
       "      <th>R2</th>\n",
       "      <th>B1</th>\n",
       "      <th>B2</th>\n",
       "      <th>H1</th>\n",
       "      <th>H2</th>\n",
       "      <th>F1</th>\n",
       "      <th>F2</th>\n",
       "      <th>Cluster</th>\n",
       "    </tr>\n",
       "  </thead>\n",
       "  <tbody>\n",
       "    <tr>\n",
       "      <th>0</th>\n",
       "      <td>37.0</td>\n",
       "      <td>63.0</td>\n",
       "      <td>3.0</td>\n",
       "      <td>13.0</td>\n",
       "      <td>1.0</td>\n",
       "      <td>4.0</td>\n",
       "      <td>3.0</td>\n",
       "      <td>0.0</td>\n",
       "      <td>Cluster 0</td>\n",
       "    </tr>\n",
       "    <tr>\n",
       "      <th>1</th>\n",
       "      <td>36.0</td>\n",
       "      <td>71.0</td>\n",
       "      <td>8.0</td>\n",
       "      <td>4.0</td>\n",
       "      <td>2.0</td>\n",
       "      <td>3.0</td>\n",
       "      <td>5.0</td>\n",
       "      <td>0.0</td>\n",
       "      <td>Cluster 0</td>\n",
       "    </tr>\n",
       "    <tr>\n",
       "      <th>2</th>\n",
       "      <td>35.0</td>\n",
       "      <td>63.0</td>\n",
       "      <td>14.0</td>\n",
       "      <td>20.0</td>\n",
       "      <td>7.0</td>\n",
       "      <td>1.0</td>\n",
       "      <td>6.0</td>\n",
       "      <td>2.0</td>\n",
       "      <td>Cluster 2</td>\n",
       "    </tr>\n",
       "    <tr>\n",
       "      <th>3</th>\n",
       "      <td>37.0</td>\n",
       "      <td>51.0</td>\n",
       "      <td>8.0</td>\n",
       "      <td>12.0</td>\n",
       "      <td>7.0</td>\n",
       "      <td>7.0</td>\n",
       "      <td>7.0</td>\n",
       "      <td>4.0</td>\n",
       "      <td>Cluster 3</td>\n",
       "    </tr>\n",
       "    <tr>\n",
       "      <th>4</th>\n",
       "      <td>30.0</td>\n",
       "      <td>55.0</td>\n",
       "      <td>7.0</td>\n",
       "      <td>6.0</td>\n",
       "      <td>13.0</td>\n",
       "      <td>6.0</td>\n",
       "      <td>1.0</td>\n",
       "      <td>1.0</td>\n",
       "      <td>Cluster 2</td>\n",
       "    </tr>\n",
       "    <tr>\n",
       "      <th>...</th>\n",
       "      <td>...</td>\n",
       "      <td>...</td>\n",
       "      <td>...</td>\n",
       "      <td>...</td>\n",
       "      <td>...</td>\n",
       "      <td>...</td>\n",
       "      <td>...</td>\n",
       "      <td>...</td>\n",
       "      <td>...</td>\n",
       "    </tr>\n",
       "    <tr>\n",
       "      <th>72</th>\n",
       "      <td>20.0</td>\n",
       "      <td>46.0</td>\n",
       "      <td>11.0</td>\n",
       "      <td>13.0</td>\n",
       "      <td>12.0</td>\n",
       "      <td>4.0</td>\n",
       "      <td>4.0</td>\n",
       "      <td>1.0</td>\n",
       "      <td>Cluster 2</td>\n",
       "    </tr>\n",
       "    <tr>\n",
       "      <th>73</th>\n",
       "      <td>35.0</td>\n",
       "      <td>51.0</td>\n",
       "      <td>0.0</td>\n",
       "      <td>3.0</td>\n",
       "      <td>8.0</td>\n",
       "      <td>1.0</td>\n",
       "      <td>5.0</td>\n",
       "      <td>2.0</td>\n",
       "      <td>Cluster 1</td>\n",
       "    </tr>\n",
       "    <tr>\n",
       "      <th>74</th>\n",
       "      <td>40.0</td>\n",
       "      <td>66.0</td>\n",
       "      <td>2.0</td>\n",
       "      <td>3.0</td>\n",
       "      <td>11.0</td>\n",
       "      <td>7.0</td>\n",
       "      <td>3.0</td>\n",
       "      <td>0.0</td>\n",
       "      <td>Cluster 0</td>\n",
       "    </tr>\n",
       "    <tr>\n",
       "      <th>75</th>\n",
       "      <td>35.0</td>\n",
       "      <td>66.0</td>\n",
       "      <td>3.0</td>\n",
       "      <td>13.0</td>\n",
       "      <td>8.0</td>\n",
       "      <td>2.0</td>\n",
       "      <td>2.0</td>\n",
       "      <td>1.0</td>\n",
       "      <td>Cluster 0</td>\n",
       "    </tr>\n",
       "    <tr>\n",
       "      <th>76</th>\n",
       "      <td>34.0</td>\n",
       "      <td>82.0</td>\n",
       "      <td>7.0</td>\n",
       "      <td>12.0</td>\n",
       "      <td>6.0</td>\n",
       "      <td>0.0</td>\n",
       "      <td>1.0</td>\n",
       "      <td>0.0</td>\n",
       "      <td>Cluster 0</td>\n",
       "    </tr>\n",
       "  </tbody>\n",
       "</table>\n",
       "<p>77 rows × 9 columns</p>\n",
       "</div>"
      ],
      "text/plain": [
       "      R1    R2    B1    B2    H1   H2   F1   F2    Cluster\n",
       "0   37.0  63.0   3.0  13.0   1.0  4.0  3.0  0.0  Cluster 0\n",
       "1   36.0  71.0   8.0   4.0   2.0  3.0  5.0  0.0  Cluster 0\n",
       "2   35.0  63.0  14.0  20.0   7.0  1.0  6.0  2.0  Cluster 2\n",
       "3   37.0  51.0   8.0  12.0   7.0  7.0  7.0  4.0  Cluster 3\n",
       "4   30.0  55.0   7.0   6.0  13.0  6.0  1.0  1.0  Cluster 2\n",
       "..   ...   ...   ...   ...   ...  ...  ...  ...        ...\n",
       "72  20.0  46.0  11.0  13.0  12.0  4.0  4.0  1.0  Cluster 2\n",
       "73  35.0  51.0   0.0   3.0   8.0  1.0  5.0  2.0  Cluster 1\n",
       "74  40.0  66.0   2.0   3.0  11.0  7.0  3.0  0.0  Cluster 0\n",
       "75  35.0  66.0   3.0  13.0   8.0  2.0  2.0  1.0  Cluster 0\n",
       "76  34.0  82.0   7.0  12.0   6.0  0.0  1.0  0.0  Cluster 0\n",
       "\n",
       "[77 rows x 9 columns]"
      ]
     },
     "execution_count": 21,
     "metadata": {},
     "output_type": "execute_result"
    }
   ],
   "source": [
    "kmeans_df = assign_model(kmeans)\n",
    "kmeans_df"
   ]
  },
  {
   "cell_type": "code",
   "execution_count": 22,
   "id": "8a919ef5",
   "metadata": {},
   "outputs": [
    {
     "data": {
      "text/html": [
       "<div>\n",
       "<style scoped>\n",
       "    .dataframe tbody tr th:only-of-type {\n",
       "        vertical-align: middle;\n",
       "    }\n",
       "\n",
       "    .dataframe tbody tr th {\n",
       "        vertical-align: top;\n",
       "    }\n",
       "\n",
       "    .dataframe thead th {\n",
       "        text-align: right;\n",
       "    }\n",
       "</style>\n",
       "<table border=\"1\" class=\"dataframe\">\n",
       "  <thead>\n",
       "    <tr style=\"text-align: right;\">\n",
       "      <th></th>\n",
       "      <th>R1</th>\n",
       "      <th>R2</th>\n",
       "      <th>B1</th>\n",
       "      <th>B2</th>\n",
       "      <th>H1</th>\n",
       "      <th>H2</th>\n",
       "      <th>F1</th>\n",
       "      <th>F2</th>\n",
       "      <th>Cluster</th>\n",
       "    </tr>\n",
       "  </thead>\n",
       "  <tbody>\n",
       "    <tr>\n",
       "      <th>0</th>\n",
       "      <td>37.0</td>\n",
       "      <td>63.0</td>\n",
       "      <td>3.0</td>\n",
       "      <td>13.0</td>\n",
       "      <td>1.0</td>\n",
       "      <td>4.0</td>\n",
       "      <td>3.0</td>\n",
       "      <td>0.0</td>\n",
       "      <td>Cluster 0</td>\n",
       "    </tr>\n",
       "    <tr>\n",
       "      <th>1</th>\n",
       "      <td>36.0</td>\n",
       "      <td>71.0</td>\n",
       "      <td>8.0</td>\n",
       "      <td>4.0</td>\n",
       "      <td>2.0</td>\n",
       "      <td>3.0</td>\n",
       "      <td>5.0</td>\n",
       "      <td>0.0</td>\n",
       "      <td>Cluster 0</td>\n",
       "    </tr>\n",
       "    <tr>\n",
       "      <th>2</th>\n",
       "      <td>35.0</td>\n",
       "      <td>63.0</td>\n",
       "      <td>14.0</td>\n",
       "      <td>20.0</td>\n",
       "      <td>7.0</td>\n",
       "      <td>1.0</td>\n",
       "      <td>6.0</td>\n",
       "      <td>2.0</td>\n",
       "      <td>Cluster 2</td>\n",
       "    </tr>\n",
       "    <tr>\n",
       "      <th>3</th>\n",
       "      <td>37.0</td>\n",
       "      <td>51.0</td>\n",
       "      <td>8.0</td>\n",
       "      <td>12.0</td>\n",
       "      <td>7.0</td>\n",
       "      <td>7.0</td>\n",
       "      <td>7.0</td>\n",
       "      <td>4.0</td>\n",
       "      <td>Cluster 3</td>\n",
       "    </tr>\n",
       "    <tr>\n",
       "      <th>4</th>\n",
       "      <td>30.0</td>\n",
       "      <td>55.0</td>\n",
       "      <td>7.0</td>\n",
       "      <td>6.0</td>\n",
       "      <td>13.0</td>\n",
       "      <td>6.0</td>\n",
       "      <td>1.0</td>\n",
       "      <td>1.0</td>\n",
       "      <td>Cluster 2</td>\n",
       "    </tr>\n",
       "  </tbody>\n",
       "</table>\n",
       "</div>"
      ],
      "text/plain": [
       "     R1    R2    B1    B2    H1   H2   F1   F2    Cluster\n",
       "0  37.0  63.0   3.0  13.0   1.0  4.0  3.0  0.0  Cluster 0\n",
       "1  36.0  71.0   8.0   4.0   2.0  3.0  5.0  0.0  Cluster 0\n",
       "2  35.0  63.0  14.0  20.0   7.0  1.0  6.0  2.0  Cluster 2\n",
       "3  37.0  51.0   8.0  12.0   7.0  7.0  7.0  4.0  Cluster 3\n",
       "4  30.0  55.0   7.0   6.0  13.0  6.0  1.0  1.0  Cluster 2"
      ]
     },
     "execution_count": 22,
     "metadata": {},
     "output_type": "execute_result"
    }
   ],
   "source": [
    "kmean_results = assign_model(kmeans)\n",
    "kmean_results.head()"
   ]
  },
  {
   "cell_type": "code",
   "execution_count": 25,
   "id": "7a6d526c",
   "metadata": {},
   "outputs": [
    {
     "data": {
      "text/html": [],
      "text/plain": [
       "<IPython.core.display.HTML object>"
      ]
     },
     "metadata": {},
     "output_type": "display_data"
    },
    {
     "data": {
      "application/vnd.plotly.v1+json": {
       "config": {
        "plotlyServerURL": "https://plot.ly"
       },
       "data": [
        {
         "customdata": [
          [
           37
          ],
          [
           40
          ],
          [
           34
          ],
          [
           37
          ],
          [
           35
          ],
          [
           35
          ],
          [
           37
          ],
          [
           39
          ],
          [
           28
          ],
          [
           39
          ],
          [
           35
          ],
          [
           39
          ],
          [
           35
          ],
          [
           31
          ],
          [
           36
          ],
          [
           39
          ],
          [
           34
          ],
          [
           36
          ],
          [
           42
          ],
          [
           38
          ]
         ],
         "hovertemplate": "Cluster=Cluster 0<br>PCA1=%{x}<br>PCA2=%{y}<br>Feature=%{customdata[0]}<extra></extra>",
         "legendgroup": "Cluster 0",
         "marker": {
          "color": "#636efa",
          "opacity": 0.5,
          "symbol": "circle"
         },
         "mode": "markers",
         "name": "Cluster 0",
         "orientation": "v",
         "showlegend": true,
         "textposition": "top center",
         "type": "scatter",
         "x": [
          -0.87409914,
          -0.6013919,
          -1.4775801,
          1.2111411,
          -1.0712028,
          -0.35013917,
          -0.9238689,
          -0.56769025,
          -0.6109083,
          -0.11577348,
          -0.35427785,
          0.20670764,
          -0.62565976,
          -0.2301099,
          -0.7715479,
          0.68373734,
          -1.3922976,
          -1.1459659,
          -1.7792605,
          -0.59861094
         ],
         "xaxis": "x",
         "y": [
          -0.73001975,
          -1.0338695,
          -1.2808273,
          -1.2461457,
          -0.6087994,
          0.06416164,
          -0.51580447,
          -0.9678728,
          0.3722608,
          -1.1747743,
          -0.6074443,
          0.4689094,
          -0.6703529,
          -0.09336923,
          -0.16842206,
          -1.2807553,
          -1.6294916,
          -1.0317523,
          -1.6813507,
          -1.7494465
         ],
         "yaxis": "y"
        },
        {
         "customdata": [
          [
           40
          ],
          [
           35
          ],
          [
           37
          ],
          [
           35
          ],
          [
           33
          ],
          [
           35
          ],
          [
           28
          ],
          [
           33
          ],
          [
           35
          ],
          [
           24
          ],
          [
           39
          ],
          [
           32
          ],
          [
           31
          ],
          [
           41
          ],
          [
           36
          ],
          [
           40
          ],
          [
           32
          ],
          [
           32
          ],
          [
           41
          ],
          [
           30
          ],
          [
           40
          ],
          [
           33
          ]
         ],
         "hovertemplate": "Cluster=Cluster 1<br>PCA1=%{x}<br>PCA2=%{y}<br>Feature=%{customdata[0]}<extra></extra>",
         "legendgroup": "Cluster 1",
         "marker": {
          "color": "#EF553B",
          "opacity": 0.5,
          "symbol": "circle"
         },
         "mode": "markers",
         "name": "Cluster 1",
         "orientation": "v",
         "showlegend": true,
         "textposition": "top center",
         "type": "scatter",
         "x": [
          -2.6494944,
          -0.4039004,
          -2.1130667,
          -2.364516,
          -2.2413132,
          -1.685592,
          -1.1045172,
          -2.2708685,
          -2.625524,
          -1.4911481,
          -2.1715896,
          -2.632904,
          -2.1043785,
          -2.2760541,
          -0.92514956,
          -2.366891,
          -3.0010471,
          -2.329619,
          -2.7181032,
          -1.7765005,
          -2.1407259,
          -1.275957
         ],
         "xaxis": "x",
         "y": [
          -0.1968807,
          0.8566667,
          0.6870756,
          0.35981172,
          0.52016073,
          -0.28626108,
          0.32974616,
          0.6722448,
          0.013514962,
          2.585777,
          0.068191975,
          1.0107538,
          0.091735244,
          -1.266338,
          0.96610814,
          0.056906316,
          0.8756855,
          0.40725487,
          -0.86398,
          1.1361324,
          -1.1632558,
          1.0619187
         ],
         "yaxis": "y"
        },
        {
         "customdata": [
          [
           24
          ],
          [
           20
          ],
          [
           26
          ],
          [
           35
          ],
          [
           33
          ],
          [
           30
          ],
          [
           35
          ],
          [
           30
          ],
          [
           35
          ],
          [
           27
          ],
          [
           27
          ],
          [
           24
          ],
          [
           27
          ],
          [
           29
          ],
          [
           14
          ],
          [
           37
          ]
         ],
         "hovertemplate": "Cluster=Cluster 2<br>PCA1=%{x}<br>PCA2=%{y}<br>Feature=%{customdata[0]}<extra></extra>",
         "legendgroup": "Cluster 2",
         "marker": {
          "color": "#00cc96",
          "opacity": 0.5,
          "symbol": "circle"
         },
         "mode": "markers",
         "name": "Cluster 2",
         "orientation": "v",
         "showlegend": true,
         "textposition": "top center",
         "type": "scatter",
         "x": [
          0.7242503,
          1.8558544,
          -0.6952336,
          1.7080804,
          1.2598505,
          0.4343503,
          0.5912558,
          0.05825439,
          0.35357144,
          -0.020475017,
          3.8710823,
          1.414706,
          0.3577173,
          2.093696,
          3.665373,
          0.8781161
         ],
         "xaxis": "x",
         "y": [
          2.590586,
          2.7433925,
          2.5997033,
          -0.9699327,
          0.2994241,
          1.0375977,
          0.27459463,
          1.2298114,
          0.9856528,
          1.0638139,
          0.562412,
          0.65430504,
          0.85702825,
          0.356747,
          4.1560655,
          -0.18785474
         ],
         "yaxis": "y"
        },
        {
         "customdata": [
          [
           39
          ],
          [
           38
          ],
          [
           33
          ],
          [
           36
          ],
          [
           37
          ],
          [
           38
          ],
          [
           34
          ],
          [
           37
          ],
          [
           42
          ],
          [
           35
          ],
          [
           33
          ],
          [
           37
          ],
          [
           32
          ],
          [
           32
          ],
          [
           39
          ],
          [
           34
          ],
          [
           32
          ],
          [
           30
          ],
          [
           32
          ]
         ],
         "hovertemplate": "Cluster=Cluster 3<br>PCA1=%{x}<br>PCA2=%{y}<br>Feature=%{customdata[0]}<extra></extra>",
         "legendgroup": "Cluster 3",
         "marker": {
          "color": "#ab63fa",
          "opacity": 0.5,
          "symbol": "circle"
         },
         "mode": "markers",
         "name": "Cluster 3",
         "orientation": "v",
         "showlegend": true,
         "textposition": "top center",
         "type": "scatter",
         "x": [
          2.2421262,
          1.8189217,
          4.195749,
          2.4296446,
          1.2435306,
          2.1364367,
          1.8297583,
          2.4408264,
          1.051191,
          2.0567584,
          1.3152866,
          2.8905141,
          2.356894,
          1.4667982,
          1.10365,
          0.6798657,
          1.1613019,
          1.4733044,
          3.6146526
         ],
         "xaxis": "x",
         "y": [
          -1.0691668,
          -1.3839076,
          -1.3073475,
          0.47368768,
          -0.3953801,
          -0.33467156,
          0.29017672,
          -0.28040415,
          -1.7381891,
          -0.40712047,
          -0.9431202,
          -0.4088161,
          -0.04025843,
          -0.3198514,
          -1.2828407,
          0.6827577,
          -0.99184823,
          0.20155184,
          -1.3564012
         ],
         "yaxis": "y"
        }
       ],
       "layout": {
        "height": 600,
        "legend": {
         "title": {
          "text": "Cluster"
         },
         "tracegroupgap": 0
        },
        "margin": {
         "t": 60
        },
        "plot_bgcolor": "rgb(240,240,240)",
        "template": {
         "data": {
          "bar": [
           {
            "error_x": {
             "color": "#2a3f5f"
            },
            "error_y": {
             "color": "#2a3f5f"
            },
            "marker": {
             "line": {
              "color": "#E5ECF6",
              "width": 0.5
             },
             "pattern": {
              "fillmode": "overlay",
              "size": 10,
              "solidity": 0.2
             }
            },
            "type": "bar"
           }
          ],
          "barpolar": [
           {
            "marker": {
             "line": {
              "color": "#E5ECF6",
              "width": 0.5
             },
             "pattern": {
              "fillmode": "overlay",
              "size": 10,
              "solidity": 0.2
             }
            },
            "type": "barpolar"
           }
          ],
          "carpet": [
           {
            "aaxis": {
             "endlinecolor": "#2a3f5f",
             "gridcolor": "white",
             "linecolor": "white",
             "minorgridcolor": "white",
             "startlinecolor": "#2a3f5f"
            },
            "baxis": {
             "endlinecolor": "#2a3f5f",
             "gridcolor": "white",
             "linecolor": "white",
             "minorgridcolor": "white",
             "startlinecolor": "#2a3f5f"
            },
            "type": "carpet"
           }
          ],
          "choropleth": [
           {
            "colorbar": {
             "outlinewidth": 0,
             "ticks": ""
            },
            "type": "choropleth"
           }
          ],
          "contour": [
           {
            "colorbar": {
             "outlinewidth": 0,
             "ticks": ""
            },
            "colorscale": [
             [
              0,
              "#0d0887"
             ],
             [
              0.1111111111111111,
              "#46039f"
             ],
             [
              0.2222222222222222,
              "#7201a8"
             ],
             [
              0.3333333333333333,
              "#9c179e"
             ],
             [
              0.4444444444444444,
              "#bd3786"
             ],
             [
              0.5555555555555556,
              "#d8576b"
             ],
             [
              0.6666666666666666,
              "#ed7953"
             ],
             [
              0.7777777777777778,
              "#fb9f3a"
             ],
             [
              0.8888888888888888,
              "#fdca26"
             ],
             [
              1,
              "#f0f921"
             ]
            ],
            "type": "contour"
           }
          ],
          "contourcarpet": [
           {
            "colorbar": {
             "outlinewidth": 0,
             "ticks": ""
            },
            "type": "contourcarpet"
           }
          ],
          "heatmap": [
           {
            "colorbar": {
             "outlinewidth": 0,
             "ticks": ""
            },
            "colorscale": [
             [
              0,
              "#0d0887"
             ],
             [
              0.1111111111111111,
              "#46039f"
             ],
             [
              0.2222222222222222,
              "#7201a8"
             ],
             [
              0.3333333333333333,
              "#9c179e"
             ],
             [
              0.4444444444444444,
              "#bd3786"
             ],
             [
              0.5555555555555556,
              "#d8576b"
             ],
             [
              0.6666666666666666,
              "#ed7953"
             ],
             [
              0.7777777777777778,
              "#fb9f3a"
             ],
             [
              0.8888888888888888,
              "#fdca26"
             ],
             [
              1,
              "#f0f921"
             ]
            ],
            "type": "heatmap"
           }
          ],
          "heatmapgl": [
           {
            "colorbar": {
             "outlinewidth": 0,
             "ticks": ""
            },
            "colorscale": [
             [
              0,
              "#0d0887"
             ],
             [
              0.1111111111111111,
              "#46039f"
             ],
             [
              0.2222222222222222,
              "#7201a8"
             ],
             [
              0.3333333333333333,
              "#9c179e"
             ],
             [
              0.4444444444444444,
              "#bd3786"
             ],
             [
              0.5555555555555556,
              "#d8576b"
             ],
             [
              0.6666666666666666,
              "#ed7953"
             ],
             [
              0.7777777777777778,
              "#fb9f3a"
             ],
             [
              0.8888888888888888,
              "#fdca26"
             ],
             [
              1,
              "#f0f921"
             ]
            ],
            "type": "heatmapgl"
           }
          ],
          "histogram": [
           {
            "marker": {
             "pattern": {
              "fillmode": "overlay",
              "size": 10,
              "solidity": 0.2
             }
            },
            "type": "histogram"
           }
          ],
          "histogram2d": [
           {
            "colorbar": {
             "outlinewidth": 0,
             "ticks": ""
            },
            "colorscale": [
             [
              0,
              "#0d0887"
             ],
             [
              0.1111111111111111,
              "#46039f"
             ],
             [
              0.2222222222222222,
              "#7201a8"
             ],
             [
              0.3333333333333333,
              "#9c179e"
             ],
             [
              0.4444444444444444,
              "#bd3786"
             ],
             [
              0.5555555555555556,
              "#d8576b"
             ],
             [
              0.6666666666666666,
              "#ed7953"
             ],
             [
              0.7777777777777778,
              "#fb9f3a"
             ],
             [
              0.8888888888888888,
              "#fdca26"
             ],
             [
              1,
              "#f0f921"
             ]
            ],
            "type": "histogram2d"
           }
          ],
          "histogram2dcontour": [
           {
            "colorbar": {
             "outlinewidth": 0,
             "ticks": ""
            },
            "colorscale": [
             [
              0,
              "#0d0887"
             ],
             [
              0.1111111111111111,
              "#46039f"
             ],
             [
              0.2222222222222222,
              "#7201a8"
             ],
             [
              0.3333333333333333,
              "#9c179e"
             ],
             [
              0.4444444444444444,
              "#bd3786"
             ],
             [
              0.5555555555555556,
              "#d8576b"
             ],
             [
              0.6666666666666666,
              "#ed7953"
             ],
             [
              0.7777777777777778,
              "#fb9f3a"
             ],
             [
              0.8888888888888888,
              "#fdca26"
             ],
             [
              1,
              "#f0f921"
             ]
            ],
            "type": "histogram2dcontour"
           }
          ],
          "mesh3d": [
           {
            "colorbar": {
             "outlinewidth": 0,
             "ticks": ""
            },
            "type": "mesh3d"
           }
          ],
          "parcoords": [
           {
            "line": {
             "colorbar": {
              "outlinewidth": 0,
              "ticks": ""
             }
            },
            "type": "parcoords"
           }
          ],
          "pie": [
           {
            "automargin": true,
            "type": "pie"
           }
          ],
          "scatter": [
           {
            "fillpattern": {
             "fillmode": "overlay",
             "size": 10,
             "solidity": 0.2
            },
            "type": "scatter"
           }
          ],
          "scatter3d": [
           {
            "line": {
             "colorbar": {
              "outlinewidth": 0,
              "ticks": ""
             }
            },
            "marker": {
             "colorbar": {
              "outlinewidth": 0,
              "ticks": ""
             }
            },
            "type": "scatter3d"
           }
          ],
          "scattercarpet": [
           {
            "marker": {
             "colorbar": {
              "outlinewidth": 0,
              "ticks": ""
             }
            },
            "type": "scattercarpet"
           }
          ],
          "scattergeo": [
           {
            "marker": {
             "colorbar": {
              "outlinewidth": 0,
              "ticks": ""
             }
            },
            "type": "scattergeo"
           }
          ],
          "scattergl": [
           {
            "marker": {
             "colorbar": {
              "outlinewidth": 0,
              "ticks": ""
             }
            },
            "type": "scattergl"
           }
          ],
          "scattermapbox": [
           {
            "marker": {
             "colorbar": {
              "outlinewidth": 0,
              "ticks": ""
             }
            },
            "type": "scattermapbox"
           }
          ],
          "scatterpolar": [
           {
            "marker": {
             "colorbar": {
              "outlinewidth": 0,
              "ticks": ""
             }
            },
            "type": "scatterpolar"
           }
          ],
          "scatterpolargl": [
           {
            "marker": {
             "colorbar": {
              "outlinewidth": 0,
              "ticks": ""
             }
            },
            "type": "scatterpolargl"
           }
          ],
          "scatterternary": [
           {
            "marker": {
             "colorbar": {
              "outlinewidth": 0,
              "ticks": ""
             }
            },
            "type": "scatterternary"
           }
          ],
          "surface": [
           {
            "colorbar": {
             "outlinewidth": 0,
             "ticks": ""
            },
            "colorscale": [
             [
              0,
              "#0d0887"
             ],
             [
              0.1111111111111111,
              "#46039f"
             ],
             [
              0.2222222222222222,
              "#7201a8"
             ],
             [
              0.3333333333333333,
              "#9c179e"
             ],
             [
              0.4444444444444444,
              "#bd3786"
             ],
             [
              0.5555555555555556,
              "#d8576b"
             ],
             [
              0.6666666666666666,
              "#ed7953"
             ],
             [
              0.7777777777777778,
              "#fb9f3a"
             ],
             [
              0.8888888888888888,
              "#fdca26"
             ],
             [
              1,
              "#f0f921"
             ]
            ],
            "type": "surface"
           }
          ],
          "table": [
           {
            "cells": {
             "fill": {
              "color": "#EBF0F8"
             },
             "line": {
              "color": "white"
             }
            },
            "header": {
             "fill": {
              "color": "#C8D4E3"
             },
             "line": {
              "color": "white"
             }
            },
            "type": "table"
           }
          ]
         },
         "layout": {
          "annotationdefaults": {
           "arrowcolor": "#2a3f5f",
           "arrowhead": 0,
           "arrowwidth": 1
          },
          "autotypenumbers": "strict",
          "coloraxis": {
           "colorbar": {
            "outlinewidth": 0,
            "ticks": ""
           }
          },
          "colorscale": {
           "diverging": [
            [
             0,
             "#8e0152"
            ],
            [
             0.1,
             "#c51b7d"
            ],
            [
             0.2,
             "#de77ae"
            ],
            [
             0.3,
             "#f1b6da"
            ],
            [
             0.4,
             "#fde0ef"
            ],
            [
             0.5,
             "#f7f7f7"
            ],
            [
             0.6,
             "#e6f5d0"
            ],
            [
             0.7,
             "#b8e186"
            ],
            [
             0.8,
             "#7fbc41"
            ],
            [
             0.9,
             "#4d9221"
            ],
            [
             1,
             "#276419"
            ]
           ],
           "sequential": [
            [
             0,
             "#0d0887"
            ],
            [
             0.1111111111111111,
             "#46039f"
            ],
            [
             0.2222222222222222,
             "#7201a8"
            ],
            [
             0.3333333333333333,
             "#9c179e"
            ],
            [
             0.4444444444444444,
             "#bd3786"
            ],
            [
             0.5555555555555556,
             "#d8576b"
            ],
            [
             0.6666666666666666,
             "#ed7953"
            ],
            [
             0.7777777777777778,
             "#fb9f3a"
            ],
            [
             0.8888888888888888,
             "#fdca26"
            ],
            [
             1,
             "#f0f921"
            ]
           ],
           "sequentialminus": [
            [
             0,
             "#0d0887"
            ],
            [
             0.1111111111111111,
             "#46039f"
            ],
            [
             0.2222222222222222,
             "#7201a8"
            ],
            [
             0.3333333333333333,
             "#9c179e"
            ],
            [
             0.4444444444444444,
             "#bd3786"
            ],
            [
             0.5555555555555556,
             "#d8576b"
            ],
            [
             0.6666666666666666,
             "#ed7953"
            ],
            [
             0.7777777777777778,
             "#fb9f3a"
            ],
            [
             0.8888888888888888,
             "#fdca26"
            ],
            [
             1,
             "#f0f921"
            ]
           ]
          },
          "colorway": [
           "#636efa",
           "#EF553B",
           "#00cc96",
           "#ab63fa",
           "#FFA15A",
           "#19d3f3",
           "#FF6692",
           "#B6E880",
           "#FF97FF",
           "#FECB52"
          ],
          "font": {
           "color": "#2a3f5f"
          },
          "geo": {
           "bgcolor": "white",
           "lakecolor": "white",
           "landcolor": "#E5ECF6",
           "showlakes": true,
           "showland": true,
           "subunitcolor": "white"
          },
          "hoverlabel": {
           "align": "left"
          },
          "hovermode": "closest",
          "mapbox": {
           "style": "light"
          },
          "paper_bgcolor": "white",
          "plot_bgcolor": "#E5ECF6",
          "polar": {
           "angularaxis": {
            "gridcolor": "white",
            "linecolor": "white",
            "ticks": ""
           },
           "bgcolor": "#E5ECF6",
           "radialaxis": {
            "gridcolor": "white",
            "linecolor": "white",
            "ticks": ""
           }
          },
          "scene": {
           "xaxis": {
            "backgroundcolor": "#E5ECF6",
            "gridcolor": "white",
            "gridwidth": 2,
            "linecolor": "white",
            "showbackground": true,
            "ticks": "",
            "zerolinecolor": "white"
           },
           "yaxis": {
            "backgroundcolor": "#E5ECF6",
            "gridcolor": "white",
            "gridwidth": 2,
            "linecolor": "white",
            "showbackground": true,
            "ticks": "",
            "zerolinecolor": "white"
           },
           "zaxis": {
            "backgroundcolor": "#E5ECF6",
            "gridcolor": "white",
            "gridwidth": 2,
            "linecolor": "white",
            "showbackground": true,
            "ticks": "",
            "zerolinecolor": "white"
           }
          },
          "shapedefaults": {
           "line": {
            "color": "#2a3f5f"
           }
          },
          "ternary": {
           "aaxis": {
            "gridcolor": "white",
            "linecolor": "white",
            "ticks": ""
           },
           "baxis": {
            "gridcolor": "white",
            "linecolor": "white",
            "ticks": ""
           },
           "bgcolor": "#E5ECF6",
           "caxis": {
            "gridcolor": "white",
            "linecolor": "white",
            "ticks": ""
           }
          },
          "title": {
           "x": 0.05
          },
          "xaxis": {
           "automargin": true,
           "gridcolor": "white",
           "linecolor": "white",
           "ticks": "",
           "title": {
            "standoff": 15
           },
           "zerolinecolor": "white",
           "zerolinewidth": 2
          },
          "yaxis": {
           "automargin": true,
           "gridcolor": "white",
           "linecolor": "white",
           "ticks": "",
           "title": {
            "standoff": 15
           },
           "zerolinecolor": "white",
           "zerolinewidth": 2
          }
         }
        },
        "title": {
         "text": "2D Cluster PCA Plot"
        },
        "xaxis": {
         "anchor": "y",
         "domain": [
          0,
          1
         ],
         "title": {
          "text": "PCA1"
         }
        },
        "yaxis": {
         "anchor": "x",
         "domain": [
          0,
          1
         ],
         "title": {
          "text": "PCA2"
         }
        }
       }
      }
     },
     "metadata": {},
     "output_type": "display_data"
    }
   ],
   "source": [
    "plot_model(kmeans)"
   ]
  },
  {
   "cell_type": "code",
   "execution_count": 26,
   "id": "086fb25f",
   "metadata": {},
   "outputs": [
    {
     "data": {
      "text/html": [],
      "text/plain": [
       "<IPython.core.display.HTML object>"
      ]
     },
     "metadata": {},
     "output_type": "display_data"
    },
    {
     "data": {
      "application/vnd.plotly.v1+json": {
       "config": {
        "plotlyServerURL": "https://plot.ly"
       },
       "data": [
        {
         "customdata": [
          [
           37
          ],
          [
           40
          ],
          [
           34
          ],
          [
           37
          ],
          [
           35
          ],
          [
           35
          ],
          [
           37
          ],
          [
           39
          ],
          [
           28
          ],
          [
           39
          ],
          [
           35
          ],
          [
           39
          ],
          [
           35
          ],
          [
           31
          ],
          [
           36
          ],
          [
           39
          ],
          [
           34
          ],
          [
           36
          ],
          [
           42
          ],
          [
           38
          ]
         ],
         "hovertemplate": "Cluster=Cluster 0<br>0=%{x}<br>1=%{y}<br>2=%{z}<br>Feature=%{customdata[0]}<extra></extra>",
         "legendgroup": "Cluster 0",
         "marker": {
          "color": "#636efa",
          "opacity": 0.7,
          "symbol": "circle"
         },
         "mode": "markers",
         "name": "Cluster 0",
         "scene": "scene",
         "showlegend": true,
         "type": "scatter3d",
         "x": [
          73.831154,
          70.02701,
          110.61653,
          -35.745144,
          54.99675,
          -10.104289,
          -15.813984,
          45.566547,
          47.66165,
          4.903984,
          -183.8574,
          -26.020344,
          -4.7056108,
          6.777339,
          114.15474,
          -108.87692,
          21.101196,
          92.414246,
          -7.970546,
          11.567688
         ],
         "y": [
          -2.6812475,
          54.749317,
          102.30514,
          -18.425543,
          272.5804,
          2.7139359,
          99.787315,
          -19.658789,
          -54.493732,
          10.188446,
          -86.38724,
          79.403595,
          -44.50229,
          -67.965225,
          37.95857,
          -8.928593,
          -126.83462,
          -57.00358,
          -94.79267,
          -52.09094
         ],
         "z": [
          95.34364,
          36.75377,
          24.436298,
          117.43441,
          28.420294,
          -65.2316,
          -74.478905,
          -121.92503,
          108.28609,
          87.01311,
          -8.727378,
          88.61202,
          66.02666,
          31.160774,
          63.585854,
          -14.635868,
          -16.234344,
          83.139084,
          -49.345997,
          -63.072865
         ]
        },
        {
         "customdata": [
          [
           40
          ],
          [
           35
          ],
          [
           37
          ],
          [
           35
          ],
          [
           33
          ],
          [
           35
          ],
          [
           28
          ],
          [
           33
          ],
          [
           35
          ],
          [
           24
          ],
          [
           39
          ],
          [
           32
          ],
          [
           31
          ],
          [
           41
          ],
          [
           36
          ],
          [
           40
          ],
          [
           32
          ],
          [
           32
          ],
          [
           41
          ],
          [
           30
          ],
          [
           40
          ],
          [
           33
          ]
         ],
         "hovertemplate": "Cluster=Cluster 1<br>0=%{x}<br>1=%{y}<br>2=%{z}<br>Feature=%{customdata[0]}<extra></extra>",
         "legendgroup": "Cluster 1",
         "marker": {
          "color": "#EF553B",
          "opacity": 0.7,
          "symbol": "circle"
         },
         "mode": "markers",
         "name": "Cluster 1",
         "scene": "scene",
         "showlegend": true,
         "type": "scatter3d",
         "x": [
          -47.95725,
          -64.376434,
          59.226704,
          104.77716,
          58.38853,
          17.229904,
          -12.882607,
          3.2339194,
          43.69221,
          107.994606,
          107.193146,
          66.59716,
          48.925625,
          124.68531,
          49.00506,
          45.58031,
          78.56427,
          -95.5817,
          84.65087,
          35.57403,
          56.381096,
          99.05288
         ],
         "y": [
          -97.65334,
          76.74296,
          -22.32847,
          9.869722,
          -75.30679,
          49.771904,
          -61.23833,
          -90.756584,
          44.26304,
          -103.556076,
          -40.724964,
          -64.0809,
          91.73821,
          -21.395943,
          -5.1346188,
          -18.82935,
          -111.50141,
          23.928432,
          3.6806242,
          -106.046906,
          84.7542,
          -43.739956
         ],
         "z": [
          71.9444,
          -69.48487,
          -14.057078,
          -22.614727,
          -23.209364,
          -56.70245,
          -113.45984,
          96.28313,
          111.4598,
          -28.271223,
          -1.9347689,
          25.803366,
          -74.09659,
          45.274666,
          -65.40292,
          41.796715,
          23.343676,
          -77.073364,
          26.131569,
          57.683945,
          77.12367,
          -60.03307
         ]
        },
        {
         "customdata": [
          [
           24
          ],
          [
           20
          ],
          [
           26
          ],
          [
           35
          ],
          [
           33
          ],
          [
           30
          ],
          [
           35
          ],
          [
           30
          ],
          [
           35
          ],
          [
           27
          ],
          [
           27
          ],
          [
           24
          ],
          [
           27
          ],
          [
           29
          ],
          [
           14
          ],
          [
           37
          ]
         ],
         "hovertemplate": "Cluster=Cluster 2<br>0=%{x}<br>1=%{y}<br>2=%{z}<br>Feature=%{customdata[0]}<extra></extra>",
         "legendgroup": "Cluster 2",
         "marker": {
          "color": "#00cc96",
          "opacity": 0.7,
          "symbol": "circle"
         },
         "mode": "markers",
         "name": "Cluster 2",
         "scene": "scene",
         "showlegend": true,
         "type": "scatter3d",
         "x": [
          -73.35743,
          28.496809,
          -55.92525,
          -82.73253,
          -57.073498,
          -34.8576,
          20.143717,
          -75.02978,
          52.872223,
          3.158273,
          0.41414815,
          -28.18703,
          -82.40649,
          76.739716,
          23.051716,
          13.685775
         ],
         "y": [
          34.701084,
          72.535355,
          -19.258514,
          105.56221,
          93.5543,
          31.857069,
          37.53562,
          73.390175,
          -70.740326,
          119.35006,
          -35.727715,
          -127.12053,
          -49.264915,
          72.064865,
          23.925879,
          50.622166
         ],
         "z": [
          113.68374,
          -4.107204,
          -114.54538,
          -2.511892,
          39.138893,
          -104.453064,
          -114.56016,
          76.59896,
          -94.55357,
          42.978092,
          -13.034058,
          23.96966,
          85.232185,
          -22.53471,
          -7.129743,
          44.628185
         ]
        },
        {
         "customdata": [
          [
           39
          ],
          [
           38
          ],
          [
           33
          ],
          [
           36
          ],
          [
           37
          ],
          [
           38
          ],
          [
           34
          ],
          [
           37
          ],
          [
           42
          ],
          [
           35
          ],
          [
           33
          ],
          [
           37
          ],
          [
           32
          ],
          [
           32
          ],
          [
           39
          ],
          [
           34
          ],
          [
           32
          ],
          [
           30
          ],
          [
           32
          ]
         ],
         "hovertemplate": "Cluster=Cluster 3<br>0=%{x}<br>1=%{y}<br>2=%{z}<br>Feature=%{customdata[0]}<extra></extra>",
         "legendgroup": "Cluster 3",
         "marker": {
          "color": "#ab63fa",
          "opacity": 0.7,
          "symbol": "circle"
         },
         "mode": "markers",
         "name": "Cluster 3",
         "scene": "scene",
         "showlegend": true,
         "type": "scatter3d",
         "x": [
          -55.884064,
          -86.64631,
          -138.63591,
          -34.680695,
          -18.711338,
          -72.77005,
          -34.095646,
          -58.450005,
          89.30934,
          -45.502728,
          -85.7848,
          -89.25659,
          -32.834816,
          2.3614964,
          121.50373,
          -57.83884,
          -113.249054,
          -106.47872,
          -137.83105
         ],
         "y": [
          4.283175,
          -22.534967,
          37.67997,
          45.92627,
          -5.8313656,
          38.34066,
          7.30178,
          -77.68133,
          40.954815,
          -42.783382,
          -83.000305,
          33.634285,
          69.03738,
          120.26543,
          -198.5531,
          -26.10732,
          -59.863388,
          -43.3641,
          -24.337778
         ],
         "z": [
          63.73517,
          24.736803,
          13.425989,
          30.215746,
          29.970425,
          -18.746685,
          -10.343866,
          -6.966605,
          -83.55111,
          14.957171,
          -66.99531,
          29.599777,
          -15.472353,
          -17.095587,
          89.25843,
          -44.92192,
          -1.8371953,
          -65.89442,
          49.08657
         ]
        }
       ],
       "layout": {
        "height": 800,
        "legend": {
         "title": {
          "text": "Cluster"
         },
         "tracegroupgap": 0
        },
        "scene": {
         "domain": {
          "x": [
           0,
           1
          ],
          "y": [
           0,
           1
          ]
         },
         "xaxis": {
          "title": {
           "text": "0"
          }
         },
         "yaxis": {
          "title": {
           "text": "1"
          }
         },
         "zaxis": {
          "title": {
           "text": "2"
          }
         }
        },
        "template": {
         "data": {
          "bar": [
           {
            "error_x": {
             "color": "#2a3f5f"
            },
            "error_y": {
             "color": "#2a3f5f"
            },
            "marker": {
             "line": {
              "color": "#E5ECF6",
              "width": 0.5
             },
             "pattern": {
              "fillmode": "overlay",
              "size": 10,
              "solidity": 0.2
             }
            },
            "type": "bar"
           }
          ],
          "barpolar": [
           {
            "marker": {
             "line": {
              "color": "#E5ECF6",
              "width": 0.5
             },
             "pattern": {
              "fillmode": "overlay",
              "size": 10,
              "solidity": 0.2
             }
            },
            "type": "barpolar"
           }
          ],
          "carpet": [
           {
            "aaxis": {
             "endlinecolor": "#2a3f5f",
             "gridcolor": "white",
             "linecolor": "white",
             "minorgridcolor": "white",
             "startlinecolor": "#2a3f5f"
            },
            "baxis": {
             "endlinecolor": "#2a3f5f",
             "gridcolor": "white",
             "linecolor": "white",
             "minorgridcolor": "white",
             "startlinecolor": "#2a3f5f"
            },
            "type": "carpet"
           }
          ],
          "choropleth": [
           {
            "colorbar": {
             "outlinewidth": 0,
             "ticks": ""
            },
            "type": "choropleth"
           }
          ],
          "contour": [
           {
            "colorbar": {
             "outlinewidth": 0,
             "ticks": ""
            },
            "colorscale": [
             [
              0,
              "#0d0887"
             ],
             [
              0.1111111111111111,
              "#46039f"
             ],
             [
              0.2222222222222222,
              "#7201a8"
             ],
             [
              0.3333333333333333,
              "#9c179e"
             ],
             [
              0.4444444444444444,
              "#bd3786"
             ],
             [
              0.5555555555555556,
              "#d8576b"
             ],
             [
              0.6666666666666666,
              "#ed7953"
             ],
             [
              0.7777777777777778,
              "#fb9f3a"
             ],
             [
              0.8888888888888888,
              "#fdca26"
             ],
             [
              1,
              "#f0f921"
             ]
            ],
            "type": "contour"
           }
          ],
          "contourcarpet": [
           {
            "colorbar": {
             "outlinewidth": 0,
             "ticks": ""
            },
            "type": "contourcarpet"
           }
          ],
          "heatmap": [
           {
            "colorbar": {
             "outlinewidth": 0,
             "ticks": ""
            },
            "colorscale": [
             [
              0,
              "#0d0887"
             ],
             [
              0.1111111111111111,
              "#46039f"
             ],
             [
              0.2222222222222222,
              "#7201a8"
             ],
             [
              0.3333333333333333,
              "#9c179e"
             ],
             [
              0.4444444444444444,
              "#bd3786"
             ],
             [
              0.5555555555555556,
              "#d8576b"
             ],
             [
              0.6666666666666666,
              "#ed7953"
             ],
             [
              0.7777777777777778,
              "#fb9f3a"
             ],
             [
              0.8888888888888888,
              "#fdca26"
             ],
             [
              1,
              "#f0f921"
             ]
            ],
            "type": "heatmap"
           }
          ],
          "heatmapgl": [
           {
            "colorbar": {
             "outlinewidth": 0,
             "ticks": ""
            },
            "colorscale": [
             [
              0,
              "#0d0887"
             ],
             [
              0.1111111111111111,
              "#46039f"
             ],
             [
              0.2222222222222222,
              "#7201a8"
             ],
             [
              0.3333333333333333,
              "#9c179e"
             ],
             [
              0.4444444444444444,
              "#bd3786"
             ],
             [
              0.5555555555555556,
              "#d8576b"
             ],
             [
              0.6666666666666666,
              "#ed7953"
             ],
             [
              0.7777777777777778,
              "#fb9f3a"
             ],
             [
              0.8888888888888888,
              "#fdca26"
             ],
             [
              1,
              "#f0f921"
             ]
            ],
            "type": "heatmapgl"
           }
          ],
          "histogram": [
           {
            "marker": {
             "pattern": {
              "fillmode": "overlay",
              "size": 10,
              "solidity": 0.2
             }
            },
            "type": "histogram"
           }
          ],
          "histogram2d": [
           {
            "colorbar": {
             "outlinewidth": 0,
             "ticks": ""
            },
            "colorscale": [
             [
              0,
              "#0d0887"
             ],
             [
              0.1111111111111111,
              "#46039f"
             ],
             [
              0.2222222222222222,
              "#7201a8"
             ],
             [
              0.3333333333333333,
              "#9c179e"
             ],
             [
              0.4444444444444444,
              "#bd3786"
             ],
             [
              0.5555555555555556,
              "#d8576b"
             ],
             [
              0.6666666666666666,
              "#ed7953"
             ],
             [
              0.7777777777777778,
              "#fb9f3a"
             ],
             [
              0.8888888888888888,
              "#fdca26"
             ],
             [
              1,
              "#f0f921"
             ]
            ],
            "type": "histogram2d"
           }
          ],
          "histogram2dcontour": [
           {
            "colorbar": {
             "outlinewidth": 0,
             "ticks": ""
            },
            "colorscale": [
             [
              0,
              "#0d0887"
             ],
             [
              0.1111111111111111,
              "#46039f"
             ],
             [
              0.2222222222222222,
              "#7201a8"
             ],
             [
              0.3333333333333333,
              "#9c179e"
             ],
             [
              0.4444444444444444,
              "#bd3786"
             ],
             [
              0.5555555555555556,
              "#d8576b"
             ],
             [
              0.6666666666666666,
              "#ed7953"
             ],
             [
              0.7777777777777778,
              "#fb9f3a"
             ],
             [
              0.8888888888888888,
              "#fdca26"
             ],
             [
              1,
              "#f0f921"
             ]
            ],
            "type": "histogram2dcontour"
           }
          ],
          "mesh3d": [
           {
            "colorbar": {
             "outlinewidth": 0,
             "ticks": ""
            },
            "type": "mesh3d"
           }
          ],
          "parcoords": [
           {
            "line": {
             "colorbar": {
              "outlinewidth": 0,
              "ticks": ""
             }
            },
            "type": "parcoords"
           }
          ],
          "pie": [
           {
            "automargin": true,
            "type": "pie"
           }
          ],
          "scatter": [
           {
            "fillpattern": {
             "fillmode": "overlay",
             "size": 10,
             "solidity": 0.2
            },
            "type": "scatter"
           }
          ],
          "scatter3d": [
           {
            "line": {
             "colorbar": {
              "outlinewidth": 0,
              "ticks": ""
             }
            },
            "marker": {
             "colorbar": {
              "outlinewidth": 0,
              "ticks": ""
             }
            },
            "type": "scatter3d"
           }
          ],
          "scattercarpet": [
           {
            "marker": {
             "colorbar": {
              "outlinewidth": 0,
              "ticks": ""
             }
            },
            "type": "scattercarpet"
           }
          ],
          "scattergeo": [
           {
            "marker": {
             "colorbar": {
              "outlinewidth": 0,
              "ticks": ""
             }
            },
            "type": "scattergeo"
           }
          ],
          "scattergl": [
           {
            "marker": {
             "colorbar": {
              "outlinewidth": 0,
              "ticks": ""
             }
            },
            "type": "scattergl"
           }
          ],
          "scattermapbox": [
           {
            "marker": {
             "colorbar": {
              "outlinewidth": 0,
              "ticks": ""
             }
            },
            "type": "scattermapbox"
           }
          ],
          "scatterpolar": [
           {
            "marker": {
             "colorbar": {
              "outlinewidth": 0,
              "ticks": ""
             }
            },
            "type": "scatterpolar"
           }
          ],
          "scatterpolargl": [
           {
            "marker": {
             "colorbar": {
              "outlinewidth": 0,
              "ticks": ""
             }
            },
            "type": "scatterpolargl"
           }
          ],
          "scatterternary": [
           {
            "marker": {
             "colorbar": {
              "outlinewidth": 0,
              "ticks": ""
             }
            },
            "type": "scatterternary"
           }
          ],
          "surface": [
           {
            "colorbar": {
             "outlinewidth": 0,
             "ticks": ""
            },
            "colorscale": [
             [
              0,
              "#0d0887"
             ],
             [
              0.1111111111111111,
              "#46039f"
             ],
             [
              0.2222222222222222,
              "#7201a8"
             ],
             [
              0.3333333333333333,
              "#9c179e"
             ],
             [
              0.4444444444444444,
              "#bd3786"
             ],
             [
              0.5555555555555556,
              "#d8576b"
             ],
             [
              0.6666666666666666,
              "#ed7953"
             ],
             [
              0.7777777777777778,
              "#fb9f3a"
             ],
             [
              0.8888888888888888,
              "#fdca26"
             ],
             [
              1,
              "#f0f921"
             ]
            ],
            "type": "surface"
           }
          ],
          "table": [
           {
            "cells": {
             "fill": {
              "color": "#EBF0F8"
             },
             "line": {
              "color": "white"
             }
            },
            "header": {
             "fill": {
              "color": "#C8D4E3"
             },
             "line": {
              "color": "white"
             }
            },
            "type": "table"
           }
          ]
         },
         "layout": {
          "annotationdefaults": {
           "arrowcolor": "#2a3f5f",
           "arrowhead": 0,
           "arrowwidth": 1
          },
          "autotypenumbers": "strict",
          "coloraxis": {
           "colorbar": {
            "outlinewidth": 0,
            "ticks": ""
           }
          },
          "colorscale": {
           "diverging": [
            [
             0,
             "#8e0152"
            ],
            [
             0.1,
             "#c51b7d"
            ],
            [
             0.2,
             "#de77ae"
            ],
            [
             0.3,
             "#f1b6da"
            ],
            [
             0.4,
             "#fde0ef"
            ],
            [
             0.5,
             "#f7f7f7"
            ],
            [
             0.6,
             "#e6f5d0"
            ],
            [
             0.7,
             "#b8e186"
            ],
            [
             0.8,
             "#7fbc41"
            ],
            [
             0.9,
             "#4d9221"
            ],
            [
             1,
             "#276419"
            ]
           ],
           "sequential": [
            [
             0,
             "#0d0887"
            ],
            [
             0.1111111111111111,
             "#46039f"
            ],
            [
             0.2222222222222222,
             "#7201a8"
            ],
            [
             0.3333333333333333,
             "#9c179e"
            ],
            [
             0.4444444444444444,
             "#bd3786"
            ],
            [
             0.5555555555555556,
             "#d8576b"
            ],
            [
             0.6666666666666666,
             "#ed7953"
            ],
            [
             0.7777777777777778,
             "#fb9f3a"
            ],
            [
             0.8888888888888888,
             "#fdca26"
            ],
            [
             1,
             "#f0f921"
            ]
           ],
           "sequentialminus": [
            [
             0,
             "#0d0887"
            ],
            [
             0.1111111111111111,
             "#46039f"
            ],
            [
             0.2222222222222222,
             "#7201a8"
            ],
            [
             0.3333333333333333,
             "#9c179e"
            ],
            [
             0.4444444444444444,
             "#bd3786"
            ],
            [
             0.5555555555555556,
             "#d8576b"
            ],
            [
             0.6666666666666666,
             "#ed7953"
            ],
            [
             0.7777777777777778,
             "#fb9f3a"
            ],
            [
             0.8888888888888888,
             "#fdca26"
            ],
            [
             1,
             "#f0f921"
            ]
           ]
          },
          "colorway": [
           "#636efa",
           "#EF553B",
           "#00cc96",
           "#ab63fa",
           "#FFA15A",
           "#19d3f3",
           "#FF6692",
           "#B6E880",
           "#FF97FF",
           "#FECB52"
          ],
          "font": {
           "color": "#2a3f5f"
          },
          "geo": {
           "bgcolor": "white",
           "lakecolor": "white",
           "landcolor": "#E5ECF6",
           "showlakes": true,
           "showland": true,
           "subunitcolor": "white"
          },
          "hoverlabel": {
           "align": "left"
          },
          "hovermode": "closest",
          "mapbox": {
           "style": "light"
          },
          "paper_bgcolor": "white",
          "plot_bgcolor": "#E5ECF6",
          "polar": {
           "angularaxis": {
            "gridcolor": "white",
            "linecolor": "white",
            "ticks": ""
           },
           "bgcolor": "#E5ECF6",
           "radialaxis": {
            "gridcolor": "white",
            "linecolor": "white",
            "ticks": ""
           }
          },
          "scene": {
           "xaxis": {
            "backgroundcolor": "#E5ECF6",
            "gridcolor": "white",
            "gridwidth": 2,
            "linecolor": "white",
            "showbackground": true,
            "ticks": "",
            "zerolinecolor": "white"
           },
           "yaxis": {
            "backgroundcolor": "#E5ECF6",
            "gridcolor": "white",
            "gridwidth": 2,
            "linecolor": "white",
            "showbackground": true,
            "ticks": "",
            "zerolinecolor": "white"
           },
           "zaxis": {
            "backgroundcolor": "#E5ECF6",
            "gridcolor": "white",
            "gridwidth": 2,
            "linecolor": "white",
            "showbackground": true,
            "ticks": "",
            "zerolinecolor": "white"
           }
          },
          "shapedefaults": {
           "line": {
            "color": "#2a3f5f"
           }
          },
          "ternary": {
           "aaxis": {
            "gridcolor": "white",
            "linecolor": "white",
            "ticks": ""
           },
           "baxis": {
            "gridcolor": "white",
            "linecolor": "white",
            "ticks": ""
           },
           "bgcolor": "#E5ECF6",
           "caxis": {
            "gridcolor": "white",
            "linecolor": "white",
            "ticks": ""
           }
          },
          "title": {
           "x": 0.05
          },
          "xaxis": {
           "automargin": true,
           "gridcolor": "white",
           "linecolor": "white",
           "ticks": "",
           "title": {
            "standoff": 15
           },
           "zerolinecolor": "white",
           "zerolinewidth": 2
          },
          "yaxis": {
           "automargin": true,
           "gridcolor": "white",
           "linecolor": "white",
           "ticks": "",
           "title": {
            "standoff": 15
           },
           "zerolinecolor": "white",
           "zerolinewidth": 2
          }
         }
        },
        "title": {
         "text": "3d TSNE Plot for Clusters"
        },
        "width": 900
       }
      }
     },
     "metadata": {},
     "output_type": "display_data"
    }
   ],
   "source": [
    "plot_model(kmeans, plot='tsne')"
   ]
  },
  {
   "cell_type": "code",
   "execution_count": 27,
   "id": "8a621ed0",
   "metadata": {},
   "outputs": [
    {
     "data": {
      "text/html": [],
      "text/plain": [
       "<IPython.core.display.HTML object>"
      ]
     },
     "metadata": {},
     "output_type": "display_data"
    },
    {
     "data": {
      "image/png": "[encoded data removed]",
      "text/plain": [
       "<Figure size 800x550 with 1 Axes>"
      ]
     },
     "metadata": {},
     "output_type": "display_data"
    }
   ],
   "source": [
    "plot_model(kmeans, 'elbow')"
   ]
  },
  {
   "cell_type": "code",
   "execution_count": 28,
   "id": "78769d20",
   "metadata": {},
   "outputs": [
    {
     "data": {
      "text/html": [],
      "text/plain": [
       "<IPython.core.display.HTML object>"
      ]
     },
     "metadata": {},
     "output_type": "display_data"
    },
    {
     "data": {
      "image/png": "[encoded data removed]",
      "text/plain": [
       "<Figure size 800x550 with 1 Axes>"
      ]
     },
     "metadata": {},
     "output_type": "display_data"
    }
   ],
   "source": [
    "plot_model(kmeans, plot = 'silhouette')"
   ]
  },
  {
   "cell_type": "code",
   "execution_count": 29,
   "id": "b60d9e20",
   "metadata": {},
   "outputs": [
    {
     "data": {
      "text/html": [],
      "text/plain": [
       "<IPython.core.display.HTML object>"
      ]
     },
     "metadata": {},
     "output_type": "display_data"
    },
    {
     "data": {
      "application/vnd.plotly.v1+json": {
       "config": {
        "plotlyServerURL": "https://plot.ly"
       },
       "data": [
        {
         "alignmentgroup": "True",
         "bingroup": "x",
         "hovertemplate": "Cluster=%{x}<br>count=%{y}<extra></extra>",
         "legendgroup": "Cluster 0",
         "marker": {
          "color": "#636efa",
          "opacity": 0.7,
          "pattern": {
           "shape": ""
          }
         },
         "name": "Cluster 0",
         "offsetgroup": "Cluster 0",
         "orientation": "v",
         "showlegend": true,
         "type": "histogram",
         "x": [
          "Cluster 0",
          "Cluster 0",
          "Cluster 0",
          "Cluster 0",
          "Cluster 0",
          "Cluster 0",
          "Cluster 0",
          "Cluster 0",
          "Cluster 0",
          "Cluster 0",
          "Cluster 0",
          "Cluster 0",
          "Cluster 0",
          "Cluster 0",
          "Cluster 0",
          "Cluster 0",
          "Cluster 0",
          "Cluster 0",
          "Cluster 0",
          "Cluster 0"
         ],
         "xaxis": "x",
         "yaxis": "y"
        },
        {
         "alignmentgroup": "True",
         "customdata": [
          [
           37,
           63,
           3,
           13,
           1,
           4,
           3,
           0
          ],
          [
           40,
           66,
           2,
           3,
           11,
           7,
           3,
           0
          ],
          [
           34,
           76,
           16,
           11,
           1,
           0,
           0,
           0
          ],
          [
           37,
           66,
           9,
           13,
           7,
           1,
           7,
           3
          ],
          [
           35,
           68,
           1,
           10,
           6,
           1,
           2,
           1
          ],
          [
           35,
           59,
           5,
           9,
           9,
           1,
           1,
           2
          ],
          [
           37,
           63,
           0,
           6,
           3,
           3,
           5,
           1
          ],
          [
           39,
           62,
           16,
           8,
           1,
           3,
           2,
           1
          ],
          [
           28,
           65,
           6,
           10,
           1,
           1,
           6,
           0
          ],
          [
           39,
           67,
           1,
           7,
           9,
           4,
           2,
           3
          ],
          [
           35,
           66,
           3,
           13,
           8,
           2,
           2,
           1
          ],
          [
           39,
           45,
           6,
           9,
           5,
           0,
           6,
           2
          ],
          [
           35,
           68,
           9,
           7,
           8,
           4,
           0,
           1
          ],
          [
           31,
           66,
           9,
           8,
           6,
           4,
           2,
           1
          ],
          [
           36,
           62,
           1,
           7,
           9,
           1,
           5,
           0
          ],
          [
           39,
           65,
           7,
           6,
           5,
           4,
           7,
           3
          ],
          [
           34,
           82,
           7,
           12,
           6,
           0,
           1,
           0
          ],
          [
           36,
           71,
           8,
           4,
           2,
           3,
           5,
           0
          ],
          [
           42,
           70,
           8,
           7,
           3,
           2,
           1,
           0
          ],
          [
           38,
           74,
           11,
           10,
           5,
           6,
           1,
           0
          ]
         ],
         "hovertemplate": "Cluster=%{x}<br>R1=%{customdata[0]}<br>R2=%{customdata[1]}<br>B1=%{customdata[2]}<br>B2=%{customdata[3]}<br>H1=%{customdata[4]}<br>H2=%{customdata[5]}<br>F1=%{customdata[6]}<br>F2=%{customdata[7]}<extra></extra>",
         "legendgroup": "Cluster 0",
         "marker": {
          "color": "#636efa"
         },
         "name": "Cluster 0",
         "notched": true,
         "offsetgroup": "Cluster 0",
         "showlegend": false,
         "type": "box",
         "x": [
          "Cluster 0",
          "Cluster 0",
          "Cluster 0",
          "Cluster 0",
          "Cluster 0",
          "Cluster 0",
          "Cluster 0",
          "Cluster 0",
          "Cluster 0",
          "Cluster 0",
          "Cluster 0",
          "Cluster 0",
          "Cluster 0",
          "Cluster 0",
          "Cluster 0",
          "Cluster 0",
          "Cluster 0",
          "Cluster 0",
          "Cluster 0",
          "Cluster 0"
         ],
         "xaxis": "x2",
         "yaxis": "y2"
        },
        {
         "alignmentgroup": "True",
         "bingroup": "x",
         "hovertemplate": "Cluster=%{x}<br>count=%{y}<extra></extra>",
         "legendgroup": "Cluster 1",
         "marker": {
          "color": "#EF553B",
          "opacity": 0.7,
          "pattern": {
           "shape": ""
          }
         },
         "name": "Cluster 1",
         "offsetgroup": "Cluster 1",
         "orientation": "v",
         "showlegend": true,
         "type": "histogram",
         "x": [
          "Cluster 1",
          "Cluster 1",
          "Cluster 1",
          "Cluster 1",
          "Cluster 1",
          "Cluster 1",
          "Cluster 1",
          "Cluster 1",
          "Cluster 1",
          "Cluster 1",
          "Cluster 1",
          "Cluster 1",
          "Cluster 1",
          "Cluster 1",
          "Cluster 1",
          "Cluster 1",
          "Cluster 1",
          "Cluster 1",
          "Cluster 1",
          "Cluster 1",
          "Cluster 1",
          "Cluster 1"
         ],
         "xaxis": "x",
         "yaxis": "y"
        },
        {
         "alignmentgroup": "True",
         "customdata": [
          [
           40,
           58,
           2,
           5,
           1,
           0,
           0,
           0
          ],
          [
           35,
           51,
           0,
           3,
           8,
           1,
           5,
           2
          ],
          [
           37,
           52,
           1,
           5,
           4,
           1,
           0,
           0
          ],
          [
           35,
           60,
           4,
           2,
           3,
           1,
           0,
           0
          ],
          [
           33,
           60,
           1,
           4,
           0,
           1,
           2,
           0
          ],
          [
           35,
           66,
           1,
           7,
           6,
           3,
           0,
           0
          ],
          [
           28,
           67,
           5,
           8,
           2,
           4,
           0,
           1
          ],
          [
           33,
           59,
           0,
           5,
           3,
           1,
           0,
           0
          ],
          [
           35,
           65,
           1,
           2,
           3,
           1,
           0,
           0
          ],
          [
           24,
           50,
           3,
           2,
           5,
           3,
           0,
           0
          ],
          [
           39,
           56,
           3,
           6,
           4,
           0,
           0,
           0
          ],
          [
           32,
           57,
           4,
           2,
           0,
           0,
           0,
           0
          ],
          [
           31,
           70,
           1,
           1,
           5,
           4,
           0,
           0
          ],
          [
           41,
           68,
           3,
           9,
           3,
           0,
           0,
           0
          ],
          [
           36,
           47,
           9,
           9,
           7,
           1,
           0,
           0
          ],
          [
           40,
           55,
           2,
           4,
           3,
           1,
           0,
           0
          ],
          [
           32,
           60,
           0,
           1,
           0,
           0,
           0,
           0
          ],
          [
           32,
           64,
           0,
           5,
           3,
           1,
           0,
           0
          ],
          [
           41,
           65,
           1,
           4,
           2,
           1,
           0,
           0
          ],
          [
           30,
           57,
           2,
           7,
           4,
           1,
           0,
           0
          ],
          [
           40,
           69,
           4,
           3,
           3,
           3,
           1,
           0
          ],
          [
           33,
           50,
           0,
           10,
           0,
           1,
           4,
           0
          ]
         ],
         "hovertemplate": "Cluster=%{x}<br>R1=%{customdata[0]}<br>R2=%{customdata[1]}<br>B1=%{customdata[2]}<br>B2=%{customdata[3]}<br>H1=%{customdata[4]}<br>H2=%{customdata[5]}<br>F1=%{customdata[6]}<br>F2=%{customdata[7]}<extra></extra>",
         "legendgroup": "Cluster 1",
         "marker": {
          "color": "#EF553B"
         },
         "name": "Cluster 1",
         "notched": true,
         "offsetgroup": "Cluster 1",
         "showlegend": false,
         "type": "box",
         "x": [
          "Cluster 1",
          "Cluster 1",
          "Cluster 1",
          "Cluster 1",
          "Cluster 1",
          "Cluster 1",
          "Cluster 1",
          "Cluster 1",
          "Cluster 1",
          "Cluster 1",
          "Cluster 1",
          "Cluster 1",
          "Cluster 1",
          "Cluster 1",
          "Cluster 1",
          "Cluster 1",
          "Cluster 1",
          "Cluster 1",
          "Cluster 1",
          "Cluster 1",
          "Cluster 1",
          "Cluster 1"
         ],
         "xaxis": "x2",
         "yaxis": "y2"
        },
        {
         "alignmentgroup": "True",
         "bingroup": "x",
         "hovertemplate": "Cluster=%{x}<br>count=%{y}<extra></extra>",
         "legendgroup": "Cluster 2",
         "marker": {
          "color": "#00cc96",
          "opacity": 0.7,
          "pattern": {
           "shape": ""
          }
         },
         "name": "Cluster 2",
         "offsetgroup": "Cluster 2",
         "orientation": "v",
         "showlegend": true,
         "type": "histogram",
         "x": [
          "Cluster 2",
          "Cluster 2",
          "Cluster 2",
          "Cluster 2",
          "Cluster 2",
          "Cluster 2",
          "Cluster 2",
          "Cluster 2",
          "Cluster 2",
          "Cluster 2",
          "Cluster 2",
          "Cluster 2",
          "Cluster 2",
          "Cluster 2",
          "Cluster 2",
          "Cluster 2"
         ],
         "xaxis": "x",
         "yaxis": "y"
        },
        {
         "alignmentgroup": "True",
         "customdata": [
          [
           24,
           45,
           4,
           4,
           8,
           4,
           5,
           2
          ],
          [
           20,
           46,
           11,
           13,
           12,
           4,
           4,
           1
          ],
          [
           26,
           45,
           8,
           6,
           9,
           0,
           1,
           0
          ],
          [
           35,
           63,
           14,
           20,
           7,
           1,
           6,
           2
          ],
          [
           33,
           53,
           11,
           13,
           5,
           3,
           6,
           2
          ],
          [
           30,
           55,
           7,
           6,
           13,
           6,
           1,
           1
          ],
          [
           35,
           55,
           3,
           11,
           13,
           4,
           5,
           0
          ],
          [
           30,
           51,
           9,
           7,
           4,
           1,
           4,
           2
          ],
          [
           35,
           46,
           6,
           11,
           11,
           5,
           2,
           0
          ],
          [
           27,
           59,
           7,
           4,
           6,
           7,
           4,
           0
          ],
          [
           27,
           54,
           13,
           19,
           12,
           6,
           7,
           4
          ],
          [
           24,
           62,
           2,
           21,
           5,
           6,
           5,
           1
          ],
          [
           27,
           60,
           2,
           14,
           9,
           4,
           2,
           1
          ],
          [
           29,
           60,
           13,
           14,
           17,
           7,
           4,
           0
          ],
          [
           14,
           35,
           9,
           11,
           12,
           6,
           7,
           4
          ],
          [
           37,
           55,
           11,
           11,
           12,
           9,
           1,
           0
          ]
         ],
         "hovertemplate": "Cluster=%{x}<br>R1=%{customdata[0]}<br>R2=%{customdata[1]}<br>B1=%{customdata[2]}<br>B2=%{customdata[3]}<br>H1=%{customdata[4]}<br>H2=%{customdata[5]}<br>F1=%{customdata[6]}<br>F2=%{customdata[7]}<extra></extra>",
         "legendgroup": "Cluster 2",
         "marker": {
          "color": "#00cc96"
         },
         "name": "Cluster 2",
         "notched": true,
         "offsetgroup": "Cluster 2",
         "showlegend": false,
         "type": "box",
         "x": [
          "Cluster 2",
          "Cluster 2",
          "Cluster 2",
          "Cluster 2",
          "Cluster 2",
          "Cluster 2",
          "Cluster 2",
          "Cluster 2",
          "Cluster 2",
          "Cluster 2",
          "Cluster 2",
          "Cluster 2",
          "Cluster 2",
          "Cluster 2",
          "Cluster 2",
          "Cluster 2"
         ],
         "xaxis": "x2",
         "yaxis": "y2"
        },
        {
         "alignmentgroup": "True",
         "bingroup": "x",
         "hovertemplate": "Cluster=%{x}<br>count=%{y}<extra></extra>",
         "legendgroup": "Cluster 3",
         "marker": {
          "color": "#ab63fa",
          "opacity": 0.7,
          "pattern": {
           "shape": ""
          }
         },
         "name": "Cluster 3",
         "offsetgroup": "Cluster 3",
         "orientation": "v",
         "showlegend": true,
         "type": "histogram",
         "x": [
          "Cluster 3",
          "Cluster 3",
          "Cluster 3",
          "Cluster 3",
          "Cluster 3",
          "Cluster 3",
          "Cluster 3",
          "Cluster 3",
          "Cluster 3",
          "Cluster 3",
          "Cluster 3",
          "Cluster 3",
          "Cluster 3",
          "Cluster 3",
          "Cluster 3",
          "Cluster 3",
          "Cluster 3",
          "Cluster 3",
          "Cluster 3"
         ],
         "xaxis": "x",
         "yaxis": "y"
        },
        {
         "alignmentgroup": "True",
         "customdata": [
          [
           39,
           59,
           2,
           17,
           12,
           3,
           7,
           4
          ],
          [
           38,
           65,
           10,
           9,
           8,
           6,
           6,
           4
          ],
          [
           33,
           67,
           7,
           20,
           17,
           10,
           7,
           4
          ],
          [
           36,
           43,
           9,
           16,
           9,
           10,
           4,
           2
          ],
          [
           37,
           54,
           3,
           15,
           3,
           4,
           5,
           4
          ],
          [
           38,
           53,
           3,
           13,
           13,
           5,
           7,
           3
          ],
          [
           34,
           49,
           0,
           19,
           4,
           5,
           7,
           3
          ],
          [
           37,
           51,
           8,
           12,
           7,
           7,
           7,
           4
          ],
          [
           42,
           66,
           3,
           12,
           13,
           5,
           5,
           2
          ],
          [
           35,
           55,
           8,
           13,
           2,
           7,
           7,
           4
          ],
          [
           33,
           72,
           1,
           7,
           14,
           9,
           7,
           1
          ],
          [
           37,
           53,
           4,
           11,
           12,
           12,
           7,
           3
          ],
          [
           32,
           58,
           7,
           16,
           13,
           5,
           5,
           3
          ],
          [
           32,
           61,
           5,
           14,
           4,
           7,
           5,
           3
          ],
          [
           39,
           64,
           5,
           11,
           9,
           7,
           5,
           2
          ],
          [
           34,
           50,
           3,
           6,
           6,
           7,
           5,
           2
          ],
          [
           32,
           72,
           5,
           10,
           7,
           4,
           7,
           3
          ],
          [
           30,
           63,
           3,
           4,
           13,
           9,
           6,
           2
          ],
          [
           32,
           68,
           11,
           19,
           10,
           14,
           7,
           2
          ]
         ],
         "hovertemplate": "Cluster=%{x}<br>R1=%{customdata[0]}<br>R2=%{customdata[1]}<br>B1=%{customdata[2]}<br>B2=%{customdata[3]}<br>H1=%{customdata[4]}<br>H2=%{customdata[5]}<br>F1=%{customdata[6]}<br>F2=%{customdata[7]}<extra></extra>",
         "legendgroup": "Cluster 3",
         "marker": {
          "color": "#ab63fa"
         },
         "name": "Cluster 3",
         "notched": true,
         "offsetgroup": "Cluster 3",
         "showlegend": false,
         "type": "box",
         "x": [
          "Cluster 3",
          "Cluster 3",
          "Cluster 3",
          "Cluster 3",
          "Cluster 3",
          "Cluster 3",
          "Cluster 3",
          "Cluster 3",
          "Cluster 3",
          "Cluster 3",
          "Cluster 3",
          "Cluster 3",
          "Cluster 3",
          "Cluster 3",
          "Cluster 3",
          "Cluster 3",
          "Cluster 3",
          "Cluster 3",
          "Cluster 3"
         ],
         "xaxis": "x2",
         "yaxis": "y2"
        }
       ],
       "layout": {
        "barmode": "relative",
        "height": 600,
        "legend": {
         "title": {
          "text": "Cluster"
         },
         "tracegroupgap": 0
        },
        "margin": {
         "t": 60
        },
        "template": {
         "data": {
          "bar": [
           {
            "error_x": {
             "color": "#2a3f5f"
            },
            "error_y": {
             "color": "#2a3f5f"
            },
            "marker": {
             "line": {
              "color": "#E5ECF6",
              "width": 0.5
             },
             "pattern": {
              "fillmode": "overlay",
              "size": 10,
              "solidity": 0.2
             }
            },
            "type": "bar"
           }
          ],
          "barpolar": [
           {
            "marker": {
             "line": {
              "color": "#E5ECF6",
              "width": 0.5
             },
             "pattern": {
              "fillmode": "overlay",
              "size": 10,
              "solidity": 0.2
             }
            },
            "type": "barpolar"
           }
          ],
          "carpet": [
           {
            "aaxis": {
             "endlinecolor": "#2a3f5f",
             "gridcolor": "white",
             "linecolor": "white",
             "minorgridcolor": "white",
             "startlinecolor": "#2a3f5f"
            },
            "baxis": {
             "endlinecolor": "#2a3f5f",
             "gridcolor": "white",
             "linecolor": "white",
             "minorgridcolor": "white",
             "startlinecolor": "#2a3f5f"
            },
            "type": "carpet"
           }
          ],
          "choropleth": [
           {
            "colorbar": {
             "outlinewidth": 0,
             "ticks": ""
            },
            "type": "choropleth"
           }
          ],
          "contour": [
           {
            "colorbar": {
             "outlinewidth": 0,
             "ticks": ""
            },
            "colorscale": [
             [
              0,
              "#0d0887"
             ],
             [
              0.1111111111111111,
              "#46039f"
             ],
             [
              0.2222222222222222,
              "#7201a8"
             ],
             [
              0.3333333333333333,
              "#9c179e"
             ],
             [
              0.4444444444444444,
              "#bd3786"
             ],
             [
              0.5555555555555556,
              "#d8576b"
             ],
             [
              0.6666666666666666,
              "#ed7953"
             ],
             [
              0.7777777777777778,
              "#fb9f3a"
             ],
             [
              0.8888888888888888,
              "#fdca26"
             ],
             [
              1,
              "#f0f921"
             ]
            ],
            "type": "contour"
           }
          ],
          "contourcarpet": [
           {
            "colorbar": {
             "outlinewidth": 0,
             "ticks": ""
            },
            "type": "contourcarpet"
           }
          ],
          "heatmap": [
           {
            "colorbar": {
             "outlinewidth": 0,
             "ticks": ""
            },
            "colorscale": [
             [
              0,
              "#0d0887"
             ],
             [
              0.1111111111111111,
              "#46039f"
             ],
             [
              0.2222222222222222,
              "#7201a8"
             ],
             [
              0.3333333333333333,
              "#9c179e"
             ],
             [
              0.4444444444444444,
              "#bd3786"
             ],
             [
              0.5555555555555556,
              "#d8576b"
             ],
             [
              0.6666666666666666,
              "#ed7953"
             ],
             [
              0.7777777777777778,
              "#fb9f3a"
             ],
             [
              0.8888888888888888,
              "#fdca26"
             ],
             [
              1,
              "#f0f921"
             ]
            ],
            "type": "heatmap"
           }
          ],
          "heatmapgl": [
           {
            "colorbar": {
             "outlinewidth": 0,
             "ticks": ""
            },
            "colorscale": [
             [
              0,
              "#0d0887"
             ],
             [
              0.1111111111111111,
              "#46039f"
             ],
             [
              0.2222222222222222,
              "#7201a8"
             ],
             [
              0.3333333333333333,
              "#9c179e"
             ],
             [
              0.4444444444444444,
              "#bd3786"
             ],
             [
              0.5555555555555556,
              "#d8576b"
             ],
             [
              0.6666666666666666,
              "#ed7953"
             ],
             [
              0.7777777777777778,
              "#fb9f3a"
             ],
             [
              0.8888888888888888,
              "#fdca26"
             ],
             [
              1,
              "#f0f921"
             ]
            ],
            "type": "heatmapgl"
           }
          ],
          "histogram": [
           {
            "marker": {
             "pattern": {
              "fillmode": "overlay",
              "size": 10,
              "solidity": 0.2
             }
            },
            "type": "histogram"
           }
          ],
          "histogram2d": [
           {
            "colorbar": {
             "outlinewidth": 0,
             "ticks": ""
            },
            "colorscale": [
             [
              0,
              "#0d0887"
             ],
             [
              0.1111111111111111,
              "#46039f"
             ],
             [
              0.2222222222222222,
              "#7201a8"
             ],
             [
              0.3333333333333333,
              "#9c179e"
             ],
             [
              0.4444444444444444,
              "#bd3786"
             ],
             [
              0.5555555555555556,
              "#d8576b"
             ],
             [
              0.6666666666666666,
              "#ed7953"
             ],
             [
              0.7777777777777778,
              "#fb9f3a"
             ],
             [
              0.8888888888888888,
              "#fdca26"
             ],
             [
              1,
              "#f0f921"
             ]
            ],
            "type": "histogram2d"
           }
          ],
          "histogram2dcontour": [
           {
            "colorbar": {
             "outlinewidth": 0,
             "ticks": ""
            },
            "colorscale": [
             [
              0,
              "#0d0887"
             ],
             [
              0.1111111111111111,
              "#46039f"
             ],
             [
              0.2222222222222222,
              "#7201a8"
             ],
             [
              0.3333333333333333,
              "#9c179e"
             ],
             [
              0.4444444444444444,
              "#bd3786"
             ],
             [
              0.5555555555555556,
              "#d8576b"
             ],
             [
              0.6666666666666666,
              "#ed7953"
             ],
             [
              0.7777777777777778,
              "#fb9f3a"
             ],
             [
              0.8888888888888888,
              "#fdca26"
             ],
             [
              1,
              "#f0f921"
             ]
            ],
            "type": "histogram2dcontour"
           }
          ],
          "mesh3d": [
           {
            "colorbar": {
             "outlinewidth": 0,
             "ticks": ""
            },
            "type": "mesh3d"
           }
          ],
          "parcoords": [
           {
            "line": {
             "colorbar": {
              "outlinewidth": 0,
              "ticks": ""
             }
            },
            "type": "parcoords"
           }
          ],
          "pie": [
           {
            "automargin": true,
            "type": "pie"
           }
          ],
          "scatter": [
           {
            "fillpattern": {
             "fillmode": "overlay",
             "size": 10,
             "solidity": 0.2
            },
            "type": "scatter"
           }
          ],
          "scatter3d": [
           {
            "line": {
             "colorbar": {
              "outlinewidth": 0,
              "ticks": ""
             }
            },
            "marker": {
             "colorbar": {
              "outlinewidth": 0,
              "ticks": ""
             }
            },
            "type": "scatter3d"
           }
          ],
          "scattercarpet": [
           {
            "marker": {
             "colorbar": {
              "outlinewidth": 0,
              "ticks": ""
             }
            },
            "type": "scattercarpet"
           }
          ],
          "scattergeo": [
           {
            "marker": {
             "colorbar": {
              "outlinewidth": 0,
              "ticks": ""
             }
            },
            "type": "scattergeo"
           }
          ],
          "scattergl": [
           {
            "marker": {
             "colorbar": {
              "outlinewidth": 0,
              "ticks": ""
             }
            },
            "type": "scattergl"
           }
          ],
          "scattermapbox": [
           {
            "marker": {
             "colorbar": {
              "outlinewidth": 0,
              "ticks": ""
             }
            },
            "type": "scattermapbox"
           }
          ],
          "scatterpolar": [
           {
            "marker": {
             "colorbar": {
              "outlinewidth": 0,
              "ticks": ""
             }
            },
            "type": "scatterpolar"
           }
          ],
          "scatterpolargl": [
           {
            "marker": {
             "colorbar": {
              "outlinewidth": 0,
              "ticks": ""
             }
            },
            "type": "scatterpolargl"
           }
          ],
          "scatterternary": [
           {
            "marker": {
             "colorbar": {
              "outlinewidth": 0,
              "ticks": ""
             }
            },
            "type": "scatterternary"
           }
          ],
          "surface": [
           {
            "colorbar": {
             "outlinewidth": 0,
             "ticks": ""
            },
            "colorscale": [
             [
              0,
              "#0d0887"
             ],
             [
              0.1111111111111111,
              "#46039f"
             ],
             [
              0.2222222222222222,
              "#7201a8"
             ],
             [
              0.3333333333333333,
              "#9c179e"
             ],
             [
              0.4444444444444444,
              "#bd3786"
             ],
             [
              0.5555555555555556,
              "#d8576b"
             ],
             [
              0.6666666666666666,
              "#ed7953"
             ],
             [
              0.7777777777777778,
              "#fb9f3a"
             ],
             [
              0.8888888888888888,
              "#fdca26"
             ],
             [
              1,
              "#f0f921"
             ]
            ],
            "type": "surface"
           }
          ],
          "table": [
           {
            "cells": {
             "fill": {
              "color": "#EBF0F8"
             },
             "line": {
              "color": "white"
             }
            },
            "header": {
             "fill": {
              "color": "#C8D4E3"
             },
             "line": {
              "color": "white"
             }
            },
            "type": "table"
           }
          ]
         },
         "layout": {
          "annotationdefaults": {
           "arrowcolor": "#2a3f5f",
           "arrowhead": 0,
           "arrowwidth": 1
          },
          "autotypenumbers": "strict",
          "coloraxis": {
           "colorbar": {
            "outlinewidth": 0,
            "ticks": ""
           }
          },
          "colorscale": {
           "diverging": [
            [
             0,
             "#8e0152"
            ],
            [
             0.1,
             "#c51b7d"
            ],
            [
             0.2,
             "#de77ae"
            ],
            [
             0.3,
             "#f1b6da"
            ],
            [
             0.4,
             "#fde0ef"
            ],
            [
             0.5,
             "#f7f7f7"
            ],
            [
             0.6,
             "#e6f5d0"
            ],
            [
             0.7,
             "#b8e186"
            ],
            [
             0.8,
             "#7fbc41"
            ],
            [
             0.9,
             "#4d9221"
            ],
            [
             1,
             "#276419"
            ]
           ],
           "sequential": [
            [
             0,
             "#0d0887"
            ],
            [
             0.1111111111111111,
             "#46039f"
            ],
            [
             0.2222222222222222,
             "#7201a8"
            ],
            [
             0.3333333333333333,
             "#9c179e"
            ],
            [
             0.4444444444444444,
             "#bd3786"
            ],
            [
             0.5555555555555556,
             "#d8576b"
            ],
            [
             0.6666666666666666,
             "#ed7953"
            ],
            [
             0.7777777777777778,
             "#fb9f3a"
            ],
            [
             0.8888888888888888,
             "#fdca26"
            ],
            [
             1,
             "#f0f921"
            ]
           ],
           "sequentialminus": [
            [
             0,
             "#0d0887"
            ],
            [
             0.1111111111111111,
             "#46039f"
            ],
            [
             0.2222222222222222,
             "#7201a8"
            ],
            [
             0.3333333333333333,
             "#9c179e"
            ],
            [
             0.4444444444444444,
             "#bd3786"
            ],
            [
             0.5555555555555556,
             "#d8576b"
            ],
            [
             0.6666666666666666,
             "#ed7953"
            ],
            [
             0.7777777777777778,
             "#fb9f3a"
            ],
            [
             0.8888888888888888,
             "#fdca26"
            ],
            [
             1,
             "#f0f921"
            ]
           ]
          },
          "colorway": [
           "#636efa",
           "#EF553B",
           "#00cc96",
           "#ab63fa",
           "#FFA15A",
           "#19d3f3",
           "#FF6692",
           "#B6E880",
           "#FF97FF",
           "#FECB52"
          ],
          "font": {
           "color": "#2a3f5f"
          },
          "geo": {
           "bgcolor": "white",
           "lakecolor": "white",
           "landcolor": "#E5ECF6",
           "showlakes": true,
           "showland": true,
           "subunitcolor": "white"
          },
          "hoverlabel": {
           "align": "left"
          },
          "hovermode": "closest",
          "mapbox": {
           "style": "light"
          },
          "paper_bgcolor": "white",
          "plot_bgcolor": "#E5ECF6",
          "polar": {
           "angularaxis": {
            "gridcolor": "white",
            "linecolor": "white",
            "ticks": ""
           },
           "bgcolor": "#E5ECF6",
           "radialaxis": {
            "gridcolor": "white",
            "linecolor": "white",
            "ticks": ""
           }
          },
          "scene": {
           "xaxis": {
            "backgroundcolor": "#E5ECF6",
            "gridcolor": "white",
            "gridwidth": 2,
            "linecolor": "white",
            "showbackground": true,
            "ticks": "",
            "zerolinecolor": "white"
           },
           "yaxis": {
            "backgroundcolor": "#E5ECF6",
            "gridcolor": "white",
            "gridwidth": 2,
            "linecolor": "white",
            "showbackground": true,
            "ticks": "",
            "zerolinecolor": "white"
           },
           "zaxis": {
            "backgroundcolor": "#E5ECF6",
            "gridcolor": "white",
            "gridwidth": 2,
            "linecolor": "white",
            "showbackground": true,
            "ticks": "",
            "zerolinecolor": "white"
           }
          },
          "shapedefaults": {
           "line": {
            "color": "#2a3f5f"
           }
          },
          "ternary": {
           "aaxis": {
            "gridcolor": "white",
            "linecolor": "white",
            "ticks": ""
           },
           "baxis": {
            "gridcolor": "white",
            "linecolor": "white",
            "ticks": ""
           },
           "bgcolor": "#E5ECF6",
           "caxis": {
            "gridcolor": "white",
            "linecolor": "white",
            "ticks": ""
           }
          },
          "title": {
           "x": 0.05
          },
          "xaxis": {
           "automargin": true,
           "gridcolor": "white",
           "linecolor": "white",
           "ticks": "",
           "title": {
            "standoff": 15
           },
           "zerolinecolor": "white",
           "zerolinewidth": 2
          },
          "yaxis": {
           "automargin": true,
           "gridcolor": "white",
           "linecolor": "white",
           "ticks": "",
           "title": {
            "standoff": 15
           },
           "zerolinecolor": "white",
           "zerolinewidth": 2
          }
         }
        },
        "xaxis": {
         "anchor": "y",
         "categoryarray": [
          "Cluster 0",
          "Cluster 1",
          "Cluster 2",
          "Cluster 3"
         ],
         "categoryorder": "array",
         "domain": [
          0,
          1
         ],
         "title": {
          "text": "Cluster"
         }
        },
        "xaxis2": {
         "anchor": "y2",
         "domain": [
          0,
          1
         ],
         "matches": "x",
         "showgrid": true,
         "showticklabels": false
        },
        "yaxis": {
         "anchor": "x",
         "domain": [
          0,
          0.7326
         ],
         "title": {
          "text": "count"
         }
        },
        "yaxis2": {
         "anchor": "x2",
         "domain": [
          0.7426,
          1
         ],
         "matches": "y2",
         "showgrid": false,
         "showline": false,
         "showticklabels": false,
         "ticks": ""
        }
       }
      }
     },
     "metadata": {},
     "output_type": "display_data"
    }
   ],
   "source": [
    "plot_model(kmeans, plot = 'distribution')"
   ]
  },
  {
   "cell_type": "code",
   "execution_count": 30,
   "id": "ac45b8b6",
   "metadata": {},
   "outputs": [
    {
     "data": {
      "text/html": [],
      "text/plain": [
       "<IPython.core.display.HTML object>"
      ]
     },
     "metadata": {},
     "output_type": "display_data"
    },
    {
     "data": {
      "application/vnd.plotly.v1+json": {
       "config": {
        "plotlyServerURL": "https://plot.ly"
       },
       "data": [
        {
         "alignmentgroup": "True",
         "bingroup": "x",
         "hovertemplate": "Cluster=Cluster 0<br>F1=%{x}<br>count=%{y}<extra></extra>",
         "legendgroup": "Cluster 0",
         "marker": {
          "color": "#636efa",
          "opacity": 0.7,
          "pattern": {
           "shape": ""
          }
         },
         "name": "Cluster 0",
         "offsetgroup": "Cluster 0",
         "orientation": "v",
         "showlegend": true,
         "type": "histogram",
         "x": [
          3,
          3,
          0,
          7,
          2,
          1,
          5,
          2,
          6,
          2,
          2,
          6,
          0,
          2,
          5,
          7,
          1,
          5,
          1,
          1
         ],
         "xaxis": "x",
         "yaxis": "y"
        },
        {
         "alignmentgroup": "True",
         "customdata": [
          [
           37,
           63,
           3,
           13,
           1,
           4,
           0,
           "Cluster 0"
          ],
          [
           40,
           66,
           2,
           3,
           11,
           7,
           0,
           "Cluster 0"
          ],
          [
           34,
           76,
           16,
           11,
           1,
           0,
           0,
           "Cluster 0"
          ],
          [
           37,
           66,
           9,
           13,
           7,
           1,
           3,
           "Cluster 0"
          ],
          [
           35,
           68,
           1,
           10,
           6,
           1,
           1,
           "Cluster 0"
          ],
          [
           35,
           59,
           5,
           9,
           9,
           1,
           2,
           "Cluster 0"
          ],
          [
           37,
           63,
           0,
           6,
           3,
           3,
           1,
           "Cluster 0"
          ],
          [
           39,
           62,
           16,
           8,
           1,
           3,
           1,
           "Cluster 0"
          ],
          [
           28,
           65,
           6,
           10,
           1,
           1,
           0,
           "Cluster 0"
          ],
          [
           39,
           67,
           1,
           7,
           9,
           4,
           3,
           "Cluster 0"
          ],
          [
           35,
           66,
           3,
           13,
           8,
           2,
           1,
           "Cluster 0"
          ],
          [
           39,
           45,
           6,
           9,
           5,
           0,
           2,
           "Cluster 0"
          ],
          [
           35,
           68,
           9,
           7,
           8,
           4,
           1,
           "Cluster 0"
          ],
          [
           31,
           66,
           9,
           8,
           6,
           4,
           1,
           "Cluster 0"
          ],
          [
           36,
           62,
           1,
           7,
           9,
           1,
           0,
           "Cluster 0"
          ],
          [
           39,
           65,
           7,
           6,
           5,
           4,
           3,
           "Cluster 0"
          ],
          [
           34,
           82,
           7,
           12,
           6,
           0,
           0,
           "Cluster 0"
          ],
          [
           36,
           71,
           8,
           4,
           2,
           3,
           0,
           "Cluster 0"
          ],
          [
           42,
           70,
           8,
           7,
           3,
           2,
           0,
           "Cluster 0"
          ],
          [
           38,
           74,
           11,
           10,
           5,
           6,
           0,
           "Cluster 0"
          ]
         ],
         "hovertemplate": "Cluster=%{customdata[7]}<br>F1=%{x}<br>R1=%{customdata[0]}<br>R2=%{customdata[1]}<br>B1=%{customdata[2]}<br>B2=%{customdata[3]}<br>H1=%{customdata[4]}<br>H2=%{customdata[5]}<br>F2=%{customdata[6]}<extra></extra>",
         "legendgroup": "Cluster 0",
         "marker": {
          "color": "#636efa"
         },
         "name": "Cluster 0",
         "notched": true,
         "offsetgroup": "Cluster 0",
         "showlegend": false,
         "type": "box",
         "x": [
          3,
          3,
          0,
          7,
          2,
          1,
          5,
          2,
          6,
          2,
          2,
          6,
          0,
          2,
          5,
          7,
          1,
          5,
          1,
          1
         ],
         "xaxis": "x2",
         "yaxis": "y2"
        },
        {
         "alignmentgroup": "True",
         "bingroup": "x",
         "hovertemplate": "Cluster=Cluster 1<br>F1=%{x}<br>count=%{y}<extra></extra>",
         "legendgroup": "Cluster 1",
         "marker": {
          "color": "#EF553B",
          "opacity": 0.7,
          "pattern": {
           "shape": ""
          }
         },
         "name": "Cluster 1",
         "offsetgroup": "Cluster 1",
         "orientation": "v",
         "showlegend": true,
         "type": "histogram",
         "x": [
          0,
          5,
          0,
          0,
          2,
          0,
          0,
          0,
          0,
          0,
          0,
          0,
          0,
          0,
          0,
          0,
          0,
          0,
          0,
          0,
          1,
          4
         ],
         "xaxis": "x",
         "yaxis": "y"
        },
        {
         "alignmentgroup": "True",
         "customdata": [
          [
           40,
           58,
           2,
           5,
           1,
           0,
           0,
           "Cluster 1"
          ],
          [
           35,
           51,
           0,
           3,
           8,
           1,
           2,
           "Cluster 1"
          ],
          [
           37,
           52,
           1,
           5,
           4,
           1,
           0,
           "Cluster 1"
          ],
          [
           35,
           60,
           4,
           2,
           3,
           1,
           0,
           "Cluster 1"
          ],
          [
           33,
           60,
           1,
           4,
           0,
           1,
           0,
           "Cluster 1"
          ],
          [
           35,
           66,
           1,
           7,
           6,
           3,
           0,
           "Cluster 1"
          ],
          [
           28,
           67,
           5,
           8,
           2,
           4,
           1,
           "Cluster 1"
          ],
          [
           33,
           59,
           0,
           5,
           3,
           1,
           0,
           "Cluster 1"
          ],
          [
           35,
           65,
           1,
           2,
           3,
           1,
           0,
           "Cluster 1"
          ],
          [
           24,
           50,
           3,
           2,
           5,
           3,
           0,
           "Cluster 1"
          ],
          [
           39,
           56,
           3,
           6,
           4,
           0,
           0,
           "Cluster 1"
          ],
          [
           32,
           57,
           4,
           2,
           0,
           0,
           0,
           "Cluster 1"
          ],
          [
           31,
           70,
           1,
           1,
           5,
           4,
           0,
           "Cluster 1"
          ],
          [
           41,
           68,
           3,
           9,
           3,
           0,
           0,
           "Cluster 1"
          ],
          [
           36,
           47,
           9,
           9,
           7,
           1,
           0,
           "Cluster 1"
          ],
          [
           40,
           55,
           2,
           4,
           3,
           1,
           0,
           "Cluster 1"
          ],
          [
           32,
           60,
           0,
           1,
           0,
           0,
           0,
           "Cluster 1"
          ],
          [
           32,
           64,
           0,
           5,
           3,
           1,
           0,
           "Cluster 1"
          ],
          [
           41,
           65,
           1,
           4,
           2,
           1,
           0,
           "Cluster 1"
          ],
          [
           30,
           57,
           2,
           7,
           4,
           1,
           0,
           "Cluster 1"
          ],
          [
           40,
           69,
           4,
           3,
           3,
           3,
           0,
           "Cluster 1"
          ],
          [
           33,
           50,
           0,
           10,
           0,
           1,
           0,
           "Cluster 1"
          ]
         ],
         "hovertemplate": "Cluster=%{customdata[7]}<br>F1=%{x}<br>R1=%{customdata[0]}<br>R2=%{customdata[1]}<br>B1=%{customdata[2]}<br>B2=%{customdata[3]}<br>H1=%{customdata[4]}<br>H2=%{customdata[5]}<br>F2=%{customdata[6]}<extra></extra>",
         "legendgroup": "Cluster 1",
         "marker": {
          "color": "#EF553B"
         },
         "name": "Cluster 1",
         "notched": true,
         "offsetgroup": "Cluster 1",
         "showlegend": false,
         "type": "box",
         "x": [
          0,
          5,
          0,
          0,
          2,
          0,
          0,
          0,
          0,
          0,
          0,
          0,
          0,
          0,
          0,
          0,
          0,
          0,
          0,
          0,
          1,
          4
         ],
         "xaxis": "x2",
         "yaxis": "y2"
        },
        {
         "alignmentgroup": "True",
         "bingroup": "x",
         "hovertemplate": "Cluster=Cluster 2<br>F1=%{x}<br>count=%{y}<extra></extra>",
         "legendgroup": "Cluster 2",
         "marker": {
          "color": "#00cc96",
          "opacity": 0.7,
          "pattern": {
           "shape": ""
          }
         },
         "name": "Cluster 2",
         "offsetgroup": "Cluster 2",
         "orientation": "v",
         "showlegend": true,
         "type": "histogram",
         "x": [
          5,
          4,
          1,
          6,
          6,
          1,
          5,
          4,
          2,
          4,
          7,
          5,
          2,
          4,
          7,
          1
         ],
         "xaxis": "x",
         "yaxis": "y"
        },
        {
         "alignmentgroup": "True",
         "customdata": [
          [
           24,
           45,
           4,
           4,
           8,
           4,
           2,
           "Cluster 2"
          ],
          [
           20,
           46,
           11,
           13,
           12,
           4,
           1,
           "Cluster 2"
          ],
          [
           26,
           45,
           8,
           6,
           9,
           0,
           0,
           "Cluster 2"
          ],
          [
           35,
           63,
           14,
           20,
           7,
           1,
           2,
           "Cluster 2"
          ],
          [
           33,
           53,
           11,
           13,
           5,
           3,
           2,
           "Cluster 2"
          ],
          [
           30,
           55,
           7,
           6,
           13,
           6,
           1,
           "Cluster 2"
          ],
          [
           35,
           55,
           3,
           11,
           13,
           4,
           0,
           "Cluster 2"
          ],
          [
           30,
           51,
           9,
           7,
           4,
           1,
           2,
           "Cluster 2"
          ],
          [
           35,
           46,
           6,
           11,
           11,
           5,
           0,
           "Cluster 2"
          ],
          [
           27,
           59,
           7,
           4,
           6,
           7,
           0,
           "Cluster 2"
          ],
          [
           27,
           54,
           13,
           19,
           12,
           6,
           4,
           "Cluster 2"
          ],
          [
           24,
           62,
           2,
           21,
           5,
           6,
           1,
           "Cluster 2"
          ],
          [
           27,
           60,
           2,
           14,
           9,
           4,
           1,
           "Cluster 2"
          ],
          [
           29,
           60,
           13,
           14,
           17,
           7,
           0,
           "Cluster 2"
          ],
          [
           14,
           35,
           9,
           11,
           12,
           6,
           4,
           "Cluster 2"
          ],
          [
           37,
           55,
           11,
           11,
           12,
           9,
           0,
           "Cluster 2"
          ]
         ],
         "hovertemplate": "Cluster=%{customdata[7]}<br>F1=%{x}<br>R1=%{customdata[0]}<br>R2=%{customdata[1]}<br>B1=%{customdata[2]}<br>B2=%{customdata[3]}<br>H1=%{customdata[4]}<br>H2=%{customdata[5]}<br>F2=%{customdata[6]}<extra></extra>",
         "legendgroup": "Cluster 2",
         "marker": {
          "color": "#00cc96"
         },
         "name": "Cluster 2",
         "notched": true,
         "offsetgroup": "Cluster 2",
         "showlegend": false,
         "type": "box",
         "x": [
          5,
          4,
          1,
          6,
          6,
          1,
          5,
          4,
          2,
          4,
          7,
          5,
          2,
          4,
          7,
          1
         ],
         "xaxis": "x2",
         "yaxis": "y2"
        },
        {
         "alignmentgroup": "True",
         "bingroup": "x",
         "hovertemplate": "Cluster=Cluster 3<br>F1=%{x}<br>count=%{y}<extra></extra>",
         "legendgroup": "Cluster 3",
         "marker": {
          "color": "#ab63fa",
          "opacity": 0.7,
          "pattern": {
           "shape": ""
          }
         },
         "name": "Cluster 3",
         "offsetgroup": "Cluster 3",
         "orientation": "v",
         "showlegend": true,
         "type": "histogram",
         "x": [
          7,
          6,
          7,
          4,
          5,
          7,
          7,
          7,
          5,
          7,
          7,
          7,
          5,
          5,
          5,
          5,
          7,
          6,
          7
         ],
         "xaxis": "x",
         "yaxis": "y"
        },
        {
         "alignmentgroup": "True",
         "customdata": [
          [
           39,
           59,
           2,
           17,
           12,
           3,
           4,
           "Cluster 3"
          ],
          [
           38,
           65,
           10,
           9,
           8,
           6,
           4,
           "Cluster 3"
          ],
          [
           33,
           67,
           7,
           20,
           17,
           10,
           4,
           "Cluster 3"
          ],
          [
           36,
           43,
           9,
           16,
           9,
           10,
           2,
           "Cluster 3"
          ],
          [
           37,
           54,
           3,
           15,
           3,
           4,
           4,
           "Cluster 3"
          ],
          [
           38,
           53,
           3,
           13,
           13,
           5,
           3,
           "Cluster 3"
          ],
          [
           34,
           49,
           0,
           19,
           4,
           5,
           3,
           "Cluster 3"
          ],
          [
           37,
           51,
           8,
           12,
           7,
           7,
           4,
           "Cluster 3"
          ],
          [
           42,
           66,
           3,
           12,
           13,
           5,
           2,
           "Cluster 3"
          ],
          [
           35,
           55,
           8,
           13,
           2,
           7,
           4,
           "Cluster 3"
          ],
          [
           33,
           72,
           1,
           7,
           14,
           9,
           1,
           "Cluster 3"
          ],
          [
           37,
           53,
           4,
           11,
           12,
           12,
           3,
           "Cluster 3"
          ],
          [
           32,
           58,
           7,
           16,
           13,
           5,
           3,
           "Cluster 3"
          ],
          [
           32,
           61,
           5,
           14,
           4,
           7,
           3,
           "Cluster 3"
          ],
          [
           39,
           64,
           5,
           11,
           9,
           7,
           2,
           "Cluster 3"
          ],
          [
           34,
           50,
           3,
           6,
           6,
           7,
           2,
           "Cluster 3"
          ],
          [
           32,
           72,
           5,
           10,
           7,
           4,
           3,
           "Cluster 3"
          ],
          [
           30,
           63,
           3,
           4,
           13,
           9,
           2,
           "Cluster 3"
          ],
          [
           32,
           68,
           11,
           19,
           10,
           14,
           2,
           "Cluster 3"
          ]
         ],
         "hovertemplate": "Cluster=%{customdata[7]}<br>F1=%{x}<br>R1=%{customdata[0]}<br>R2=%{customdata[1]}<br>B1=%{customdata[2]}<br>B2=%{customdata[3]}<br>H1=%{customdata[4]}<br>H2=%{customdata[5]}<br>F2=%{customdata[6]}<extra></extra>",
         "legendgroup": "Cluster 3",
         "marker": {
          "color": "#ab63fa"
         },
         "name": "Cluster 3",
         "notched": true,
         "offsetgroup": "Cluster 3",
         "showlegend": false,
         "type": "box",
         "x": [
          7,
          6,
          7,
          4,
          5,
          7,
          7,
          7,
          5,
          7,
          7,
          7,
          5,
          5,
          5,
          5,
          7,
          6,
          7
         ],
         "xaxis": "x2",
         "yaxis": "y2"
        }
       ],
       "layout": {
        "barmode": "relative",
        "height": 600,
        "legend": {
         "title": {
          "text": "Cluster"
         },
         "tracegroupgap": 0
        },
        "margin": {
         "t": 60
        },
        "template": {
         "data": {
          "bar": [
           {
            "error_x": {
             "color": "#2a3f5f"
            },
            "error_y": {
             "color": "#2a3f5f"
            },
            "marker": {
             "line": {
              "color": "#E5ECF6",
              "width": 0.5
             },
             "pattern": {
              "fillmode": "overlay",
              "size": 10,
              "solidity": 0.2
             }
            },
            "type": "bar"
           }
          ],
          "barpolar": [
           {
            "marker": {
             "line": {
              "color": "#E5ECF6",
              "width": 0.5
             },
             "pattern": {
              "fillmode": "overlay",
              "size": 10,
              "solidity": 0.2
             }
            },
            "type": "barpolar"
           }
          ],
          "carpet": [
           {
            "aaxis": {
             "endlinecolor": "#2a3f5f",
             "gridcolor": "white",
             "linecolor": "white",
             "minorgridcolor": "white",
             "startlinecolor": "#2a3f5f"
            },
            "baxis": {
             "endlinecolor": "#2a3f5f",
             "gridcolor": "white",
             "linecolor": "white",
             "minorgridcolor": "white",
             "startlinecolor": "#2a3f5f"
            },
            "type": "carpet"
           }
          ],
          "choropleth": [
           {
            "colorbar": {
             "outlinewidth": 0,
             "ticks": ""
            },
            "type": "choropleth"
           }
          ],
          "contour": [
           {
            "colorbar": {
             "outlinewidth": 0,
             "ticks": ""
            },
            "colorscale": [
             [
              0,
              "#0d0887"
             ],
             [
              0.1111111111111111,
              "#46039f"
             ],
             [
              0.2222222222222222,
              "#7201a8"
             ],
             [
              0.3333333333333333,
              "#9c179e"
             ],
             [
              0.4444444444444444,
              "#bd3786"
             ],
             [
              0.5555555555555556,
              "#d8576b"
             ],
             [
              0.6666666666666666,
              "#ed7953"
             ],
             [
              0.7777777777777778,
              "#fb9f3a"
             ],
             [
              0.8888888888888888,
              "#fdca26"
             ],
             [
              1,
              "#f0f921"
             ]
            ],
            "type": "contour"
           }
          ],
          "contourcarpet": [
           {
            "colorbar": {
             "outlinewidth": 0,
             "ticks": ""
            },
            "type": "contourcarpet"
           }
          ],
          "heatmap": [
           {
            "colorbar": {
             "outlinewidth": 0,
             "ticks": ""
            },
            "colorscale": [
             [
              0,
              "#0d0887"
             ],
             [
              0.1111111111111111,
              "#46039f"
             ],
             [
              0.2222222222222222,
              "#7201a8"
             ],
             [
              0.3333333333333333,
              "#9c179e"
             ],
             [
              0.4444444444444444,
              "#bd3786"
             ],
             [
              0.5555555555555556,
              "#d8576b"
             ],
             [
              0.6666666666666666,
              "#ed7953"
             ],
             [
              0.7777777777777778,
              "#fb9f3a"
             ],
             [
              0.8888888888888888,
              "#fdca26"
             ],
             [
              1,
              "#f0f921"
             ]
            ],
            "type": "heatmap"
           }
          ],
          "heatmapgl": [
           {
            "colorbar": {
             "outlinewidth": 0,
             "ticks": ""
            },
            "colorscale": [
             [
              0,
              "#0d0887"
             ],
             [
              0.1111111111111111,
              "#46039f"
             ],
             [
              0.2222222222222222,
              "#7201a8"
             ],
             [
              0.3333333333333333,
              "#9c179e"
             ],
             [
              0.4444444444444444,
              "#bd3786"
             ],
             [
              0.5555555555555556,
              "#d8576b"
             ],
             [
              0.6666666666666666,
              "#ed7953"
             ],
             [
              0.7777777777777778,
              "#fb9f3a"
             ],
             [
              0.8888888888888888,
              "#fdca26"
             ],
             [
              1,
              "#f0f921"
             ]
            ],
            "type": "heatmapgl"
           }
          ],
          "histogram": [
           {
            "marker": {
             "pattern": {
              "fillmode": "overlay",
              "size": 10,
              "solidity": 0.2
             }
            },
            "type": "histogram"
           }
          ],
          "histogram2d": [
           {
            "colorbar": {
             "outlinewidth": 0,
             "ticks": ""
            },
            "colorscale": [
             [
              0,
              "#0d0887"
             ],
             [
              0.1111111111111111,
              "#46039f"
             ],
             [
              0.2222222222222222,
              "#7201a8"
             ],
             [
              0.3333333333333333,
              "#9c179e"
             ],
             [
              0.4444444444444444,
              "#bd3786"
             ],
             [
              0.5555555555555556,
              "#d8576b"
             ],
             [
              0.6666666666666666,
              "#ed7953"
             ],
             [
              0.7777777777777778,
              "#fb9f3a"
             ],
             [
              0.8888888888888888,
              "#fdca26"
             ],
             [
              1,
              "#f0f921"
             ]
            ],
            "type": "histogram2d"
           }
          ],
          "histogram2dcontour": [
           {
            "colorbar": {
             "outlinewidth": 0,
             "ticks": ""
            },
            "colorscale": [
             [
              0,
              "#0d0887"
             ],
             [
              0.1111111111111111,
              "#46039f"
             ],
             [
              0.2222222222222222,
              "#7201a8"
             ],
             [
              0.3333333333333333,
              "#9c179e"
             ],
             [
              0.4444444444444444,
              "#bd3786"
             ],
             [
              0.5555555555555556,
              "#d8576b"
             ],
             [
              0.6666666666666666,
              "#ed7953"
             ],
             [
              0.7777777777777778,
              "#fb9f3a"
             ],
             [
              0.8888888888888888,
              "#fdca26"
             ],
             [
              1,
              "#f0f921"
             ]
            ],
            "type": "histogram2dcontour"
           }
          ],
          "mesh3d": [
           {
            "colorbar": {
             "outlinewidth": 0,
             "ticks": ""
            },
            "type": "mesh3d"
           }
          ],
          "parcoords": [
           {
            "line": {
             "colorbar": {
              "outlinewidth": 0,
              "ticks": ""
             }
            },
            "type": "parcoords"
           }
          ],
          "pie": [
           {
            "automargin": true,
            "type": "pie"
           }
          ],
          "scatter": [
           {
            "fillpattern": {
             "fillmode": "overlay",
             "size": 10,
             "solidity": 0.2
            },
            "type": "scatter"
           }
          ],
          "scatter3d": [
           {
            "line": {
             "colorbar": {
              "outlinewidth": 0,
              "ticks": ""
             }
            },
            "marker": {
             "colorbar": {
              "outlinewidth": 0,
              "ticks": ""
             }
            },
            "type": "scatter3d"
           }
          ],
          "scattercarpet": [
           {
            "marker": {
             "colorbar": {
              "outlinewidth": 0,
              "ticks": ""
             }
            },
            "type": "scattercarpet"
           }
          ],
          "scattergeo": [
           {
            "marker": {
             "colorbar": {
              "outlinewidth": 0,
              "ticks": ""
             }
            },
            "type": "scattergeo"
           }
          ],
          "scattergl": [
           {
            "marker": {
             "colorbar": {
              "outlinewidth": 0,
              "ticks": ""
             }
            },
            "type": "scattergl"
           }
          ],
          "scattermapbox": [
           {
            "marker": {
             "colorbar": {
              "outlinewidth": 0,
              "ticks": ""
             }
            },
            "type": "scattermapbox"
           }
          ],
          "scatterpolar": [
           {
            "marker": {
             "colorbar": {
              "outlinewidth": 0,
              "ticks": ""
             }
            },
            "type": "scatterpolar"
           }
          ],
          "scatterpolargl": [
           {
            "marker": {
             "colorbar": {
              "outlinewidth": 0,
              "ticks": ""
             }
            },
            "type": "scatterpolargl"
           }
          ],
          "scatterternary": [
           {
            "marker": {
             "colorbar": {
              "outlinewidth": 0,
              "ticks": ""
             }
            },
            "type": "scatterternary"
           }
          ],
          "surface": [
           {
            "colorbar": {
             "outlinewidth": 0,
             "ticks": ""
            },
            "colorscale": [
             [
              0,
              "#0d0887"
             ],
             [
              0.1111111111111111,
              "#46039f"
             ],
             [
              0.2222222222222222,
              "#7201a8"
             ],
             [
              0.3333333333333333,
              "#9c179e"
             ],
             [
              0.4444444444444444,
              "#bd3786"
             ],
             [
              0.5555555555555556,
              "#d8576b"
             ],
             [
              0.6666666666666666,
              "#ed7953"
             ],
             [
              0.7777777777777778,
              "#fb9f3a"
             ],
             [
              0.8888888888888888,
              "#fdca26"
             ],
             [
              1,
              "#f0f921"
             ]
            ],
            "type": "surface"
           }
          ],
          "table": [
           {
            "cells": {
             "fill": {
              "color": "#EBF0F8"
             },
             "line": {
              "color": "white"
             }
            },
            "header": {
             "fill": {
              "color": "#C8D4E3"
             },
             "line": {
              "color": "white"
             }
            },
            "type": "table"
           }
          ]
         },
         "layout": {
          "annotationdefaults": {
           "arrowcolor": "#2a3f5f",
           "arrowhead": 0,
           "arrowwidth": 1
          },
          "autotypenumbers": "strict",
          "coloraxis": {
           "colorbar": {
            "outlinewidth": 0,
            "ticks": ""
           }
          },
          "colorscale": {
           "diverging": [
            [
             0,
             "#8e0152"
            ],
            [
             0.1,
             "#c51b7d"
            ],
            [
             0.2,
             "#de77ae"
            ],
            [
             0.3,
             "#f1b6da"
            ],
            [
             0.4,
             "#fde0ef"
            ],
            [
             0.5,
             "#f7f7f7"
            ],
            [
             0.6,
             "#e6f5d0"
            ],
            [
             0.7,
             "#b8e186"
            ],
            [
             0.8,
             "#7fbc41"
            ],
            [
             0.9,
             "#4d9221"
            ],
            [
             1,
             "#276419"
            ]
           ],
           "sequential": [
            [
             0,
             "#0d0887"
            ],
            [
             0.1111111111111111,
             "#46039f"
            ],
            [
             0.2222222222222222,
             "#7201a8"
            ],
            [
             0.3333333333333333,
             "#9c179e"
            ],
            [
             0.4444444444444444,
             "#bd3786"
            ],
            [
             0.5555555555555556,
             "#d8576b"
            ],
            [
             0.6666666666666666,
             "#ed7953"
            ],
            [
             0.7777777777777778,
             "#fb9f3a"
            ],
            [
             0.8888888888888888,
             "#fdca26"
            ],
            [
             1,
             "#f0f921"
            ]
           ],
           "sequentialminus": [
            [
             0,
             "#0d0887"
            ],
            [
             0.1111111111111111,
             "#46039f"
            ],
            [
             0.2222222222222222,
             "#7201a8"
            ],
            [
             0.3333333333333333,
             "#9c179e"
            ],
            [
             0.4444444444444444,
             "#bd3786"
            ],
            [
             0.5555555555555556,
             "#d8576b"
            ],
            [
             0.6666666666666666,
             "#ed7953"
            ],
            [
             0.7777777777777778,
             "#fb9f3a"
            ],
            [
             0.8888888888888888,
             "#fdca26"
            ],
            [
             1,
             "#f0f921"
            ]
           ]
          },
          "colorway": [
           "#636efa",
           "#EF553B",
           "#00cc96",
           "#ab63fa",
           "#FFA15A",
           "#19d3f3",
           "#FF6692",
           "#B6E880",
           "#FF97FF",
           "#FECB52"
          ],
          "font": {
           "color": "#2a3f5f"
          },
          "geo": {
           "bgcolor": "white",
           "lakecolor": "white",
           "landcolor": "#E5ECF6",
           "showlakes": true,
           "showland": true,
           "subunitcolor": "white"
          },
          "hoverlabel": {
           "align": "left"
          },
          "hovermode": "closest",
          "mapbox": {
           "style": "light"
          },
          "paper_bgcolor": "white",
          "plot_bgcolor": "#E5ECF6",
          "polar": {
           "angularaxis": {
            "gridcolor": "white",
            "linecolor": "white",
            "ticks": ""
           },
           "bgcolor": "#E5ECF6",
           "radialaxis": {
            "gridcolor": "white",
            "linecolor": "white",
            "ticks": ""
           }
          },
          "scene": {
           "xaxis": {
            "backgroundcolor": "#E5ECF6",
            "gridcolor": "white",
            "gridwidth": 2,
            "linecolor": "white",
            "showbackground": true,
            "ticks": "",
            "zerolinecolor": "white"
           },
           "yaxis": {
            "backgroundcolor": "#E5ECF6",
            "gridcolor": "white",
            "gridwidth": 2,
            "linecolor": "white",
            "showbackground": true,
            "ticks": "",
            "zerolinecolor": "white"
           },
           "zaxis": {
            "backgroundcolor": "#E5ECF6",
            "gridcolor": "white",
            "gridwidth": 2,
            "linecolor": "white",
            "showbackground": true,
            "ticks": "",
            "zerolinecolor": "white"
           }
          },
          "shapedefaults": {
           "line": {
            "color": "#2a3f5f"
           }
          },
          "ternary": {
           "aaxis": {
            "gridcolor": "white",
            "linecolor": "white",
            "ticks": ""
           },
           "baxis": {
            "gridcolor": "white",
            "linecolor": "white",
            "ticks": ""
           },
           "bgcolor": "#E5ECF6",
           "caxis": {
            "gridcolor": "white",
            "linecolor": "white",
            "ticks": ""
           }
          },
          "title": {
           "x": 0.05
          },
          "xaxis": {
           "automargin": true,
           "gridcolor": "white",
           "linecolor": "white",
           "ticks": "",
           "title": {
            "standoff": 15
           },
           "zerolinecolor": "white",
           "zerolinewidth": 2
          },
          "yaxis": {
           "automargin": true,
           "gridcolor": "white",
           "linecolor": "white",
           "ticks": "",
           "title": {
            "standoff": 15
           },
           "zerolinecolor": "white",
           "zerolinewidth": 2
          }
         }
        },
        "xaxis": {
         "anchor": "y",
         "domain": [
          0,
          1
         ],
         "title": {
          "text": "F1"
         }
        },
        "xaxis2": {
         "anchor": "y2",
         "domain": [
          0,
          1
         ],
         "matches": "x",
         "showgrid": true,
         "showticklabels": false
        },
        "yaxis": {
         "anchor": "x",
         "domain": [
          0,
          0.7326
         ],
         "title": {
          "text": "count"
         }
        },
        "yaxis2": {
         "anchor": "x2",
         "domain": [
          0.7426,
          1
         ],
         "matches": "y2",
         "showgrid": false,
         "showline": false,
         "showticklabels": false,
         "ticks": ""
        }
       }
      }
     },
     "metadata": {},
     "output_type": "display_data"
    }
   ],
   "source": [
    "plot_model(kmeans, plot = 'distribution', feature = 'F1')"
   ]
  },
  {
   "cell_type": "code",
   "execution_count": 31,
   "id": "ff1f9954",
   "metadata": {},
   "outputs": [
    {
     "data": {
      "text/html": [],
      "text/plain": [
       "<IPython.core.display.HTML object>"
      ]
     },
     "metadata": {},
     "output_type": "display_data"
    },
    {
     "data": {
      "application/vnd.plotly.v1+json": {
       "config": {
        "plotlyServerURL": "https://plot.ly"
       },
       "data": [
        {
         "alignmentgroup": "True",
         "bingroup": "x",
         "hovertemplate": "Cluster=Cluster 0<br>R1=%{x}<br>count=%{y}<extra></extra>",
         "legendgroup": "Cluster 0",
         "marker": {
          "color": "#636efa",
          "opacity": 0.7,
          "pattern": {
           "shape": ""
          }
         },
         "name": "Cluster 0",
         "offsetgroup": "Cluster 0",
         "orientation": "v",
         "showlegend": true,
         "type": "histogram",
         "x": [
          37,
          40,
          34,
          37,
          35,
          35,
          37,
          39,
          28,
          39,
          35,
          39,
          35,
          31,
          36,
          39,
          34,
          36,
          42,
          38
         ],
         "xaxis": "x",
         "yaxis": "y"
        },
        {
         "alignmentgroup": "True",
         "customdata": [
          [
           63,
           3,
           13,
           1,
           4,
           3,
           0,
           "Cluster 0"
          ],
          [
           66,
           2,
           3,
           11,
           7,
           3,
           0,
           "Cluster 0"
          ],
          [
           76,
           16,
           11,
           1,
           0,
           0,
           0,
           "Cluster 0"
          ],
          [
           66,
           9,
           13,
           7,
           1,
           7,
           3,
           "Cluster 0"
          ],
          [
           68,
           1,
           10,
           6,
           1,
           2,
           1,
           "Cluster 0"
          ],
          [
           59,
           5,
           9,
           9,
           1,
           1,
           2,
           "Cluster 0"
          ],
          [
           63,
           0,
           6,
           3,
           3,
           5,
           1,
           "Cluster 0"
          ],
          [
           62,
           16,
           8,
           1,
           3,
           2,
           1,
           "Cluster 0"
          ],
          [
           65,
           6,
           10,
           1,
           1,
           6,
           0,
           "Cluster 0"
          ],
          [
           67,
           1,
           7,
           9,
           4,
           2,
           3,
           "Cluster 0"
          ],
          [
           66,
           3,
           13,
           8,
           2,
           2,
           1,
           "Cluster 0"
          ],
          [
           45,
           6,
           9,
           5,
           0,
           6,
           2,
           "Cluster 0"
          ],
          [
           68,
           9,
           7,
           8,
           4,
           0,
           1,
           "Cluster 0"
          ],
          [
           66,
           9,
           8,
           6,
           4,
           2,
           1,
           "Cluster 0"
          ],
          [
           62,
           1,
           7,
           9,
           1,
           5,
           0,
           "Cluster 0"
          ],
          [
           65,
           7,
           6,
           5,
           4,
           7,
           3,
           "Cluster 0"
          ],
          [
           82,
           7,
           12,
           6,
           0,
           1,
           0,
           "Cluster 0"
          ],
          [
           71,
           8,
           4,
           2,
           3,
           5,
           0,
           "Cluster 0"
          ],
          [
           70,
           8,
           7,
           3,
           2,
           1,
           0,
           "Cluster 0"
          ],
          [
           74,
           11,
           10,
           5,
           6,
           1,
           0,
           "Cluster 0"
          ]
         ],
         "hovertemplate": "Cluster=%{customdata[7]}<br>R1=%{x}<br>R2=%{customdata[0]}<br>B1=%{customdata[1]}<br>B2=%{customdata[2]}<br>H1=%{customdata[3]}<br>H2=%{customdata[4]}<br>F1=%{customdata[5]}<br>F2=%{customdata[6]}<extra></extra>",
         "legendgroup": "Cluster 0",
         "marker": {
          "color": "#636efa"
         },
         "name": "Cluster 0",
         "notched": true,
         "offsetgroup": "Cluster 0",
         "showlegend": false,
         "type": "box",
         "x": [
          37,
          40,
          34,
          37,
          35,
          35,
          37,
          39,
          28,
          39,
          35,
          39,
          35,
          31,
          36,
          39,
          34,
          36,
          42,
          38
         ],
         "xaxis": "x2",
         "yaxis": "y2"
        },
        {
         "alignmentgroup": "True",
         "bingroup": "x",
         "hovertemplate": "Cluster=Cluster 1<br>R1=%{x}<br>count=%{y}<extra></extra>",
         "legendgroup": "Cluster 1",
         "marker": {
          "color": "#EF553B",
          "opacity": 0.7,
          "pattern": {
           "shape": ""
          }
         },
         "name": "Cluster 1",
         "offsetgroup": "Cluster 1",
         "orientation": "v",
         "showlegend": true,
         "type": "histogram",
         "x": [
          40,
          35,
          37,
          35,
          33,
          35,
          28,
          33,
          35,
          24,
          39,
          32,
          31,
          41,
          36,
          40,
          32,
          32,
          41,
          30,
          40,
          33
         ],
         "xaxis": "x",
         "yaxis": "y"
        },
        {
         "alignmentgroup": "True",
         "customdata": [
          [
           58,
           2,
           5,
           1,
           0,
           0,
           0,
           "Cluster 1"
          ],
          [
           51,
           0,
           3,
           8,
           1,
           5,
           2,
           "Cluster 1"
          ],
          [
           52,
           1,
           5,
           4,
           1,
           0,
           0,
           "Cluster 1"
          ],
          [
           60,
           4,
           2,
           3,
           1,
           0,
           0,
           "Cluster 1"
          ],
          [
           60,
           1,
           4,
           0,
           1,
           2,
           0,
           "Cluster 1"
          ],
          [
           66,
           1,
           7,
           6,
           3,
           0,
           0,
           "Cluster 1"
          ],
          [
           67,
           5,
           8,
           2,
           4,
           0,
           1,
           "Cluster 1"
          ],
          [
           59,
           0,
           5,
           3,
           1,
           0,
           0,
           "Cluster 1"
          ],
          [
           65,
           1,
           2,
           3,
           1,
           0,
           0,
           "Cluster 1"
          ],
          [
           50,
           3,
           2,
           5,
           3,
           0,
           0,
           "Cluster 1"
          ],
          [
           56,
           3,
           6,
           4,
           0,
           0,
           0,
           "Cluster 1"
          ],
          [
           57,
           4,
           2,
           0,
           0,
           0,
           0,
           "Cluster 1"
          ],
          [
           70,
           1,
           1,
           5,
           4,
           0,
           0,
           "Cluster 1"
          ],
          [
           68,
           3,
           9,
           3,
           0,
           0,
           0,
           "Cluster 1"
          ],
          [
           47,
           9,
           9,
           7,
           1,
           0,
           0,
           "Cluster 1"
          ],
          [
           55,
           2,
           4,
           3,
           1,
           0,
           0,
           "Cluster 1"
          ],
          [
           60,
           0,
           1,
           0,
           0,
           0,
           0,
           "Cluster 1"
          ],
          [
           64,
           0,
           5,
           3,
           1,
           0,
           0,
           "Cluster 1"
          ],
          [
           65,
           1,
           4,
           2,
           1,
           0,
           0,
           "Cluster 1"
          ],
          [
           57,
           2,
           7,
           4,
           1,
           0,
           0,
           "Cluster 1"
          ],
          [
           69,
           4,
           3,
           3,
           3,
           1,
           0,
           "Cluster 1"
          ],
          [
           50,
           0,
           10,
           0,
           1,
           4,
           0,
           "Cluster 1"
          ]
         ],
         "hovertemplate": "Cluster=%{customdata[7]}<br>R1=%{x}<br>R2=%{customdata[0]}<br>B1=%{customdata[1]}<br>B2=%{customdata[2]}<br>H1=%{customdata[3]}<br>H2=%{customdata[4]}<br>F1=%{customdata[5]}<br>F2=%{customdata[6]}<extra></extra>",
         "legendgroup": "Cluster 1",
         "marker": {
          "color": "#EF553B"
         },
         "name": "Cluster 1",
         "notched": true,
         "offsetgroup": "Cluster 1",
         "showlegend": false,
         "type": "box",
         "x": [
          40,
          35,
          37,
          35,
          33,
          35,
          28,
          33,
          35,
          24,
          39,
          32,
          31,
          41,
          36,
          40,
          32,
          32,
          41,
          30,
          40,
          33
         ],
         "xaxis": "x2",
         "yaxis": "y2"
        },
        {
         "alignmentgroup": "True",
         "bingroup": "x",
         "hovertemplate": "Cluster=Cluster 2<br>R1=%{x}<br>count=%{y}<extra></extra>",
         "legendgroup": "Cluster 2",
         "marker": {
          "color": "#00cc96",
          "opacity": 0.7,
          "pattern": {
           "shape": ""
          }
         },
         "name": "Cluster 2",
         "offsetgroup": "Cluster 2",
         "orientation": "v",
         "showlegend": true,
         "type": "histogram",
         "x": [
          24,
          20,
          26,
          35,
          33,
          30,
          35,
          30,
          35,
          27,
          27,
          24,
          27,
          29,
          14,
          37
         ],
         "xaxis": "x",
         "yaxis": "y"
        },
        {
         "alignmentgroup": "True",
         "customdata": [
          [
           45,
           4,
           4,
           8,
           4,
           5,
           2,
           "Cluster 2"
          ],
          [
           46,
           11,
           13,
           12,
           4,
           4,
           1,
           "Cluster 2"
          ],
          [
           45,
           8,
           6,
           9,
           0,
           1,
           0,
           "Cluster 2"
          ],
          [
           63,
           14,
           20,
           7,
           1,
           6,
           2,
           "Cluster 2"
          ],
          [
           53,
           11,
           13,
           5,
           3,
           6,
           2,
           "Cluster 2"
          ],
          [
           55,
           7,
           6,
           13,
           6,
           1,
           1,
           "Cluster 2"
          ],
          [
           55,
           3,
           11,
           13,
           4,
           5,
           0,
           "Cluster 2"
          ],
          [
           51,
           9,
           7,
           4,
           1,
           4,
           2,
           "Cluster 2"
          ],
          [
           46,
           6,
           11,
           11,
           5,
           2,
           0,
           "Cluster 2"
          ],
          [
           59,
           7,
           4,
           6,
           7,
           4,
           0,
           "Cluster 2"
          ],
          [
           54,
           13,
           19,
           12,
           6,
           7,
           4,
           "Cluster 2"
          ],
          [
           62,
           2,
           21,
           5,
           6,
           5,
           1,
           "Cluster 2"
          ],
          [
           60,
           2,
           14,
           9,
           4,
           2,
           1,
           "Cluster 2"
          ],
          [
           60,
           13,
           14,
           17,
           7,
           4,
           0,
           "Cluster 2"
          ],
          [
           35,
           9,
           11,
           12,
           6,
           7,
           4,
           "Cluster 2"
          ],
          [
           55,
           11,
           11,
           12,
           9,
           1,
           0,
           "Cluster 2"
          ]
         ],
         "hovertemplate": "Cluster=%{customdata[7]}<br>R1=%{x}<br>R2=%{customdata[0]}<br>B1=%{customdata[1]}<br>B2=%{customdata[2]}<br>H1=%{customdata[3]}<br>H2=%{customdata[4]}<br>F1=%{customdata[5]}<br>F2=%{customdata[6]}<extra></extra>",
         "legendgroup": "Cluster 2",
         "marker": {
          "color": "#00cc96"
         },
         "name": "Cluster 2",
         "notched": true,
         "offsetgroup": "Cluster 2",
         "showlegend": false,
         "type": "box",
         "x": [
          24,
          20,
          26,
          35,
          33,
          30,
          35,
          30,
          35,
          27,
          27,
          24,
          27,
          29,
          14,
          37
         ],
         "xaxis": "x2",
         "yaxis": "y2"
        },
        {
         "alignmentgroup": "True",
         "bingroup": "x",
         "hovertemplate": "Cluster=Cluster 3<br>R1=%{x}<br>count=%{y}<extra></extra>",
         "legendgroup": "Cluster 3",
         "marker": {
          "color": "#ab63fa",
          "opacity": 0.7,
          "pattern": {
           "shape": ""
          }
         },
         "name": "Cluster 3",
         "offsetgroup": "Cluster 3",
         "orientation": "v",
         "showlegend": true,
         "type": "histogram",
         "x": [
          39,
          38,
          33,
          36,
          37,
          38,
          34,
          37,
          42,
          35,
          33,
          37,
          32,
          32,
          39,
          34,
          32,
          30,
          32
         ],
         "xaxis": "x",
         "yaxis": "y"
        },
        {
         "alignmentgroup": "True",
         "customdata": [
          [
           59,
           2,
           17,
           12,
           3,
           7,
           4,
           "Cluster 3"
          ],
          [
           65,
           10,
           9,
           8,
           6,
           6,
           4,
           "Cluster 3"
          ],
          [
           67,
           7,
           20,
           17,
           10,
           7,
           4,
           "Cluster 3"
          ],
          [
           43,
           9,
           16,
           9,
           10,
           4,
           2,
           "Cluster 3"
          ],
          [
           54,
           3,
           15,
           3,
           4,
           5,
           4,
           "Cluster 3"
          ],
          [
           53,
           3,
           13,
           13,
           5,
           7,
           3,
           "Cluster 3"
          ],
          [
           49,
           0,
           19,
           4,
           5,
           7,
           3,
           "Cluster 3"
          ],
          [
           51,
           8,
           12,
           7,
           7,
           7,
           4,
           "Cluster 3"
          ],
          [
           66,
           3,
           12,
           13,
           5,
           5,
           2,
           "Cluster 3"
          ],
          [
           55,
           8,
           13,
           2,
           7,
           7,
           4,
           "Cluster 3"
          ],
          [
           72,
           1,
           7,
           14,
           9,
           7,
           1,
           "Cluster 3"
          ],
          [
           53,
           4,
           11,
           12,
           12,
           7,
           3,
           "Cluster 3"
          ],
          [
           58,
           7,
           16,
           13,
           5,
           5,
           3,
           "Cluster 3"
          ],
          [
           61,
           5,
           14,
           4,
           7,
           5,
           3,
           "Cluster 3"
          ],
          [
           64,
           5,
           11,
           9,
           7,
           5,
           2,
           "Cluster 3"
          ],
          [
           50,
           3,
           6,
           6,
           7,
           5,
           2,
           "Cluster 3"
          ],
          [
           72,
           5,
           10,
           7,
           4,
           7,
           3,
           "Cluster 3"
          ],
          [
           63,
           3,
           4,
           13,
           9,
           6,
           2,
           "Cluster 3"
          ],
          [
           68,
           11,
           19,
           10,
           14,
           7,
           2,
           "Cluster 3"
          ]
         ],
         "hovertemplate": "Cluster=%{customdata[7]}<br>R1=%{x}<br>R2=%{customdata[0]}<br>B1=%{customdata[1]}<br>B2=%{customdata[2]}<br>H1=%{customdata[3]}<br>H2=%{customdata[4]}<br>F1=%{customdata[5]}<br>F2=%{customdata[6]}<extra></extra>",
         "legendgroup": "Cluster 3",
         "marker": {
          "color": "#ab63fa"
         },
         "name": "Cluster 3",
         "notched": true,
         "offsetgroup": "Cluster 3",
         "showlegend": false,
         "type": "box",
         "x": [
          39,
          38,
          33,
          36,
          37,
          38,
          34,
          37,
          42,
          35,
          33,
          37,
          32,
          32,
          39,
          34,
          32,
          30,
          32
         ],
         "xaxis": "x2",
         "yaxis": "y2"
        }
       ],
       "layout": {
        "barmode": "relative",
        "height": 600,
        "legend": {
         "title": {
          "text": "Cluster"
         },
         "tracegroupgap": 0
        },
        "margin": {
         "t": 60
        },
        "template": {
         "data": {
          "bar": [
           {
            "error_x": {
             "color": "#2a3f5f"
            },
            "error_y": {
             "color": "#2a3f5f"
            },
            "marker": {
             "line": {
              "color": "#E5ECF6",
              "width": 0.5
             },
             "pattern": {
              "fillmode": "overlay",
              "size": 10,
              "solidity": 0.2
             }
            },
            "type": "bar"
           }
          ],
          "barpolar": [
           {
            "marker": {
             "line": {
              "color": "#E5ECF6",
              "width": 0.5
             },
             "pattern": {
              "fillmode": "overlay",
              "size": 10,
              "solidity": 0.2
             }
            },
            "type": "barpolar"
           }
          ],
          "carpet": [
           {
            "aaxis": {
             "endlinecolor": "#2a3f5f",
             "gridcolor": "white",
             "linecolor": "white",
             "minorgridcolor": "white",
             "startlinecolor": "#2a3f5f"
            },
            "baxis": {
             "endlinecolor": "#2a3f5f",
             "gridcolor": "white",
             "linecolor": "white",
             "minorgridcolor": "white",
             "startlinecolor": "#2a3f5f"
            },
            "type": "carpet"
           }
          ],
          "choropleth": [
           {
            "colorbar": {
             "outlinewidth": 0,
             "ticks": ""
            },
            "type": "choropleth"
           }
          ],
          "contour": [
           {
            "colorbar": {
             "outlinewidth": 0,
             "ticks": ""
            },
            "colorscale": [
             [
              0,
              "#0d0887"
             ],
             [
              0.1111111111111111,
              "#46039f"
             ],
             [
              0.2222222222222222,
              "#7201a8"
             ],
             [
              0.3333333333333333,
              "#9c179e"
             ],
             [
              0.4444444444444444,
              "#bd3786"
             ],
             [
              0.5555555555555556,
              "#d8576b"
             ],
             [
              0.6666666666666666,
              "#ed7953"
             ],
             [
              0.7777777777777778,
              "#fb9f3a"
             ],
             [
              0.8888888888888888,
              "#fdca26"
             ],
             [
              1,
              "#f0f921"
             ]
            ],
            "type": "contour"
           }
          ],
          "contourcarpet": [
           {
            "colorbar": {
             "outlinewidth": 0,
             "ticks": ""
            },
            "type": "contourcarpet"
           }
          ],
          "heatmap": [
           {
            "colorbar": {
             "outlinewidth": 0,
             "ticks": ""
            },
            "colorscale": [
             [
              0,
              "#0d0887"
             ],
             [
              0.1111111111111111,
              "#46039f"
             ],
             [
              0.2222222222222222,
              "#7201a8"
             ],
             [
              0.3333333333333333,
              "#9c179e"
             ],
             [
              0.4444444444444444,
              "#bd3786"
             ],
             [
              0.5555555555555556,
              "#d8576b"
             ],
             [
              0.6666666666666666,
              "#ed7953"
             ],
             [
              0.7777777777777778,
              "#fb9f3a"
             ],
             [
              0.8888888888888888,
              "#fdca26"
             ],
             [
              1,
              "#f0f921"
             ]
            ],
            "type": "heatmap"
           }
          ],
          "heatmapgl": [
           {
            "colorbar": {
             "outlinewidth": 0,
             "ticks": ""
            },
            "colorscale": [
             [
              0,
              "#0d0887"
             ],
             [
              0.1111111111111111,
              "#46039f"
             ],
             [
              0.2222222222222222,
              "#7201a8"
             ],
             [
              0.3333333333333333,
              "#9c179e"
             ],
             [
              0.4444444444444444,
              "#bd3786"
             ],
             [
              0.5555555555555556,
              "#d8576b"
             ],
             [
              0.6666666666666666,
              "#ed7953"
             ],
             [
              0.7777777777777778,
              "#fb9f3a"
             ],
             [
              0.8888888888888888,
              "#fdca26"
             ],
             [
              1,
              "#f0f921"
             ]
            ],
            "type": "heatmapgl"
           }
          ],
          "histogram": [
           {
            "marker": {
             "pattern": {
              "fillmode": "overlay",
              "size": 10,
              "solidity": 0.2
             }
            },
            "type": "histogram"
           }
          ],
          "histogram2d": [
           {
            "colorbar": {
             "outlinewidth": 0,
             "ticks": ""
            },
            "colorscale": [
             [
              0,
              "#0d0887"
             ],
             [
              0.1111111111111111,
              "#46039f"
             ],
             [
              0.2222222222222222,
              "#7201a8"
             ],
             [
              0.3333333333333333,
              "#9c179e"
             ],
             [
              0.4444444444444444,
              "#bd3786"
             ],
             [
              0.5555555555555556,
              "#d8576b"
             ],
             [
              0.6666666666666666,
              "#ed7953"
             ],
             [
              0.7777777777777778,
              "#fb9f3a"
             ],
             [
              0.8888888888888888,
              "#fdca26"
             ],
             [
              1,
              "#f0f921"
             ]
            ],
            "type": "histogram2d"
           }
          ],
          "histogram2dcontour": [
           {
            "colorbar": {
             "outlinewidth": 0,
             "ticks": ""
            },
            "colorscale": [
             [
              0,
              "#0d0887"
             ],
             [
              0.1111111111111111,
              "#46039f"
             ],
             [
              0.2222222222222222,
              "#7201a8"
             ],
             [
              0.3333333333333333,
              "#9c179e"
             ],
             [
              0.4444444444444444,
              "#bd3786"
             ],
             [
              0.5555555555555556,
              "#d8576b"
             ],
             [
              0.6666666666666666,
              "#ed7953"
             ],
             [
              0.7777777777777778,
              "#fb9f3a"
             ],
             [
              0.8888888888888888,
              "#fdca26"
             ],
             [
              1,
              "#f0f921"
             ]
            ],
            "type": "histogram2dcontour"
           }
          ],
          "mesh3d": [
           {
            "colorbar": {
             "outlinewidth": 0,
             "ticks": ""
            },
            "type": "mesh3d"
           }
          ],
          "parcoords": [
           {
            "line": {
             "colorbar": {
              "outlinewidth": 0,
              "ticks": ""
             }
            },
            "type": "parcoords"
           }
          ],
          "pie": [
           {
            "automargin": true,
            "type": "pie"
           }
          ],
          "scatter": [
           {
            "fillpattern": {
             "fillmode": "overlay",
             "size": 10,
             "solidity": 0.2
            },
            "type": "scatter"
           }
          ],
          "scatter3d": [
           {
            "line": {
             "colorbar": {
              "outlinewidth": 0,
              "ticks": ""
             }
            },
            "marker": {
             "colorbar": {
              "outlinewidth": 0,
              "ticks": ""
             }
            },
            "type": "scatter3d"
           }
          ],
          "scattercarpet": [
           {
            "marker": {
             "colorbar": {
              "outlinewidth": 0,
              "ticks": ""
             }
            },
            "type": "scattercarpet"
           }
          ],
          "scattergeo": [
           {
            "marker": {
             "colorbar": {
              "outlinewidth": 0,
              "ticks": ""
             }
            },
            "type": "scattergeo"
           }
          ],
          "scattergl": [
           {
            "marker": {
             "colorbar": {
              "outlinewidth": 0,
              "ticks": ""
             }
            },
            "type": "scattergl"
           }
          ],
          "scattermapbox": [
           {
            "marker": {
             "colorbar": {
              "outlinewidth": 0,
              "ticks": ""
             }
            },
            "type": "scattermapbox"
           }
          ],
          "scatterpolar": [
           {
            "marker": {
             "colorbar": {
              "outlinewidth": 0,
              "ticks": ""
             }
            },
            "type": "scatterpolar"
           }
          ],
          "scatterpolargl": [
           {
            "marker": {
             "colorbar": {
              "outlinewidth": 0,
              "ticks": ""
             }
            },
            "type": "scatterpolargl"
           }
          ],
          "scatterternary": [
           {
            "marker": {
             "colorbar": {
              "outlinewidth": 0,
              "ticks": ""
             }
            },
            "type": "scatterternary"
           }
          ],
          "surface": [
           {
            "colorbar": {
             "outlinewidth": 0,
             "ticks": ""
            },
            "colorscale": [
             [
              0,
              "#0d0887"
             ],
             [
              0.1111111111111111,
              "#46039f"
             ],
             [
              0.2222222222222222,
              "#7201a8"
             ],
             [
              0.3333333333333333,
              "#9c179e"
             ],
             [
              0.4444444444444444,
              "#bd3786"
             ],
             [
              0.5555555555555556,
              "#d8576b"
             ],
             [
              0.6666666666666666,
              "#ed7953"
             ],
             [
              0.7777777777777778,
              "#fb9f3a"
             ],
             [
              0.8888888888888888,
              "#fdca26"
             ],
             [
              1,
              "#f0f921"
             ]
            ],
            "type": "surface"
           }
          ],
          "table": [
           {
            "cells": {
             "fill": {
              "color": "#EBF0F8"
             },
             "line": {
              "color": "white"
             }
            },
            "header": {
             "fill": {
              "color": "#C8D4E3"
             },
             "line": {
              "color": "white"
             }
            },
            "type": "table"
           }
          ]
         },
         "layout": {
          "annotationdefaults": {
           "arrowcolor": "#2a3f5f",
           "arrowhead": 0,
           "arrowwidth": 1
          },
          "autotypenumbers": "strict",
          "coloraxis": {
           "colorbar": {
            "outlinewidth": 0,
            "ticks": ""
           }
          },
          "colorscale": {
           "diverging": [
            [
             0,
             "#8e0152"
            ],
            [
             0.1,
             "#c51b7d"
            ],
            [
             0.2,
             "#de77ae"
            ],
            [
             0.3,
             "#f1b6da"
            ],
            [
             0.4,
             "#fde0ef"
            ],
            [
             0.5,
             "#f7f7f7"
            ],
            [
             0.6,
             "#e6f5d0"
            ],
            [
             0.7,
             "#b8e186"
            ],
            [
             0.8,
             "#7fbc41"
            ],
            [
             0.9,
             "#4d9221"
            ],
            [
             1,
             "#276419"
            ]
           ],
           "sequential": [
            [
             0,
             "#0d0887"
            ],
            [
             0.1111111111111111,
             "#46039f"
            ],
            [
             0.2222222222222222,
             "#7201a8"
            ],
            [
             0.3333333333333333,
             "#9c179e"
            ],
            [
             0.4444444444444444,
             "#bd3786"
            ],
            [
             0.5555555555555556,
             "#d8576b"
            ],
            [
             0.6666666666666666,
             "#ed7953"
            ],
            [
             0.7777777777777778,
             "#fb9f3a"
            ],
            [
             0.8888888888888888,
             "#fdca26"
            ],
            [
             1,
             "#f0f921"
            ]
           ],
           "sequentialminus": [
            [
             0,
             "#0d0887"
            ],
            [
             0.1111111111111111,
             "#46039f"
            ],
            [
             0.2222222222222222,
             "#7201a8"
            ],
            [
             0.3333333333333333,
             "#9c179e"
            ],
            [
             0.4444444444444444,
             "#bd3786"
            ],
            [
             0.5555555555555556,
             "#d8576b"
            ],
            [
             0.6666666666666666,
             "#ed7953"
            ],
            [
             0.7777777777777778,
             "#fb9f3a"
            ],
            [
             0.8888888888888888,
             "#fdca26"
            ],
            [
             1,
             "#f0f921"
            ]
           ]
          },
          "colorway": [
           "#636efa",
           "#EF553B",
           "#00cc96",
           "#ab63fa",
           "#FFA15A",
           "#19d3f3",
           "#FF6692",
           "#B6E880",
           "#FF97FF",
           "#FECB52"
          ],
          "font": {
           "color": "#2a3f5f"
          },
          "geo": {
           "bgcolor": "white",
           "lakecolor": "white",
           "landcolor": "#E5ECF6",
           "showlakes": true,
           "showland": true,
           "subunitcolor": "white"
          },
          "hoverlabel": {
           "align": "left"
          },
          "hovermode": "closest",
          "mapbox": {
           "style": "light"
          },
          "paper_bgcolor": "white",
          "plot_bgcolor": "#E5ECF6",
          "polar": {
           "angularaxis": {
            "gridcolor": "white",
            "linecolor": "white",
            "ticks": ""
           },
           "bgcolor": "#E5ECF6",
           "radialaxis": {
            "gridcolor": "white",
            "linecolor": "white",
            "ticks": ""
           }
          },
          "scene": {
           "xaxis": {
            "backgroundcolor": "#E5ECF6",
            "gridcolor": "white",
            "gridwidth": 2,
            "linecolor": "white",
            "showbackground": true,
            "ticks": "",
            "zerolinecolor": "white"
           },
           "yaxis": {
            "backgroundcolor": "#E5ECF6",
            "gridcolor": "white",
            "gridwidth": 2,
            "linecolor": "white",
            "showbackground": true,
            "ticks": "",
            "zerolinecolor": "white"
           },
           "zaxis": {
            "backgroundcolor": "#E5ECF6",
            "gridcolor": "white",
            "gridwidth": 2,
            "linecolor": "white",
            "showbackground": true,
            "ticks": "",
            "zerolinecolor": "white"
           }
          },
          "shapedefaults": {
           "line": {
            "color": "#2a3f5f"
           }
          },
          "ternary": {
           "aaxis": {
            "gridcolor": "white",
            "linecolor": "white",
            "ticks": ""
           },
           "baxis": {
            "gridcolor": "white",
            "linecolor": "white",
            "ticks": ""
           },
           "bgcolor": "#E5ECF6",
           "caxis": {
            "gridcolor": "white",
            "linecolor": "white",
            "ticks": ""
           }
          },
          "title": {
           "x": 0.05
          },
          "xaxis": {
           "automargin": true,
           "gridcolor": "white",
           "linecolor": "white",
           "ticks": "",
           "title": {
            "standoff": 15
           },
           "zerolinecolor": "white",
           "zerolinewidth": 2
          },
          "yaxis": {
           "automargin": true,
           "gridcolor": "white",
           "linecolor": "white",
           "ticks": "",
           "title": {
            "standoff": 15
           },
           "zerolinecolor": "white",
           "zerolinewidth": 2
          }
         }
        },
        "xaxis": {
         "anchor": "y",
         "domain": [
          0,
          1
         ],
         "title": {
          "text": "R1"
         }
        },
        "xaxis2": {
         "anchor": "y2",
         "domain": [
          0,
          1
         ],
         "matches": "x",
         "showgrid": true,
         "showticklabels": false
        },
        "yaxis": {
         "anchor": "x",
         "domain": [
          0,
          0.7326
         ],
         "title": {
          "text": "count"
         }
        },
        "yaxis2": {
         "anchor": "x2",
         "domain": [
          0.7426,
          1
         ],
         "matches": "y2",
         "showgrid": false,
         "showline": false,
         "showticklabels": false,
         "ticks": ""
        }
       }
      }
     },
     "metadata": {},
     "output_type": "display_data"
    }
   ],
   "source": [
    "plot_model(kmeans, plot = 'distribution', feature = 'R1')"
   ]
  },
  {
   "cell_type": "code",
   "execution_count": 33,
   "id": "4c2b0070",
   "metadata": {},
   "outputs": [
    {
     "data": {
      "application/vnd.jupyter.widget-view+json": {
       "model_id": "4cfb8559da2247feae0a8a1e6cb40ca3",
       "version_major": 2,
       "version_minor": 0
      },
      "text/plain": [
       "interactive(children=(ToggleButtons(description='Plot Type:', icons=('',), options=(('Pipeline Plot', 'pipelin…"
      ]
     },
     "metadata": {},
     "output_type": "display_data"
    }
   ],
   "source": [
    "evaluate_model(kmeans)"
   ]
  },
  {
   "cell_type": "markdown",
   "id": "43189056",
   "metadata": {},
   "source": [
    "The predict_model function is used to assign cluster labels to a new unseen dataset. We can use our trained kmeans model to predict the data stored in data_unseen (not available)"
   ]
  },
  {
   "cell_type": "code",
   "execution_count": 31,
   "id": "7c9ba50f",
   "metadata": {},
   "outputs": [],
   "source": [
    "\n",
    "#unseen_predictions = predict_model(model = kmeans, data=data_unseen)\n",
    "#unseen_predictions.head()"
   ]
  },
  {
   "cell_type": "code",
   "execution_count": 34,
   "id": "eb9f4181",
   "metadata": {},
   "outputs": [
    {
     "name": "stdout",
     "output_type": "stream",
     "text": [
      "Transformation Pipeline and Model Successfully Saved\n"
     ]
    },
    {
     "data": {
      "text/plain": [
       "(Pipeline(memory=Memory(location=None),\n",
       "          steps=[('numerical_imputer',\n",
       "                  TransformerWrapper(include=['R1', 'R2', 'B1', 'B2', 'H1', 'H2',\n",
       "                                              'F1', 'F2'],\n",
       "                                     transformer=SimpleImputer())),\n",
       "                 ('categorical_imputer',\n",
       "                  TransformerWrapper(include=[],\n",
       "                                     transformer=SimpleImputer(strategy='most_frequent'))),\n",
       "                 ('normalize', TransformerWrapper(transformer=StandardScaler())),\n",
       "                 ('trained_model', KMeans(n_clusters=4, random_state=123))]),\n",
       " '../models/KMeans_Model_20240721.pkl')"
      ]
     },
     "execution_count": 34,
     "metadata": {},
     "output_type": "execute_result"
    }
   ],
   "source": [
    "save_model(kmeans,'../models/KMeans_Model_20240721')"
   ]
  },
  {
   "cell_type": "code",
   "execution_count": 35,
   "id": "c2000e32",
   "metadata": {},
   "outputs": [
    {
     "name": "stdout",
     "output_type": "stream",
     "text": [
      "Transformation Pipeline and Model Successfully Loaded\n"
     ]
    },
    {
     "data": {
      "text/html": [
       "<div>\n",
       "<style scoped>\n",
       "    .dataframe tbody tr th:only-of-type {\n",
       "        vertical-align: middle;\n",
       "    }\n",
       "\n",
       "    .dataframe tbody tr th {\n",
       "        vertical-align: top;\n",
       "    }\n",
       "\n",
       "    .dataframe thead th {\n",
       "        text-align: right;\n",
       "    }\n",
       "</style>\n",
       "<table border=\"1\" class=\"dataframe\">\n",
       "  <thead>\n",
       "    <tr style=\"text-align: right;\">\n",
       "      <th></th>\n",
       "      <th>R1</th>\n",
       "      <th>R2</th>\n",
       "      <th>B1</th>\n",
       "      <th>B2</th>\n",
       "      <th>H1</th>\n",
       "      <th>H2</th>\n",
       "      <th>F1</th>\n",
       "      <th>F2</th>\n",
       "      <th>Cluster</th>\n",
       "    </tr>\n",
       "  </thead>\n",
       "  <tbody>\n",
       "    <tr>\n",
       "      <th>0</th>\n",
       "      <td>37.0</td>\n",
       "      <td>63.0</td>\n",
       "      <td>3.0</td>\n",
       "      <td>13.0</td>\n",
       "      <td>1.0</td>\n",
       "      <td>4.0</td>\n",
       "      <td>3.0</td>\n",
       "      <td>0.0</td>\n",
       "      <td>Cluster 0</td>\n",
       "    </tr>\n",
       "    <tr>\n",
       "      <th>1</th>\n",
       "      <td>36.0</td>\n",
       "      <td>71.0</td>\n",
       "      <td>8.0</td>\n",
       "      <td>4.0</td>\n",
       "      <td>2.0</td>\n",
       "      <td>3.0</td>\n",
       "      <td>5.0</td>\n",
       "      <td>0.0</td>\n",
       "      <td>Cluster 0</td>\n",
       "    </tr>\n",
       "    <tr>\n",
       "      <th>2</th>\n",
       "      <td>35.0</td>\n",
       "      <td>63.0</td>\n",
       "      <td>14.0</td>\n",
       "      <td>20.0</td>\n",
       "      <td>7.0</td>\n",
       "      <td>1.0</td>\n",
       "      <td>6.0</td>\n",
       "      <td>2.0</td>\n",
       "      <td>Cluster 2</td>\n",
       "    </tr>\n",
       "    <tr>\n",
       "      <th>3</th>\n",
       "      <td>37.0</td>\n",
       "      <td>51.0</td>\n",
       "      <td>8.0</td>\n",
       "      <td>12.0</td>\n",
       "      <td>7.0</td>\n",
       "      <td>7.0</td>\n",
       "      <td>7.0</td>\n",
       "      <td>4.0</td>\n",
       "      <td>Cluster 3</td>\n",
       "    </tr>\n",
       "    <tr>\n",
       "      <th>4</th>\n",
       "      <td>30.0</td>\n",
       "      <td>55.0</td>\n",
       "      <td>7.0</td>\n",
       "      <td>6.0</td>\n",
       "      <td>13.0</td>\n",
       "      <td>6.0</td>\n",
       "      <td>1.0</td>\n",
       "      <td>1.0</td>\n",
       "      <td>Cluster 2</td>\n",
       "    </tr>\n",
       "  </tbody>\n",
       "</table>\n",
       "</div>"
      ],
      "text/plain": [
       "     R1    R2    B1    B2    H1   H2   F1   F2    Cluster\n",
       "0  37.0  63.0   3.0  13.0   1.0  4.0  3.0  0.0  Cluster 0\n",
       "1  36.0  71.0   8.0   4.0   2.0  3.0  5.0  0.0  Cluster 0\n",
       "2  35.0  63.0  14.0  20.0   7.0  1.0  6.0  2.0  Cluster 2\n",
       "3  37.0  51.0   8.0  12.0   7.0  7.0  7.0  4.0  Cluster 3\n",
       "4  30.0  55.0   7.0   6.0  13.0  6.0  1.0  1.0  Cluster 2"
      ]
     },
     "execution_count": 35,
     "metadata": {},
     "output_type": "execute_result"
    }
   ],
   "source": [
    "saved_kmeans = load_model('../models/KMeans_Model_20240721')\n",
    "#new_prediction = predict_model(saved_kmeans, data=data_unseen)\n",
    "new_prediction = predict_model(saved_kmeans, data=data)\n",
    "new_prediction.head()"
   ]
  },
  {
   "cell_type": "markdown",
   "id": "c1ff5a20",
   "metadata": {},
   "source": [
    "## Exploring our data with `K=3`"
   ]
  },
  {
   "cell_type": "code",
   "execution_count": 36,
   "id": "b0a9a91b",
   "metadata": {},
   "outputs": [
    {
     "name": "stdout",
     "output_type": "stream",
     "text": [
      "feat_names: ['R1', 'R2', 'B1', 'B2', 'H1', 'H2', 'F1', 'F2']\n"
     ]
    }
   ],
   "source": [
    "print(f'feat_names: {list(data.columns)}')"
   ]
  },
  {
   "cell_type": "code",
   "execution_count": 37,
   "id": "bb617e4c",
   "metadata": {},
   "outputs": [
    {
     "data": {
      "text/html": [],
      "text/plain": [
       "<IPython.core.display.HTML object>"
      ]
     },
     "metadata": {},
     "output_type": "display_data"
    },
    {
     "data": {
      "text/html": [
       "<style type=\"text/css\">\n",
       "</style>\n",
       "<table id=\"T_32d5f\">\n",
       "  <thead>\n",
       "    <tr>\n",
       "      <th class=\"blank level0\" >&nbsp;</th>\n",
       "      <th id=\"T_32d5f_level0_col0\" class=\"col_heading level0 col0\" >Silhouette</th>\n",
       "      <th id=\"T_32d5f_level0_col1\" class=\"col_heading level0 col1\" >Calinski-Harabasz</th>\n",
       "      <th id=\"T_32d5f_level0_col2\" class=\"col_heading level0 col2\" >Davies-Bouldin</th>\n",
       "      <th id=\"T_32d5f_level0_col3\" class=\"col_heading level0 col3\" >Homogeneity</th>\n",
       "      <th id=\"T_32d5f_level0_col4\" class=\"col_heading level0 col4\" >Rand Index</th>\n",
       "      <th id=\"T_32d5f_level0_col5\" class=\"col_heading level0 col5\" >Completeness</th>\n",
       "    </tr>\n",
       "  </thead>\n",
       "  <tbody>\n",
       "    <tr>\n",
       "      <th id=\"T_32d5f_level0_row0\" class=\"row_heading level0 row0\" >0</th>\n",
       "      <td id=\"T_32d5f_row0_col0\" class=\"data row0 col0\" >0.1574</td>\n",
       "      <td id=\"T_32d5f_row0_col1\" class=\"data row0 col1\" >21.1421</td>\n",
       "      <td id=\"T_32d5f_row0_col2\" class=\"data row0 col2\" >1.9990</td>\n",
       "      <td id=\"T_32d5f_row0_col3\" class=\"data row0 col3\" >0</td>\n",
       "      <td id=\"T_32d5f_row0_col4\" class=\"data row0 col4\" >0</td>\n",
       "      <td id=\"T_32d5f_row0_col5\" class=\"data row0 col5\" >0</td>\n",
       "    </tr>\n",
       "  </tbody>\n",
       "</table>\n"
      ],
      "text/plain": [
       "<pandas.io.formats.style.Styler at 0x14ea8df10>"
      ]
     },
     "metadata": {},
     "output_type": "display_data"
    },
    {
     "data": {
      "text/html": [],
      "text/plain": [
       "<IPython.core.display.HTML object>"
      ]
     },
     "metadata": {},
     "output_type": "display_data"
    }
   ],
   "source": [
    "# num_clusters: int, default = 4\n",
    "kmeans_3 = create_model('kmeans', num_clusters = 3)"
   ]
  },
  {
   "cell_type": "code",
   "execution_count": 38,
   "id": "0d2829f2",
   "metadata": {},
   "outputs": [
    {
     "data": {
      "text/html": [],
      "text/plain": [
       "<IPython.core.display.HTML object>"
      ]
     },
     "metadata": {},
     "output_type": "display_data"
    },
    {
     "data": {
      "image/png": "[encoded data removed]",
      "text/plain": [
       "<Figure size 800x550 with 1 Axes>"
      ]
     },
     "metadata": {},
     "output_type": "display_data"
    }
   ],
   "source": [
    "plot_model(kmeans_3, 'elbow')"
   ]
  },
  {
   "cell_type": "code",
   "execution_count": 39,
   "id": "2af88dd2",
   "metadata": {},
   "outputs": [
    {
     "data": {
      "text/html": [],
      "text/plain": [
       "<IPython.core.display.HTML object>"
      ]
     },
     "metadata": {},
     "output_type": "display_data"
    },
    {
     "data": {
      "image/png": "[encoded data removed]",
      "text/plain": [
       "<Figure size 800x550 with 1 Axes>"
      ]
     },
     "metadata": {},
     "output_type": "display_data"
    }
   ],
   "source": [
    "plot_model(kmeans_3, plot = 'silhouette')"
   ]
  },
  {
   "cell_type": "code",
   "execution_count": 40,
   "id": "d5fa7710",
   "metadata": {},
   "outputs": [
    {
     "data": {
      "text/html": [],
      "text/plain": [
       "<IPython.core.display.HTML object>"
      ]
     },
     "metadata": {},
     "output_type": "display_data"
    },
    {
     "data": {
      "application/vnd.plotly.v1+json": {
       "config": {
        "plotlyServerURL": "https://plot.ly"
       },
       "data": [
        {
         "customdata": [
          [
           39
          ],
          [
           35
          ],
          [
           39
          ],
          [
           42
          ],
          [
           39
          ],
          [
           33
          ],
          [
           39
          ],
          [
           37
          ],
          [
           27
          ],
          [
           36
          ],
          [
           35
          ],
          [
           35
          ],
          [
           27
          ],
          [
           34
          ],
          [
           35
          ],
          [
           30
          ],
          [
           40
          ],
          [
           35
          ],
          [
           30
          ],
          [
           30
          ],
          [
           24
          ],
          [
           37
          ],
          [
           32
          ]
         ],
         "hovertemplate": "Cluster=Cluster 0<br>0=%{x}<br>1=%{y}<br>2=%{z}<br>Feature=%{customdata[0]}<extra></extra>",
         "legendgroup": "Cluster 0",
         "marker": {
          "color": "#636efa",
          "opacity": 0.7,
          "symbol": "circle"
         },
         "mode": "markers",
         "name": "Cluster 0",
         "scene": "scene",
         "showlegend": true,
         "type": "scatter3d",
         "x": [
          -108.87692,
          -183.8574,
          121.50373,
          89.30934,
          -26.020344,
          -85.7848,
          4.903984,
          -15.813984,
          -82.40649,
          114.15474,
          52.872223,
          -10.104289,
          3.158273,
          -57.83884,
          20.143717,
          -75.02978,
          70.02701,
          -64.376434,
          -106.47872,
          -34.8576,
          -73.35743,
          13.685775,
          -113.249054
         ],
         "y": [
          -8.928593,
          -86.38724,
          -198.5531,
          40.954815,
          79.403595,
          -83.000305,
          10.188446,
          99.787315,
          -49.264915,
          37.95857,
          -70.740326,
          2.7139359,
          119.35006,
          -26.10732,
          37.53562,
          73.390175,
          54.749317,
          76.74296,
          -43.3641,
          31.857069,
          34.701084,
          50.622166,
          -59.863388
         ],
         "z": [
          -14.635868,
          -8.727378,
          89.25843,
          -83.55111,
          88.61202,
          -66.99531,
          87.01311,
          -74.478905,
          85.232185,
          63.585854,
          -94.55357,
          -65.2316,
          42.978092,
          -44.92192,
          -114.56016,
          76.59896,
          36.75377,
          -69.48487,
          -65.89442,
          -104.453064,
          113.68374,
          44.628185,
          -1.8371953
         ]
        },
        {
         "customdata": [
          [
           33
          ],
          [
           39
          ],
          [
           26
          ],
          [
           24
          ],
          [
           35
          ],
          [
           28
          ],
          [
           28
          ],
          [
           35
          ],
          [
           34
          ],
          [
           37
          ],
          [
           35
          ],
          [
           35
          ],
          [
           39
          ],
          [
           37
          ],
          [
           33
          ],
          [
           31
          ],
          [
           36
          ],
          [
           33
          ],
          [
           38
          ],
          [
           41
          ],
          [
           42
          ],
          [
           32
          ],
          [
           32
          ],
          [
           40
          ],
          [
           40
          ],
          [
           32
          ],
          [
           31
          ],
          [
           34
          ],
          [
           35
          ],
          [
           30
          ],
          [
           40
          ],
          [
           41
          ],
          [
           36
          ]
         ],
         "hovertemplate": "Cluster=Cluster 1<br>0=%{x}<br>1=%{y}<br>2=%{z}<br>Feature=%{customdata[0]}<extra></extra>",
         "legendgroup": "Cluster 1",
         "marker": {
          "color": "#EF553B",
          "opacity": 0.7,
          "symbol": "circle"
         },
         "mode": "markers",
         "name": "Cluster 1",
         "scene": "scene",
         "showlegend": true,
         "type": "scatter3d",
         "x": [
          58.38853,
          107.193146,
          -55.92525,
          107.994606,
          43.69221,
          47.66165,
          -12.882607,
          17.229904,
          110.61653,
          59.226704,
          54.99675,
          104.77716,
          45.566547,
          73.831154,
          99.05288,
          48.925625,
          92.414246,
          3.2339194,
          11.567688,
          124.68531,
          -7.970546,
          -95.5817,
          66.59716,
          -47.95725,
          45.58031,
          78.56427,
          6.777339,
          21.101196,
          -4.7056108,
          35.57403,
          56.381096,
          84.65087,
          49.00506
         ],
         "y": [
          -75.30679,
          -40.724964,
          -19.258514,
          -103.556076,
          44.26304,
          -54.493732,
          -61.23833,
          49.771904,
          102.30514,
          -22.32847,
          272.5804,
          9.869722,
          -19.658789,
          -2.6812475,
          -43.739956,
          91.73821,
          -57.00358,
          -90.756584,
          -52.09094,
          -21.395943,
          -94.79267,
          23.928432,
          -64.0809,
          -97.65334,
          -18.82935,
          -111.50141,
          -67.965225,
          -126.83462,
          -44.50229,
          -106.046906,
          84.7542,
          3.6806242,
          -5.1346188
         ],
         "z": [
          -23.209364,
          -1.9347689,
          -114.54538,
          -28.271223,
          111.4598,
          108.28609,
          -113.45984,
          -56.70245,
          24.436298,
          -14.057078,
          28.420294,
          -22.614727,
          -121.92503,
          95.34364,
          -60.03307,
          -74.09659,
          83.139084,
          96.28313,
          -63.072865,
          45.274666,
          -49.345997,
          -77.073364,
          25.803366,
          71.9444,
          41.796715,
          23.343676,
          31.160774,
          -16.234344,
          66.02666,
          57.683945,
          77.12367,
          26.131569,
          -65.40292
         ]
        },
        {
         "customdata": [
          [
           14
          ],
          [
           37
          ],
          [
           35
          ],
          [
           20
          ],
          [
           37
          ],
          [
           33
          ],
          [
           38
          ],
          [
           34
          ],
          [
           37
          ],
          [
           27
          ],
          [
           32
          ],
          [
           37
          ],
          [
           32
          ],
          [
           36
          ],
          [
           38
          ],
          [
           39
          ],
          [
           24
          ],
          [
           32
          ],
          [
           29
          ],
          [
           33
          ],
          [
           35
          ]
         ],
         "hovertemplate": "Cluster=Cluster 2<br>0=%{x}<br>1=%{y}<br>2=%{z}<br>Feature=%{customdata[0]}<extra></extra>",
         "legendgroup": "Cluster 2",
         "marker": {
          "color": "#00cc96",
          "opacity": 0.7,
          "symbol": "circle"
         },
         "mode": "markers",
         "name": "Cluster 2",
         "scene": "scene",
         "showlegend": true,
         "type": "scatter3d",
         "x": [
          23.051716,
          -89.25659,
          -82.73253,
          28.496809,
          -58.450005,
          -138.63591,
          -72.77005,
          -34.095646,
          -35.745144,
          0.41414815,
          2.3614964,
          -18.711338,
          -137.83105,
          -34.680695,
          -86.64631,
          -55.884064,
          -28.18703,
          -32.834816,
          76.739716,
          -57.073498,
          -45.502728
         ],
         "y": [
          23.925879,
          33.634285,
          105.56221,
          72.535355,
          -77.68133,
          37.67997,
          38.34066,
          7.30178,
          -18.425543,
          -35.727715,
          120.26543,
          -5.8313656,
          -24.337778,
          45.92627,
          -22.534967,
          4.283175,
          -127.12053,
          69.03738,
          72.064865,
          93.5543,
          -42.783382
         ],
         "z": [
          -7.129743,
          29.599777,
          -2.511892,
          -4.107204,
          -6.966605,
          13.425989,
          -18.746685,
          -10.343866,
          117.43441,
          -13.034058,
          -17.095587,
          29.970425,
          49.08657,
          30.215746,
          24.736803,
          63.73517,
          23.96966,
          -15.472353,
          -22.53471,
          39.138893,
          14.957171
         ]
        }
       ],
       "layout": {
        "height": 800,
        "legend": {
         "title": {
          "text": "Cluster"
         },
         "tracegroupgap": 0
        },
        "scene": {
         "domain": {
          "x": [
           0,
           1
          ],
          "y": [
           0,
           1
          ]
         },
         "xaxis": {
          "title": {
           "text": "0"
          }
         },
         "yaxis": {
          "title": {
           "text": "1"
          }
         },
         "zaxis": {
          "title": {
           "text": "2"
          }
         }
        },
        "template": {
         "data": {
          "bar": [
           {
            "error_x": {
             "color": "#2a3f5f"
            },
            "error_y": {
             "color": "#2a3f5f"
            },
            "marker": {
             "line": {
              "color": "#E5ECF6",
              "width": 0.5
             },
             "pattern": {
              "fillmode": "overlay",
              "size": 10,
              "solidity": 0.2
             }
            },
            "type": "bar"
           }
          ],
          "barpolar": [
           {
            "marker": {
             "line": {
              "color": "#E5ECF6",
              "width": 0.5
             },
             "pattern": {
              "fillmode": "overlay",
              "size": 10,
              "solidity": 0.2
             }
            },
            "type": "barpolar"
           }
          ],
          "carpet": [
           {
            "aaxis": {
             "endlinecolor": "#2a3f5f",
             "gridcolor": "white",
             "linecolor": "white",
             "minorgridcolor": "white",
             "startlinecolor": "#2a3f5f"
            },
            "baxis": {
             "endlinecolor": "#2a3f5f",
             "gridcolor": "white",
             "linecolor": "white",
             "minorgridcolor": "white",
             "startlinecolor": "#2a3f5f"
            },
            "type": "carpet"
           }
          ],
          "choropleth": [
           {
            "colorbar": {
             "outlinewidth": 0,
             "ticks": ""
            },
            "type": "choropleth"
           }
          ],
          "contour": [
           {
            "colorbar": {
             "outlinewidth": 0,
             "ticks": ""
            },
            "colorscale": [
             [
              0,
              "#0d0887"
             ],
             [
              0.1111111111111111,
              "#46039f"
             ],
             [
              0.2222222222222222,
              "#7201a8"
             ],
             [
              0.3333333333333333,
              "#9c179e"
             ],
             [
              0.4444444444444444,
              "#bd3786"
             ],
             [
              0.5555555555555556,
              "#d8576b"
             ],
             [
              0.6666666666666666,
              "#ed7953"
             ],
             [
              0.7777777777777778,
              "#fb9f3a"
             ],
             [
              0.8888888888888888,
              "#fdca26"
             ],
             [
              1,
              "#f0f921"
             ]
            ],
            "type": "contour"
           }
          ],
          "contourcarpet": [
           {
            "colorbar": {
             "outlinewidth": 0,
             "ticks": ""
            },
            "type": "contourcarpet"
           }
          ],
          "heatmap": [
           {
            "colorbar": {
             "outlinewidth": 0,
             "ticks": ""
            },
            "colorscale": [
             [
              0,
              "#0d0887"
             ],
             [
              0.1111111111111111,
              "#46039f"
             ],
             [
              0.2222222222222222,
              "#7201a8"
             ],
             [
              0.3333333333333333,
              "#9c179e"
             ],
             [
              0.4444444444444444,
              "#bd3786"
             ],
             [
              0.5555555555555556,
              "#d8576b"
             ],
             [
              0.6666666666666666,
              "#ed7953"
             ],
             [
              0.7777777777777778,
              "#fb9f3a"
             ],
             [
              0.8888888888888888,
              "#fdca26"
             ],
             [
              1,
              "#f0f921"
             ]
            ],
            "type": "heatmap"
           }
          ],
          "heatmapgl": [
           {
            "colorbar": {
             "outlinewidth": 0,
             "ticks": ""
            },
            "colorscale": [
             [
              0,
              "#0d0887"
             ],
             [
              0.1111111111111111,
              "#46039f"
             ],
             [
              0.2222222222222222,
              "#7201a8"
             ],
             [
              0.3333333333333333,
              "#9c179e"
             ],
             [
              0.4444444444444444,
              "#bd3786"
             ],
             [
              0.5555555555555556,
              "#d8576b"
             ],
             [
              0.6666666666666666,
              "#ed7953"
             ],
             [
              0.7777777777777778,
              "#fb9f3a"
             ],
             [
              0.8888888888888888,
              "#fdca26"
             ],
             [
              1,
              "#f0f921"
             ]
            ],
            "type": "heatmapgl"
           }
          ],
          "histogram": [
           {
            "marker": {
             "pattern": {
              "fillmode": "overlay",
              "size": 10,
              "solidity": 0.2
             }
            },
            "type": "histogram"
           }
          ],
          "histogram2d": [
           {
            "colorbar": {
             "outlinewidth": 0,
             "ticks": ""
            },
            "colorscale": [
             [
              0,
              "#0d0887"
             ],
             [
              0.1111111111111111,
              "#46039f"
             ],
             [
              0.2222222222222222,
              "#7201a8"
             ],
             [
              0.3333333333333333,
              "#9c179e"
             ],
             [
              0.4444444444444444,
              "#bd3786"
             ],
             [
              0.5555555555555556,
              "#d8576b"
             ],
             [
              0.6666666666666666,
              "#ed7953"
             ],
             [
              0.7777777777777778,
              "#fb9f3a"
             ],
             [
              0.8888888888888888,
              "#fdca26"
             ],
             [
              1,
              "#f0f921"
             ]
            ],
            "type": "histogram2d"
           }
          ],
          "histogram2dcontour": [
           {
            "colorbar": {
             "outlinewidth": 0,
             "ticks": ""
            },
            "colorscale": [
             [
              0,
              "#0d0887"
             ],
             [
              0.1111111111111111,
              "#46039f"
             ],
             [
              0.2222222222222222,
              "#7201a8"
             ],
             [
              0.3333333333333333,
              "#9c179e"
             ],
             [
              0.4444444444444444,
              "#bd3786"
             ],
             [
              0.5555555555555556,
              "#d8576b"
             ],
             [
              0.6666666666666666,
              "#ed7953"
             ],
             [
              0.7777777777777778,
              "#fb9f3a"
             ],
             [
              0.8888888888888888,
              "#fdca26"
             ],
             [
              1,
              "#f0f921"
             ]
            ],
            "type": "histogram2dcontour"
           }
          ],
          "mesh3d": [
           {
            "colorbar": {
             "outlinewidth": 0,
             "ticks": ""
            },
            "type": "mesh3d"
           }
          ],
          "parcoords": [
           {
            "line": {
             "colorbar": {
              "outlinewidth": 0,
              "ticks": ""
             }
            },
            "type": "parcoords"
           }
          ],
          "pie": [
           {
            "automargin": true,
            "type": "pie"
           }
          ],
          "scatter": [
           {
            "fillpattern": {
             "fillmode": "overlay",
             "size": 10,
             "solidity": 0.2
            },
            "type": "scatter"
           }
          ],
          "scatter3d": [
           {
            "line": {
             "colorbar": {
              "outlinewidth": 0,
              "ticks": ""
             }
            },
            "marker": {
             "colorbar": {
              "outlinewidth": 0,
              "ticks": ""
             }
            },
            "type": "scatter3d"
           }
          ],
          "scattercarpet": [
           {
            "marker": {
             "colorbar": {
              "outlinewidth": 0,
              "ticks": ""
             }
            },
            "type": "scattercarpet"
           }
          ],
          "scattergeo": [
           {
            "marker": {
             "colorbar": {
              "outlinewidth": 0,
              "ticks": ""
             }
            },
            "type": "scattergeo"
           }
          ],
          "scattergl": [
           {
            "marker": {
             "colorbar": {
              "outlinewidth": 0,
              "ticks": ""
             }
            },
            "type": "scattergl"
           }
          ],
          "scattermapbox": [
           {
            "marker": {
             "colorbar": {
              "outlinewidth": 0,
              "ticks": ""
             }
            },
            "type": "scattermapbox"
           }
          ],
          "scatterpolar": [
           {
            "marker": {
             "colorbar": {
              "outlinewidth": 0,
              "ticks": ""
             }
            },
            "type": "scatterpolar"
           }
          ],
          "scatterpolargl": [
           {
            "marker": {
             "colorbar": {
              "outlinewidth": 0,
              "ticks": ""
             }
            },
            "type": "scatterpolargl"
           }
          ],
          "scatterternary": [
           {
            "marker": {
             "colorbar": {
              "outlinewidth": 0,
              "ticks": ""
             }
            },
            "type": "scatterternary"
           }
          ],
          "surface": [
           {
            "colorbar": {
             "outlinewidth": 0,
             "ticks": ""
            },
            "colorscale": [
             [
              0,
              "#0d0887"
             ],
             [
              0.1111111111111111,
              "#46039f"
             ],
             [
              0.2222222222222222,
              "#7201a8"
             ],
             [
              0.3333333333333333,
              "#9c179e"
             ],
             [
              0.4444444444444444,
              "#bd3786"
             ],
             [
              0.5555555555555556,
              "#d8576b"
             ],
             [
              0.6666666666666666,
              "#ed7953"
             ],
             [
              0.7777777777777778,
              "#fb9f3a"
             ],
             [
              0.8888888888888888,
              "#fdca26"
             ],
             [
              1,
              "#f0f921"
             ]
            ],
            "type": "surface"
           }
          ],
          "table": [
           {
            "cells": {
             "fill": {
              "color": "#EBF0F8"
             },
             "line": {
              "color": "white"
             }
            },
            "header": {
             "fill": {
              "color": "#C8D4E3"
             },
             "line": {
              "color": "white"
             }
            },
            "type": "table"
           }
          ]
         },
         "layout": {
          "annotationdefaults": {
           "arrowcolor": "#2a3f5f",
           "arrowhead": 0,
           "arrowwidth": 1
          },
          "autotypenumbers": "strict",
          "coloraxis": {
           "colorbar": {
            "outlinewidth": 0,
            "ticks": ""
           }
          },
          "colorscale": {
           "diverging": [
            [
             0,
             "#8e0152"
            ],
            [
             0.1,
             "#c51b7d"
            ],
            [
             0.2,
             "#de77ae"
            ],
            [
             0.3,
             "#f1b6da"
            ],
            [
             0.4,
             "#fde0ef"
            ],
            [
             0.5,
             "#f7f7f7"
            ],
            [
             0.6,
             "#e6f5d0"
            ],
            [
             0.7,
             "#b8e186"
            ],
            [
             0.8,
             "#7fbc41"
            ],
            [
             0.9,
             "#4d9221"
            ],
            [
             1,
             "#276419"
            ]
           ],
           "sequential": [
            [
             0,
             "#0d0887"
            ],
            [
             0.1111111111111111,
             "#46039f"
            ],
            [
             0.2222222222222222,
             "#7201a8"
            ],
            [
             0.3333333333333333,
             "#9c179e"
            ],
            [
             0.4444444444444444,
             "#bd3786"
            ],
            [
             0.5555555555555556,
             "#d8576b"
            ],
            [
             0.6666666666666666,
             "#ed7953"
            ],
            [
             0.7777777777777778,
             "#fb9f3a"
            ],
            [
             0.8888888888888888,
             "#fdca26"
            ],
            [
             1,
             "#f0f921"
            ]
           ],
           "sequentialminus": [
            [
             0,
             "#0d0887"
            ],
            [
             0.1111111111111111,
             "#46039f"
            ],
            [
             0.2222222222222222,
             "#7201a8"
            ],
            [
             0.3333333333333333,
             "#9c179e"
            ],
            [
             0.4444444444444444,
             "#bd3786"
            ],
            [
             0.5555555555555556,
             "#d8576b"
            ],
            [
             0.6666666666666666,
             "#ed7953"
            ],
            [
             0.7777777777777778,
             "#fb9f3a"
            ],
            [
             0.8888888888888888,
             "#fdca26"
            ],
            [
             1,
             "#f0f921"
            ]
           ]
          },
          "colorway": [
           "#636efa",
           "#EF553B",
           "#00cc96",
           "#ab63fa",
           "#FFA15A",
           "#19d3f3",
           "#FF6692",
           "#B6E880",
           "#FF97FF",
           "#FECB52"
          ],
          "font": {
           "color": "#2a3f5f"
          },
          "geo": {
           "bgcolor": "white",
           "lakecolor": "white",
           "landcolor": "#E5ECF6",
           "showlakes": true,
           "showland": true,
           "subunitcolor": "white"
          },
          "hoverlabel": {
           "align": "left"
          },
          "hovermode": "closest",
          "mapbox": {
           "style": "light"
          },
          "paper_bgcolor": "white",
          "plot_bgcolor": "#E5ECF6",
          "polar": {
           "angularaxis": {
            "gridcolor": "white",
            "linecolor": "white",
            "ticks": ""
           },
           "bgcolor": "#E5ECF6",
           "radialaxis": {
            "gridcolor": "white",
            "linecolor": "white",
            "ticks": ""
           }
          },
          "scene": {
           "xaxis": {
            "backgroundcolor": "#E5ECF6",
            "gridcolor": "white",
            "gridwidth": 2,
            "linecolor": "white",
            "showbackground": true,
            "ticks": "",
            "zerolinecolor": "white"
           },
           "yaxis": {
            "backgroundcolor": "#E5ECF6",
            "gridcolor": "white",
            "gridwidth": 2,
            "linecolor": "white",
            "showbackground": true,
            "ticks": "",
            "zerolinecolor": "white"
           },
           "zaxis": {
            "backgroundcolor": "#E5ECF6",
            "gridcolor": "white",
            "gridwidth": 2,
            "linecolor": "white",
            "showbackground": true,
            "ticks": "",
            "zerolinecolor": "white"
           }
          },
          "shapedefaults": {
           "line": {
            "color": "#2a3f5f"
           }
          },
          "ternary": {
           "aaxis": {
            "gridcolor": "white",
            "linecolor": "white",
            "ticks": ""
           },
           "baxis": {
            "gridcolor": "white",
            "linecolor": "white",
            "ticks": ""
           },
           "bgcolor": "#E5ECF6",
           "caxis": {
            "gridcolor": "white",
            "linecolor": "white",
            "ticks": ""
           }
          },
          "title": {
           "x": 0.05
          },
          "xaxis": {
           "automargin": true,
           "gridcolor": "white",
           "linecolor": "white",
           "ticks": "",
           "title": {
            "standoff": 15
           },
           "zerolinecolor": "white",
           "zerolinewidth": 2
          },
          "yaxis": {
           "automargin": true,
           "gridcolor": "white",
           "linecolor": "white",
           "ticks": "",
           "title": {
            "standoff": 15
           },
           "zerolinecolor": "white",
           "zerolinewidth": 2
          }
         }
        },
        "title": {
         "text": "3d TSNE Plot for Clusters"
        },
        "width": 900
       }
      }
     },
     "metadata": {},
     "output_type": "display_data"
    }
   ],
   "source": [
    "plot_model(kmeans_3, plot='tsne')"
   ]
  },
  {
   "cell_type": "code",
   "execution_count": 41,
   "id": "8b07d5f0",
   "metadata": {},
   "outputs": [
    {
     "data": {
      "application/vnd.jupyter.widget-view+json": {
       "model_id": "8d2fc6cb01a543f49b74df4d4e949ee3",
       "version_major": 2,
       "version_minor": 0
      },
      "text/plain": [
       "interactive(children=(ToggleButtons(description='Plot Type:', icons=('',), options=(('Pipeline Plot', 'pipelin…"
      ]
     },
     "metadata": {},
     "output_type": "display_data"
    }
   ],
   "source": [
    "evaluate_model(kmeans_3)"
   ]
  },
  {
   "cell_type": "code",
   "execution_count": 42,
   "id": "7ffca419",
   "metadata": {},
   "outputs": [
    {
     "data": {
      "text/plain": [
       "array([[ 0.08582123, -0.08142342, -0.2777381 , -0.26233116,  0.5493817 ,\n",
       "         0.24817897,  0.3161475 ,  0.09401012],\n",
       "       [ 0.13633458,  0.33373553, -0.17284869, -0.5847442 , -0.75971085,\n",
       "        -0.66405976, -0.8781408 , -0.79189044],\n",
       "       [-0.30823472, -0.4352635 ,  0.57580864,  1.2061987 ,  0.59212756,\n",
       "         0.7717073 ,  1.0336787 ,  1.1414359 ]], dtype=float32)"
      ]
     },
     "execution_count": 42,
     "metadata": {},
     "output_type": "execute_result"
    }
   ],
   "source": [
    "# Find cluster centroids\n",
    "\n",
    "centroids = kmeans_3.cluster_centers_\n",
    "centroids\n"
   ]
  },
  {
   "cell_type": "markdown",
   "id": "3f365876",
   "metadata": {},
   "source": [
    "### K-means directly in `scikit-learn` (K=3)"
   ]
  },
  {
   "cell_type": "code",
   "execution_count": 43,
   "id": "25b53754",
   "metadata": {},
   "outputs": [
    {
     "data": {
      "text/html": [
       "<div>\n",
       "<style scoped>\n",
       "    .dataframe tbody tr th:only-of-type {\n",
       "        vertical-align: middle;\n",
       "    }\n",
       "\n",
       "    .dataframe tbody tr th {\n",
       "        vertical-align: top;\n",
       "    }\n",
       "\n",
       "    .dataframe thead th {\n",
       "        text-align: right;\n",
       "    }\n",
       "</style>\n",
       "<table border=\"1\" class=\"dataframe\">\n",
       "  <thead>\n",
       "    <tr style=\"text-align: right;\">\n",
       "      <th></th>\n",
       "      <th>R1</th>\n",
       "      <th>R2</th>\n",
       "      <th>B1</th>\n",
       "      <th>B2</th>\n",
       "      <th>H1</th>\n",
       "      <th>H2</th>\n",
       "      <th>F1</th>\n",
       "      <th>F2</th>\n",
       "    </tr>\n",
       "  </thead>\n",
       "  <tbody>\n",
       "    <tr>\n",
       "      <th>0</th>\n",
       "      <td>37.0</td>\n",
       "      <td>63.0</td>\n",
       "      <td>3.0</td>\n",
       "      <td>13.0</td>\n",
       "      <td>1.0</td>\n",
       "      <td>4.0</td>\n",
       "      <td>3.0</td>\n",
       "      <td>0.0</td>\n",
       "    </tr>\n",
       "    <tr>\n",
       "      <th>1</th>\n",
       "      <td>36.0</td>\n",
       "      <td>71.0</td>\n",
       "      <td>8.0</td>\n",
       "      <td>4.0</td>\n",
       "      <td>2.0</td>\n",
       "      <td>3.0</td>\n",
       "      <td>5.0</td>\n",
       "      <td>0.0</td>\n",
       "    </tr>\n",
       "    <tr>\n",
       "      <th>2</th>\n",
       "      <td>35.0</td>\n",
       "      <td>63.0</td>\n",
       "      <td>14.0</td>\n",
       "      <td>20.0</td>\n",
       "      <td>7.0</td>\n",
       "      <td>1.0</td>\n",
       "      <td>6.0</td>\n",
       "      <td>2.0</td>\n",
       "    </tr>\n",
       "    <tr>\n",
       "      <th>3</th>\n",
       "      <td>37.0</td>\n",
       "      <td>51.0</td>\n",
       "      <td>8.0</td>\n",
       "      <td>12.0</td>\n",
       "      <td>7.0</td>\n",
       "      <td>7.0</td>\n",
       "      <td>7.0</td>\n",
       "      <td>4.0</td>\n",
       "    </tr>\n",
       "    <tr>\n",
       "      <th>4</th>\n",
       "      <td>30.0</td>\n",
       "      <td>55.0</td>\n",
       "      <td>7.0</td>\n",
       "      <td>6.0</td>\n",
       "      <td>13.0</td>\n",
       "      <td>6.0</td>\n",
       "      <td>1.0</td>\n",
       "      <td>1.0</td>\n",
       "    </tr>\n",
       "    <tr>\n",
       "      <th>...</th>\n",
       "      <td>...</td>\n",
       "      <td>...</td>\n",
       "      <td>...</td>\n",
       "      <td>...</td>\n",
       "      <td>...</td>\n",
       "      <td>...</td>\n",
       "      <td>...</td>\n",
       "      <td>...</td>\n",
       "    </tr>\n",
       "    <tr>\n",
       "      <th>72</th>\n",
       "      <td>20.0</td>\n",
       "      <td>46.0</td>\n",
       "      <td>11.0</td>\n",
       "      <td>13.0</td>\n",
       "      <td>12.0</td>\n",
       "      <td>4.0</td>\n",
       "      <td>4.0</td>\n",
       "      <td>1.0</td>\n",
       "    </tr>\n",
       "    <tr>\n",
       "      <th>73</th>\n",
       "      <td>35.0</td>\n",
       "      <td>51.0</td>\n",
       "      <td>0.0</td>\n",
       "      <td>3.0</td>\n",
       "      <td>8.0</td>\n",
       "      <td>1.0</td>\n",
       "      <td>5.0</td>\n",
       "      <td>2.0</td>\n",
       "    </tr>\n",
       "    <tr>\n",
       "      <th>74</th>\n",
       "      <td>40.0</td>\n",
       "      <td>66.0</td>\n",
       "      <td>2.0</td>\n",
       "      <td>3.0</td>\n",
       "      <td>11.0</td>\n",
       "      <td>7.0</td>\n",
       "      <td>3.0</td>\n",
       "      <td>0.0</td>\n",
       "    </tr>\n",
       "    <tr>\n",
       "      <th>75</th>\n",
       "      <td>35.0</td>\n",
       "      <td>66.0</td>\n",
       "      <td>3.0</td>\n",
       "      <td>13.0</td>\n",
       "      <td>8.0</td>\n",
       "      <td>2.0</td>\n",
       "      <td>2.0</td>\n",
       "      <td>1.0</td>\n",
       "    </tr>\n",
       "    <tr>\n",
       "      <th>76</th>\n",
       "      <td>34.0</td>\n",
       "      <td>82.0</td>\n",
       "      <td>7.0</td>\n",
       "      <td>12.0</td>\n",
       "      <td>6.0</td>\n",
       "      <td>0.0</td>\n",
       "      <td>1.0</td>\n",
       "      <td>0.0</td>\n",
       "    </tr>\n",
       "  </tbody>\n",
       "</table>\n",
       "<p>77 rows × 8 columns</p>\n",
       "</div>"
      ],
      "text/plain": [
       "      R1    R2    B1    B2    H1   H2   F1   F2\n",
       "0   37.0  63.0   3.0  13.0   1.0  4.0  3.0  0.0\n",
       "1   36.0  71.0   8.0   4.0   2.0  3.0  5.0  0.0\n",
       "2   35.0  63.0  14.0  20.0   7.0  1.0  6.0  2.0\n",
       "3   37.0  51.0   8.0  12.0   7.0  7.0  7.0  4.0\n",
       "4   30.0  55.0   7.0   6.0  13.0  6.0  1.0  1.0\n",
       "..   ...   ...   ...   ...   ...  ...  ...  ...\n",
       "72  20.0  46.0  11.0  13.0  12.0  4.0  4.0  1.0\n",
       "73  35.0  51.0   0.0   3.0   8.0  1.0  5.0  2.0\n",
       "74  40.0  66.0   2.0   3.0  11.0  7.0  3.0  0.0\n",
       "75  35.0  66.0   3.0  13.0   8.0  2.0  2.0  1.0\n",
       "76  34.0  82.0   7.0  12.0   6.0  0.0  1.0  0.0\n",
       "\n",
       "[77 rows x 8 columns]"
      ]
     },
     "execution_count": 43,
     "metadata": {},
     "output_type": "execute_result"
    }
   ],
   "source": [
    "X_orig = data\n",
    "X_orig"
   ]
  },
  {
   "cell_type": "code",
   "execution_count": 44,
   "id": "4a3189bc",
   "metadata": {},
   "outputs": [
    {
     "name": "stdout",
     "output_type": "stream",
     "text": [
      "[0 0 2 2 1 2 1 0 0 0 2 2 0 0 2 2 2 0 2 0 0 0 0 0 2 0 0 2 2 0 2 2 0 2 0 0 1\n",
      " 1 0 2 2 2 0 1 2 0 0 0 0 0 0 1 1 0 2 1 0 1 2 1 0 1 0 0 2 0 2 2 2 2 0 1 1 0\n",
      " 0 0 0]\n"
     ]
    },
    {
     "data": {
      "text/plain": [
       "array([[35.5 , 63.26,  3.95,  6.5 ,  4.03,  1.89,  1.39,  0.37],\n",
       "       [27.54, 50.92,  7.15,  8.77, 10.08,  4.62,  3.08,  0.85],\n",
       "       [34.77, 58.88,  6.12, 13.27,  8.54,  6.04,  6.15,  2.77]])"
      ]
     },
     "execution_count": 44,
     "metadata": {},
     "output_type": "execute_result"
    }
   ],
   "source": [
    "from sklearn.cluster import KMeans\n",
    "from sklearn.preprocessing import StandardScaler\n",
    "\n",
    "# Consider k-means clustering of X with k=K clusters\n",
    "K = 3\n",
    "\n",
    "# Make the X a numpy array\n",
    "X_o = X_orig.to_numpy()\n",
    "\n",
    "# Create a StandardScaler instance\n",
    "scaler = StandardScaler()\n",
    "\n",
    "# Scale the X to have mean 0 and variance 1\n",
    "X_o_s = scaler.fit_transform(X_o)\n",
    "\n",
    "# Create a KMeans instance with K clusters: model\n",
    "model = KMeans(n_clusters=K, n_init=10, max_iter=300, random_state=42)\n",
    "\n",
    "# Fit model to scaled points\n",
    "model.fit(X_o_s)\n",
    "\n",
    "# Determine the cluster labels of \"new_points\": labels\n",
    "labels = model.predict(X_o_s)\n",
    "\n",
    "# Print cluster labels of \"new_points\"\n",
    "print(labels)\n",
    "\n",
    "# Assign the cluster centers: centroids\n",
    "centroids_s = model.cluster_centers_\n",
    "\n",
    "# Re-scale the centroids to the original scale\n",
    "centroids = scaler.inverse_transform(centroids_s)\n",
    "\n",
    "centroids.round(2)"
   ]
  },
  {
   "cell_type": "code",
   "execution_count": 45,
   "id": "1343ea9b",
   "metadata": {},
   "outputs": [
    {
     "data": {
      "text/html": [
       "<div>\n",
       "<style scoped>\n",
       "    .dataframe tbody tr th:only-of-type {\n",
       "        vertical-align: middle;\n",
       "    }\n",
       "\n",
       "    .dataframe tbody tr th {\n",
       "        vertical-align: top;\n",
       "    }\n",
       "\n",
       "    .dataframe thead th {\n",
       "        text-align: right;\n",
       "    }\n",
       "</style>\n",
       "<table border=\"1\" class=\"dataframe\">\n",
       "  <thead>\n",
       "    <tr style=\"text-align: right;\">\n",
       "      <th></th>\n",
       "      <th>0</th>\n",
       "      <th>1</th>\n",
       "      <th>2</th>\n",
       "      <th>3</th>\n",
       "      <th>4</th>\n",
       "    </tr>\n",
       "  </thead>\n",
       "  <tbody>\n",
       "    <tr>\n",
       "      <th>R1</th>\n",
       "      <td>37.0</td>\n",
       "      <td>36.0</td>\n",
       "      <td>35.0</td>\n",
       "      <td>37.0</td>\n",
       "      <td>30.0</td>\n",
       "    </tr>\n",
       "    <tr>\n",
       "      <th>R2</th>\n",
       "      <td>63.0</td>\n",
       "      <td>71.0</td>\n",
       "      <td>63.0</td>\n",
       "      <td>51.0</td>\n",
       "      <td>55.0</td>\n",
       "    </tr>\n",
       "    <tr>\n",
       "      <th>B1</th>\n",
       "      <td>3.0</td>\n",
       "      <td>8.0</td>\n",
       "      <td>14.0</td>\n",
       "      <td>8.0</td>\n",
       "      <td>7.0</td>\n",
       "    </tr>\n",
       "    <tr>\n",
       "      <th>B2</th>\n",
       "      <td>13.0</td>\n",
       "      <td>4.0</td>\n",
       "      <td>20.0</td>\n",
       "      <td>12.0</td>\n",
       "      <td>6.0</td>\n",
       "    </tr>\n",
       "    <tr>\n",
       "      <th>H1</th>\n",
       "      <td>1.0</td>\n",
       "      <td>2.0</td>\n",
       "      <td>7.0</td>\n",
       "      <td>7.0</td>\n",
       "      <td>13.0</td>\n",
       "    </tr>\n",
       "    <tr>\n",
       "      <th>H2</th>\n",
       "      <td>4.0</td>\n",
       "      <td>3.0</td>\n",
       "      <td>1.0</td>\n",
       "      <td>7.0</td>\n",
       "      <td>6.0</td>\n",
       "    </tr>\n",
       "    <tr>\n",
       "      <th>F1</th>\n",
       "      <td>3.0</td>\n",
       "      <td>5.0</td>\n",
       "      <td>6.0</td>\n",
       "      <td>7.0</td>\n",
       "      <td>1.0</td>\n",
       "    </tr>\n",
       "    <tr>\n",
       "      <th>F2</th>\n",
       "      <td>0.0</td>\n",
       "      <td>0.0</td>\n",
       "      <td>2.0</td>\n",
       "      <td>4.0</td>\n",
       "      <td>1.0</td>\n",
       "    </tr>\n",
       "    <tr>\n",
       "      <th>BGA</th>\n",
       "      <td>BGA_046</td>\n",
       "      <td>BGA_051</td>\n",
       "      <td>BGA_057</td>\n",
       "      <td>BGA_058</td>\n",
       "      <td>BGA_059</td>\n",
       "    </tr>\n",
       "    <tr>\n",
       "      <th>Cluster</th>\n",
       "      <td>0</td>\n",
       "      <td>0</td>\n",
       "      <td>2</td>\n",
       "      <td>2</td>\n",
       "      <td>1</td>\n",
       "    </tr>\n",
       "    <tr>\n",
       "      <th>Group</th>\n",
       "      <td>IBS</td>\n",
       "      <td>IBS</td>\n",
       "      <td>IBS</td>\n",
       "      <td>IBS</td>\n",
       "      <td>IBS</td>\n",
       "    </tr>\n",
       "    <tr>\n",
       "      <th>Sex</th>\n",
       "      <td>M</td>\n",
       "      <td>M</td>\n",
       "      <td>F</td>\n",
       "      <td>F</td>\n",
       "      <td>F</td>\n",
       "    </tr>\n",
       "    <tr>\n",
       "      <th>Age</th>\n",
       "      <td>38.0</td>\n",
       "      <td>38.0</td>\n",
       "      <td>30.0</td>\n",
       "      <td>57.0</td>\n",
       "      <td>43.0</td>\n",
       "    </tr>\n",
       "    <tr>\n",
       "      <th>IBS-SSS</th>\n",
       "      <td>195.0</td>\n",
       "      <td>293.0</td>\n",
       "      <td>264.0</td>\n",
       "      <td>296.0</td>\n",
       "      <td>364.0</td>\n",
       "    </tr>\n",
       "  </tbody>\n",
       "</table>\n",
       "</div>"
      ],
      "text/plain": [
       "               0        1        2        3        4\n",
       "R1          37.0     36.0     35.0     37.0     30.0\n",
       "R2          63.0     71.0     63.0     51.0     55.0\n",
       "B1           3.0      8.0     14.0      8.0      7.0\n",
       "B2          13.0      4.0     20.0     12.0      6.0\n",
       "H1           1.0      2.0      7.0      7.0     13.0\n",
       "H2           4.0      3.0      1.0      7.0      6.0\n",
       "F1           3.0      5.0      6.0      7.0      1.0\n",
       "F2           0.0      0.0      2.0      4.0      1.0\n",
       "BGA      BGA_046  BGA_051  BGA_057  BGA_058  BGA_059\n",
       "Cluster        0        0        2        2        1\n",
       "Group        IBS      IBS      IBS      IBS      IBS\n",
       "Sex            M        M        F        F        F\n",
       "Age         38.0     38.0     30.0     57.0     43.0\n",
       "IBS-SSS    195.0    293.0    264.0    296.0    364.0"
      ]
     },
     "execution_count": 45,
     "metadata": {},
     "output_type": "execute_result"
    }
   ],
   "source": [
    "# Add the cluster labels as a new column to the dataframe data\n",
    "data_ext = data.copy()\n",
    "data_ext['BGA'] = df_in['BGA']\n",
    "data_ext['Cluster'] = labels.astype(int)\n",
    "data_ext['Group'] = df_in['Group']\n",
    "data_ext['Sex'] = df_in['Sex']\n",
    "data_ext['Age'] = df_in['Age']\n",
    "data_ext['IBS-SSS'] = df_in['IBS-SSS']\n",
    "data_ext.head(5).T"
   ]
  },
  {
   "cell_type": "code",
   "execution_count": 46,
   "id": "1b19e690",
   "metadata": {},
   "outputs": [
    {
     "name": "stdout",
     "output_type": "stream",
     "text": [
      "Group\n",
      "IBS    49\n",
      "HC     28\n",
      "Name: count, dtype: int64\n",
      "Sex\n",
      "F    56\n",
      "M    21\n",
      "Name: count, dtype: int64\n",
      "Cluster\n",
      "0    38\n",
      "1    13\n",
      "2    26\n",
      "Name: count, dtype: int64\n"
     ]
    }
   ],
   "source": [
    "print(data_ext['Group'].value_counts())\n",
    "print(data_ext['Sex'].value_counts())\n",
    "\n",
    "# Print values_conts for the cluster labels sorted by cluster\n",
    "print(data_ext['Cluster'].value_counts().sort_index())\n",
    "\n"
   ]
  },
  {
   "cell_type": "code",
   "execution_count": 47,
   "id": "14f48541",
   "metadata": {},
   "outputs": [
    {
     "data": {
      "text/plain": [
       "[38, 13, 26]"
      ]
     },
     "execution_count": 47,
     "metadata": {},
     "output_type": "execute_result"
    }
   ],
   "source": [
    "n_IBS = data_ext['Group'].value_counts().iloc[0]\n",
    "n_HC = data_ext['Group'].value_counts().iloc[1]\n",
    "\n",
    "n_F = data_ext['Sex'].value_counts().iloc[0]\n",
    "n_M = data_ext['Sex'].value_counts().iloc[1]\n",
    "\n",
    "n_clu = [data_ext['Cluster'].value_counts().sort_index().iloc[i] for i in range(K)]\n",
    "\n",
    "# Get number of IBS and HC in clusters 0, 1 and 2\n",
    "n_IBS_clu = [len(data_ext[(data_ext['Cluster'] == i) & (data_ext['Group'] == 'IBS')]) for i in range(K)]\n",
    "n_HC_clu = [len(data_ext[(data_ext['Cluster'] == i) & (data_ext['Group'] == 'HC')]) for i in range(K)]\n",
    "\n",
    "# Get number of M and F in clusters 0, 1 and 2\n",
    "n_M_clu = [len(data_ext[(data_ext['Cluster'] == i) & (data_ext['Sex'] == 'M')]) for i in range(K)]\n",
    "n_F_clu = [len(data_ext[(data_ext['Cluster'] == i) & (data_ext['Sex'] == 'F')]) for i in range(K)]\n",
    "\n",
    "n_clu"
   ]
  },
  {
   "cell_type": "code",
   "execution_count": 48,
   "id": "28930f25",
   "metadata": {},
   "outputs": [
    {
     "data": {
      "text/plain": [
       "['R1', 'R2', 'B1', 'B2', 'H1', 'H2', 'F1', 'F2']"
      ]
     },
     "execution_count": 48,
     "metadata": {},
     "output_type": "execute_result"
    }
   ],
   "source": [
    "list(data.columns)"
   ]
  },
  {
   "cell_type": "markdown",
   "id": "0b9bca0f",
   "metadata": {},
   "source": [
    "### Figure 5:  K-means centroides (K=3) and individual profiles with annotations"
   ]
  },
  {
   "cell_type": "code",
   "execution_count": 49,
   "id": "564435ff",
   "metadata": {},
   "outputs": [
    {
     "data": {
      "image/png": "[encoded data removed]",
      "text/plain": [
       "<Figure size 1200x1000 with 1 Axes>"
      ]
     },
     "metadata": {},
     "output_type": "display_data"
    }
   ],
   "source": [
    "# Use columns R1, R2, B1, B2, H1, H2, F1, F2 as xticks\n",
    "xticks = list(data.columns) \n",
    "n_var = len(xticks)\n",
    "\n",
    "# Set the figure size\n",
    "fig = plt.figure(figsize=(12, 10))\n",
    "\n",
    "# Make a lineplot of the centroids and add all X_orig data to the lineplot\n",
    "color_list = ['green', 'orange', 'yellow']\n",
    "for i in range(K):\n",
    "    plt.plot(xticks, centroids[i], label=f'Clu_{i+1} (n={n_clu[i]}): $n_{{IBS}}$={n_IBS_clu[i]}; $n_{{HC}}$={n_HC_clu[i]}; (F/M={n_F_clu[i]}/{n_M_clu[i]})', color=color_list[i], linewidth=4.0)\n",
    "\n",
    "for i in range(len(X_o)):\n",
    "    if data_ext['Group'][i] == 'IBS':\n",
    "        if data_ext['Sex'][i] == 'M':\n",
    "            plt.plot(xticks, X_o[i], color='red', alpha=0.5, linewidth=0.9, linestyle='dotted')\n",
    "        else:\n",
    "            plt.plot(xticks, X_o[i], color='red', alpha=0.1, linewidth=1.5)\n",
    "    else:\n",
    "        if data_ext['Sex'][i] == 'M':\n",
    "            plt.plot(xticks, X_o[i], color='blue', alpha=0.5, linewidth=0.9, linestyle='dotted')\n",
    "        else:\n",
    "            plt.plot(xticks, X_o[i], color='blue', alpha=0.1, linewidth=1.5)\n",
    "plt.legend()\n",
    "plt.ylabel('Score', fontsize=16)\n",
    "plt.xlabel('Psychological distress features', fontsize=16)\n",
    "plt.title(f\"K-means centroids (K={K}) and profile of core (n={n_var}) variables; IBS (n={n_IBS}): red; HC (n={n_HC}): blue; M (n={n_M}): dotted\", fontsize=14)\n",
    "plt.show()\n",
    "\n",
    "# Save figure\n",
    "fig.savefig('../figs/Fig_5_Kmeans_3_centroid_plots_with_annot.png')"
   ]
  },
  {
   "cell_type": "markdown",
   "id": "39480254",
   "metadata": {},
   "source": [
    "### Table 4: K-means (K=3) results\n",
    "\n",
    "\n",
    "NOTE: Cluster numbering starts at 0"
   ]
  },
  {
   "cell_type": "code",
   "execution_count": 50,
   "id": "b2ba209d",
   "metadata": {},
   "outputs": [
    {
     "data": {
      "text/html": [
       "<div>\n",
       "<style scoped>\n",
       "    .dataframe tbody tr th:only-of-type {\n",
       "        vertical-align: middle;\n",
       "    }\n",
       "\n",
       "    .dataframe tbody tr th {\n",
       "        vertical-align: top;\n",
       "    }\n",
       "\n",
       "    .dataframe thead th {\n",
       "        text-align: right;\n",
       "    }\n",
       "</style>\n",
       "<table border=\"1\" class=\"dataframe\">\n",
       "  <thead>\n",
       "    <tr style=\"text-align: right;\">\n",
       "      <th></th>\n",
       "      <th>Cluster</th>\n",
       "      <th>n</th>\n",
       "      <th>feature</th>\n",
       "      <th>mean</th>\n",
       "      <th>std</th>\n",
       "      <th>median</th>\n",
       "      <th>min</th>\n",
       "      <th>max</th>\n",
       "    </tr>\n",
       "  </thead>\n",
       "  <tbody>\n",
       "    <tr>\n",
       "      <th>0</th>\n",
       "      <td>0</td>\n",
       "      <td>38</td>\n",
       "      <td>R1</td>\n",
       "      <td>35.50</td>\n",
       "      <td>3.60</td>\n",
       "      <td>35.0</td>\n",
       "      <td>28.0</td>\n",
       "      <td>42.0</td>\n",
       "    </tr>\n",
       "    <tr>\n",
       "      <th>1</th>\n",
       "      <td>0</td>\n",
       "      <td>38</td>\n",
       "      <td>R2</td>\n",
       "      <td>63.26</td>\n",
       "      <td>7.28</td>\n",
       "      <td>64.5</td>\n",
       "      <td>47.0</td>\n",
       "      <td>82.0</td>\n",
       "    </tr>\n",
       "    <tr>\n",
       "      <th>2</th>\n",
       "      <td>0</td>\n",
       "      <td>38</td>\n",
       "      <td>B1</td>\n",
       "      <td>3.95</td>\n",
       "      <td>4.21</td>\n",
       "      <td>2.5</td>\n",
       "      <td>0.0</td>\n",
       "      <td>16.0</td>\n",
       "    </tr>\n",
       "    <tr>\n",
       "      <th>3</th>\n",
       "      <td>0</td>\n",
       "      <td>38</td>\n",
       "      <td>B2</td>\n",
       "      <td>6.50</td>\n",
       "      <td>3.30</td>\n",
       "      <td>7.0</td>\n",
       "      <td>1.0</td>\n",
       "      <td>13.0</td>\n",
       "    </tr>\n",
       "    <tr>\n",
       "      <th>4</th>\n",
       "      <td>0</td>\n",
       "      <td>38</td>\n",
       "      <td>H1</td>\n",
       "      <td>4.03</td>\n",
       "      <td>2.98</td>\n",
       "      <td>3.0</td>\n",
       "      <td>0.0</td>\n",
       "      <td>11.0</td>\n",
       "    </tr>\n",
       "    <tr>\n",
       "      <th>5</th>\n",
       "      <td>0</td>\n",
       "      <td>38</td>\n",
       "      <td>H2</td>\n",
       "      <td>1.89</td>\n",
       "      <td>1.75</td>\n",
       "      <td>1.0</td>\n",
       "      <td>0.0</td>\n",
       "      <td>7.0</td>\n",
       "    </tr>\n",
       "    <tr>\n",
       "      <th>6</th>\n",
       "      <td>0</td>\n",
       "      <td>38</td>\n",
       "      <td>F1</td>\n",
       "      <td>1.39</td>\n",
       "      <td>1.84</td>\n",
       "      <td>0.5</td>\n",
       "      <td>0.0</td>\n",
       "      <td>6.0</td>\n",
       "    </tr>\n",
       "    <tr>\n",
       "      <th>7</th>\n",
       "      <td>0</td>\n",
       "      <td>38</td>\n",
       "      <td>F2</td>\n",
       "      <td>0.37</td>\n",
       "      <td>0.71</td>\n",
       "      <td>0.0</td>\n",
       "      <td>0.0</td>\n",
       "      <td>3.0</td>\n",
       "    </tr>\n",
       "    <tr>\n",
       "      <th>8</th>\n",
       "      <td>1</td>\n",
       "      <td>13</td>\n",
       "      <td>R1</td>\n",
       "      <td>27.54</td>\n",
       "      <td>6.35</td>\n",
       "      <td>27.0</td>\n",
       "      <td>14.0</td>\n",
       "      <td>37.0</td>\n",
       "    </tr>\n",
       "    <tr>\n",
       "      <th>9</th>\n",
       "      <td>1</td>\n",
       "      <td>13</td>\n",
       "      <td>R2</td>\n",
       "      <td>50.92</td>\n",
       "      <td>7.38</td>\n",
       "      <td>51.0</td>\n",
       "      <td>35.0</td>\n",
       "      <td>60.0</td>\n",
       "    </tr>\n",
       "    <tr>\n",
       "      <th>10</th>\n",
       "      <td>1</td>\n",
       "      <td>13</td>\n",
       "      <td>B1</td>\n",
       "      <td>7.15</td>\n",
       "      <td>3.46</td>\n",
       "      <td>7.0</td>\n",
       "      <td>2.0</td>\n",
       "      <td>13.0</td>\n",
       "    </tr>\n",
       "    <tr>\n",
       "      <th>11</th>\n",
       "      <td>1</td>\n",
       "      <td>13</td>\n",
       "      <td>B2</td>\n",
       "      <td>8.77</td>\n",
       "      <td>4.11</td>\n",
       "      <td>11.0</td>\n",
       "      <td>2.0</td>\n",
       "      <td>14.0</td>\n",
       "    </tr>\n",
       "    <tr>\n",
       "      <th>12</th>\n",
       "      <td>1</td>\n",
       "      <td>13</td>\n",
       "      <td>H1</td>\n",
       "      <td>10.08</td>\n",
       "      <td>3.68</td>\n",
       "      <td>11.0</td>\n",
       "      <td>4.0</td>\n",
       "      <td>17.0</td>\n",
       "    </tr>\n",
       "    <tr>\n",
       "      <th>13</th>\n",
       "      <td>1</td>\n",
       "      <td>13</td>\n",
       "      <td>H2</td>\n",
       "      <td>4.62</td>\n",
       "      <td>2.47</td>\n",
       "      <td>4.0</td>\n",
       "      <td>0.0</td>\n",
       "      <td>9.0</td>\n",
       "    </tr>\n",
       "    <tr>\n",
       "      <th>14</th>\n",
       "      <td>1</td>\n",
       "      <td>13</td>\n",
       "      <td>F1</td>\n",
       "      <td>3.08</td>\n",
       "      <td>2.06</td>\n",
       "      <td>4.0</td>\n",
       "      <td>0.0</td>\n",
       "      <td>7.0</td>\n",
       "    </tr>\n",
       "    <tr>\n",
       "      <th>15</th>\n",
       "      <td>1</td>\n",
       "      <td>13</td>\n",
       "      <td>F2</td>\n",
       "      <td>0.85</td>\n",
       "      <td>1.21</td>\n",
       "      <td>0.0</td>\n",
       "      <td>0.0</td>\n",
       "      <td>4.0</td>\n",
       "    </tr>\n",
       "    <tr>\n",
       "      <th>16</th>\n",
       "      <td>2</td>\n",
       "      <td>26</td>\n",
       "      <td>R1</td>\n",
       "      <td>34.77</td>\n",
       "      <td>4.03</td>\n",
       "      <td>35.0</td>\n",
       "      <td>24.0</td>\n",
       "      <td>42.0</td>\n",
       "    </tr>\n",
       "    <tr>\n",
       "      <th>17</th>\n",
       "      <td>2</td>\n",
       "      <td>26</td>\n",
       "      <td>R2</td>\n",
       "      <td>58.88</td>\n",
       "      <td>7.99</td>\n",
       "      <td>60.0</td>\n",
       "      <td>43.0</td>\n",
       "      <td>72.0</td>\n",
       "    </tr>\n",
       "    <tr>\n",
       "      <th>18</th>\n",
       "      <td>2</td>\n",
       "      <td>26</td>\n",
       "      <td>B1</td>\n",
       "      <td>6.12</td>\n",
       "      <td>3.76</td>\n",
       "      <td>5.5</td>\n",
       "      <td>0.0</td>\n",
       "      <td>14.0</td>\n",
       "    </tr>\n",
       "    <tr>\n",
       "      <th>19</th>\n",
       "      <td>2</td>\n",
       "      <td>26</td>\n",
       "      <td>B2</td>\n",
       "      <td>13.27</td>\n",
       "      <td>4.79</td>\n",
       "      <td>13.0</td>\n",
       "      <td>4.0</td>\n",
       "      <td>21.0</td>\n",
       "    </tr>\n",
       "    <tr>\n",
       "      <th>20</th>\n",
       "      <td>2</td>\n",
       "      <td>26</td>\n",
       "      <td>H1</td>\n",
       "      <td>8.54</td>\n",
       "      <td>4.00</td>\n",
       "      <td>7.5</td>\n",
       "      <td>2.0</td>\n",
       "      <td>17.0</td>\n",
       "    </tr>\n",
       "    <tr>\n",
       "      <th>21</th>\n",
       "      <td>2</td>\n",
       "      <td>26</td>\n",
       "      <td>H2</td>\n",
       "      <td>6.04</td>\n",
       "      <td>3.32</td>\n",
       "      <td>6.0</td>\n",
       "      <td>0.0</td>\n",
       "      <td>14.0</td>\n",
       "    </tr>\n",
       "    <tr>\n",
       "      <th>22</th>\n",
       "      <td>2</td>\n",
       "      <td>26</td>\n",
       "      <td>F1</td>\n",
       "      <td>6.15</td>\n",
       "      <td>0.97</td>\n",
       "      <td>6.5</td>\n",
       "      <td>4.0</td>\n",
       "      <td>7.0</td>\n",
       "    </tr>\n",
       "    <tr>\n",
       "      <th>23</th>\n",
       "      <td>2</td>\n",
       "      <td>26</td>\n",
       "      <td>F2</td>\n",
       "      <td>2.77</td>\n",
       "      <td>0.95</td>\n",
       "      <td>3.0</td>\n",
       "      <td>1.0</td>\n",
       "      <td>4.0</td>\n",
       "    </tr>\n",
       "  </tbody>\n",
       "</table>\n",
       "</div>"
      ],
      "text/plain": [
       "    Cluster   n feature   mean   std  median   min   max\n",
       "0         0  38      R1  35.50  3.60    35.0  28.0  42.0\n",
       "1         0  38      R2  63.26  7.28    64.5  47.0  82.0\n",
       "2         0  38      B1   3.95  4.21     2.5   0.0  16.0\n",
       "3         0  38      B2   6.50  3.30     7.0   1.0  13.0\n",
       "4         0  38      H1   4.03  2.98     3.0   0.0  11.0\n",
       "5         0  38      H2   1.89  1.75     1.0   0.0   7.0\n",
       "6         0  38      F1   1.39  1.84     0.5   0.0   6.0\n",
       "7         0  38      F2   0.37  0.71     0.0   0.0   3.0\n",
       "8         1  13      R1  27.54  6.35    27.0  14.0  37.0\n",
       "9         1  13      R2  50.92  7.38    51.0  35.0  60.0\n",
       "10        1  13      B1   7.15  3.46     7.0   2.0  13.0\n",
       "11        1  13      B2   8.77  4.11    11.0   2.0  14.0\n",
       "12        1  13      H1  10.08  3.68    11.0   4.0  17.0\n",
       "13        1  13      H2   4.62  2.47     4.0   0.0   9.0\n",
       "14        1  13      F1   3.08  2.06     4.0   0.0   7.0\n",
       "15        1  13      F2   0.85  1.21     0.0   0.0   4.0\n",
       "16        2  26      R1  34.77  4.03    35.0  24.0  42.0\n",
       "17        2  26      R2  58.88  7.99    60.0  43.0  72.0\n",
       "18        2  26      B1   6.12  3.76     5.5   0.0  14.0\n",
       "19        2  26      B2  13.27  4.79    13.0   4.0  21.0\n",
       "20        2  26      H1   8.54  4.00     7.5   2.0  17.0\n",
       "21        2  26      H2   6.04  3.32     6.0   0.0  14.0\n",
       "22        2  26      F1   6.15  0.97     6.5   4.0   7.0\n",
       "23        2  26      F2   2.77  0.95     3.0   1.0   4.0"
      ]
     },
     "execution_count": 50,
     "metadata": {},
     "output_type": "execute_result"
    }
   ],
   "source": [
    "# Compute descriptive statistics for the subjects allocated to each of the clusters for each feature R1, ..., F2\n",
    "# Compute the mean, standard deviation, median, min, and max, for each feature for each cluster\n",
    "# and store the results in a dataframe\n",
    "\n",
    "# Create a dataframe to store the results\n",
    "df_desc = pd.DataFrame(columns=['Cluster', 'n', 'feature', 'mean', 'std', 'median', 'min', 'max'])\n",
    "data_clu3 = data.copy()\n",
    "data_clu3['Cluster'] = data_ext['Cluster']\n",
    "\n",
    "# Compute the descriptive statistics for each cluster for each feature\n",
    "for i in range(K):\n",
    "    # Get the data for the cluster i\n",
    "    data_clu = pd.DataFrame()\n",
    "    data_clu = data_clu3[data_clu3['Cluster'] == i]\n",
    "    # Compute the descriptive statistics for the cluster i for each feature\n",
    "    for j in range(n_var):\n",
    "        # Compute the mean, standard deviation, median, min, max, 25th and 75th percentiles for the feature j for the cluster i\n",
    "        mean = data_clu[xticks[j]].mean().round(2)\n",
    "        std = data_clu[xticks[j]].std().round(2)\n",
    "        median = data_clu[xticks[j]].median().round(2)\n",
    "        min = data_clu[xticks[j]].min().round(2)\n",
    "        max = data_clu[xticks[j]].max().round(2)\n",
    "        # Append the results to the dataframe df_desc\n",
    "        k=(i*n_var)+j\n",
    "        df_desc.loc[k] = [i, len(data_clu), xticks[j],  mean, std, median, min, max]\n",
    "\n",
    "\n",
    "df_desc"
   ]
  },
  {
   "cell_type": "code",
   "execution_count": 51,
   "id": "b70fd7d3",
   "metadata": {},
   "outputs": [
    {
     "name": "stdout",
     "output_type": "stream",
     "text": [
      "\\begin{tabular}{rrlrrrrr}\n",
      "\\toprule\n",
      "Cluster & n & feature & mean & std & median & min & max \\\\\n",
      "\\midrule\n",
      "0 & 38 & R1 & 35.50 & 3.60 & 35.00 & 28.00 & 42.00 \\\\\n",
      "0 & 38 & R2 & 63.26 & 7.28 & 64.50 & 47.00 & 82.00 \\\\\n",
      "0 & 38 & B1 & 3.95 & 4.21 & 2.50 & 0.00 & 16.00 \\\\\n",
      "0 & 38 & B2 & 6.50 & 3.30 & 7.00 & 1.00 & 13.00 \\\\\n",
      "0 & 38 & H1 & 4.03 & 2.98 & 3.00 & 0.00 & 11.00 \\\\\n",
      "0 & 38 & H2 & 1.89 & 1.75 & 1.00 & 0.00 & 7.00 \\\\\n",
      "0 & 38 & F1 & 1.39 & 1.84 & 0.50 & 0.00 & 6.00 \\\\\n",
      "0 & 38 & F2 & 0.37 & 0.71 & 0.00 & 0.00 & 3.00 \\\\\n",
      "1 & 13 & R1 & 27.54 & 6.35 & 27.00 & 14.00 & 37.00 \\\\\n",
      "1 & 13 & R2 & 50.92 & 7.38 & 51.00 & 35.00 & 60.00 \\\\\n",
      "1 & 13 & B1 & 7.15 & 3.46 & 7.00 & 2.00 & 13.00 \\\\\n",
      "1 & 13 & B2 & 8.77 & 4.11 & 11.00 & 2.00 & 14.00 \\\\\n",
      "1 & 13 & H1 & 10.08 & 3.68 & 11.00 & 4.00 & 17.00 \\\\\n",
      "1 & 13 & H2 & 4.62 & 2.47 & 4.00 & 0.00 & 9.00 \\\\\n",
      "1 & 13 & F1 & 3.08 & 2.06 & 4.00 & 0.00 & 7.00 \\\\\n",
      "1 & 13 & F2 & 0.85 & 1.21 & 0.00 & 0.00 & 4.00 \\\\\n",
      "2 & 26 & R1 & 34.77 & 4.03 & 35.00 & 24.00 & 42.00 \\\\\n",
      "2 & 26 & R2 & 58.88 & 7.99 & 60.00 & 43.00 & 72.00 \\\\\n",
      "2 & 26 & B1 & 6.12 & 3.76 & 5.50 & 0.00 & 14.00 \\\\\n",
      "2 & 26 & B2 & 13.27 & 4.79 & 13.00 & 4.00 & 21.00 \\\\\n",
      "2 & 26 & H1 & 8.54 & 4.00 & 7.50 & 2.00 & 17.00 \\\\\n",
      "2 & 26 & H2 & 6.04 & 3.32 & 6.00 & 0.00 & 14.00 \\\\\n",
      "2 & 26 & F1 & 6.15 & 0.97 & 6.50 & 4.00 & 7.00 \\\\\n",
      "2 & 26 & F2 & 2.77 & 0.95 & 3.00 & 1.00 & 4.00 \\\\\n",
      "\\bottomrule\n",
      "\\end{tabular}\n",
      "\n"
     ]
    }
   ],
   "source": [
    "# Print to latex with 2 decimals\n",
    "print(df_desc.to_latex(index=False, float_format=\"%.2f\"))"
   ]
  },
  {
   "cell_type": "code",
   "execution_count": 52,
   "id": "7a075c9e",
   "metadata": {},
   "outputs": [
    {
     "name": "stdout",
     "output_type": "stream",
     "text": [
      "Cluster 0: Counter({'F': 26, 'M': 12})\n",
      "Cluster 0: Counter({'HC': 26, 'IBS': 12})\n",
      "\n",
      "\n",
      "Cluster 1: Counter({'F': 10, 'M': 3})\n",
      "Cluster 1: Counter({'IBS': 12, 'HC': 1})\n",
      "\n",
      "\n",
      "Cluster 2: Counter({'F': 20, 'M': 6})\n",
      "Cluster 2: Counter({'IBS': 25, 'HC': 1})\n",
      "\n",
      "\n"
     ]
    }
   ],
   "source": [
    "from collections import Counter\n",
    "\n",
    "# Make lists of variables BGA, Age, Sex, IBS-SSS, Group for each of the three clusters\n",
    "BGA_list = [list(data_ext[data_ext['Cluster'] == i]['BGA']) for i in range(K)] \n",
    "Age_list = [list(data_ext[data_ext['Cluster'] == i]['Age']) for i in range(K)] \n",
    "Sex_list = [list(data_ext[data_ext['Cluster'] == i]['Sex']) for i in range(K)] \n",
    "IBS_SSS_list = [list(data_ext[data_ext['Cluster'] == i]['IBS-SSS']) for i in range(K)] \n",
    "Group_list = [list(data_ext[data_ext['Cluster'] == i]['Group']) for i in range(K)]\n",
    "\n",
    "\n",
    "for i in range(K):\n",
    "    print(f'Cluster {i}: {Counter(Sex_list[i])}')\n",
    "    print(f'Cluster {i}: {Counter(Group_list[i])}')\n",
    "    print('\\n')\n"
   ]
  },
  {
   "cell_type": "markdown",
   "id": "bebadaf0",
   "metadata": {},
   "source": [
    "### Table 4 bottom part: Pair-wise effect size (Cohen)  [using Pingouin]\n",
    "https://pingouin-stats.org/build/html/generated/pingouin.compute_effsize.html\n"
   ]
  },
  {
   "cell_type": "code",
   "execution_count": 53,
   "id": "959ef4c5",
   "metadata": {},
   "outputs": [
    {
     "data": {
      "text/html": [
       "<div>\n",
       "<style scoped>\n",
       "    .dataframe tbody tr th:only-of-type {\n",
       "        vertical-align: middle;\n",
       "    }\n",
       "\n",
       "    .dataframe tbody tr th {\n",
       "        vertical-align: top;\n",
       "    }\n",
       "\n",
       "    .dataframe thead th {\n",
       "        text-align: right;\n",
       "    }\n",
       "</style>\n",
       "<table border=\"1\" class=\"dataframe\">\n",
       "  <thead>\n",
       "    <tr style=\"text-align: right;\">\n",
       "      <th></th>\n",
       "      <th>Cluster_A</th>\n",
       "      <th>Cluster_B</th>\n",
       "      <th>feature</th>\n",
       "      <th>eff_size (Cohen)</th>\n",
       "    </tr>\n",
       "  </thead>\n",
       "  <tbody>\n",
       "    <tr>\n",
       "      <th>0</th>\n",
       "      <td>1</td>\n",
       "      <td>2</td>\n",
       "      <td>R1</td>\n",
       "      <td>1.80</td>\n",
       "    </tr>\n",
       "    <tr>\n",
       "      <th>1</th>\n",
       "      <td>1</td>\n",
       "      <td>2</td>\n",
       "      <td>R2</td>\n",
       "      <td>1.69</td>\n",
       "    </tr>\n",
       "    <tr>\n",
       "      <th>2</th>\n",
       "      <td>1</td>\n",
       "      <td>2</td>\n",
       "      <td>B1</td>\n",
       "      <td>-0.79</td>\n",
       "    </tr>\n",
       "    <tr>\n",
       "      <th>3</th>\n",
       "      <td>1</td>\n",
       "      <td>2</td>\n",
       "      <td>B2</td>\n",
       "      <td>-0.65</td>\n",
       "    </tr>\n",
       "    <tr>\n",
       "      <th>4</th>\n",
       "      <td>1</td>\n",
       "      <td>2</td>\n",
       "      <td>H1</td>\n",
       "      <td>-1.91</td>\n",
       "    </tr>\n",
       "    <tr>\n",
       "      <th>5</th>\n",
       "      <td>1</td>\n",
       "      <td>2</td>\n",
       "      <td>H2</td>\n",
       "      <td>-1.39</td>\n",
       "    </tr>\n",
       "    <tr>\n",
       "      <th>6</th>\n",
       "      <td>1</td>\n",
       "      <td>2</td>\n",
       "      <td>F1</td>\n",
       "      <td>-0.89</td>\n",
       "    </tr>\n",
       "    <tr>\n",
       "      <th>7</th>\n",
       "      <td>1</td>\n",
       "      <td>2</td>\n",
       "      <td>F2</td>\n",
       "      <td>-0.55</td>\n",
       "    </tr>\n",
       "    <tr>\n",
       "      <th>8</th>\n",
       "      <td>1</td>\n",
       "      <td>3</td>\n",
       "      <td>R1</td>\n",
       "      <td>0.19</td>\n",
       "    </tr>\n",
       "    <tr>\n",
       "      <th>9</th>\n",
       "      <td>1</td>\n",
       "      <td>3</td>\n",
       "      <td>R2</td>\n",
       "      <td>0.58</td>\n",
       "    </tr>\n",
       "    <tr>\n",
       "      <th>10</th>\n",
       "      <td>1</td>\n",
       "      <td>3</td>\n",
       "      <td>B1</td>\n",
       "      <td>-0.54</td>\n",
       "    </tr>\n",
       "    <tr>\n",
       "      <th>11</th>\n",
       "      <td>1</td>\n",
       "      <td>3</td>\n",
       "      <td>B2</td>\n",
       "      <td>-1.71</td>\n",
       "    </tr>\n",
       "    <tr>\n",
       "      <th>12</th>\n",
       "      <td>1</td>\n",
       "      <td>3</td>\n",
       "      <td>H1</td>\n",
       "      <td>-1.32</td>\n",
       "    </tr>\n",
       "    <tr>\n",
       "      <th>13</th>\n",
       "      <td>1</td>\n",
       "      <td>3</td>\n",
       "      <td>H2</td>\n",
       "      <td>-1.66</td>\n",
       "    </tr>\n",
       "    <tr>\n",
       "      <th>14</th>\n",
       "      <td>1</td>\n",
       "      <td>3</td>\n",
       "      <td>F1</td>\n",
       "      <td>-3.08</td>\n",
       "    </tr>\n",
       "    <tr>\n",
       "      <th>15</th>\n",
       "      <td>1</td>\n",
       "      <td>3</td>\n",
       "      <td>F2</td>\n",
       "      <td>-2.94</td>\n",
       "    </tr>\n",
       "    <tr>\n",
       "      <th>16</th>\n",
       "      <td>2</td>\n",
       "      <td>3</td>\n",
       "      <td>R1</td>\n",
       "      <td>-1.47</td>\n",
       "    </tr>\n",
       "    <tr>\n",
       "      <th>17</th>\n",
       "      <td>2</td>\n",
       "      <td>3</td>\n",
       "      <td>R2</td>\n",
       "      <td>-1.02</td>\n",
       "    </tr>\n",
       "    <tr>\n",
       "      <th>18</th>\n",
       "      <td>2</td>\n",
       "      <td>3</td>\n",
       "      <td>B1</td>\n",
       "      <td>0.28</td>\n",
       "    </tr>\n",
       "    <tr>\n",
       "      <th>19</th>\n",
       "      <td>2</td>\n",
       "      <td>3</td>\n",
       "      <td>B2</td>\n",
       "      <td>-0.98</td>\n",
       "    </tr>\n",
       "    <tr>\n",
       "      <th>20</th>\n",
       "      <td>2</td>\n",
       "      <td>3</td>\n",
       "      <td>H1</td>\n",
       "      <td>0.39</td>\n",
       "    </tr>\n",
       "    <tr>\n",
       "      <th>21</th>\n",
       "      <td>2</td>\n",
       "      <td>3</td>\n",
       "      <td>H2</td>\n",
       "      <td>-0.46</td>\n",
       "    </tr>\n",
       "    <tr>\n",
       "      <th>22</th>\n",
       "      <td>2</td>\n",
       "      <td>3</td>\n",
       "      <td>F1</td>\n",
       "      <td>-2.17</td>\n",
       "    </tr>\n",
       "    <tr>\n",
       "      <th>23</th>\n",
       "      <td>2</td>\n",
       "      <td>3</td>\n",
       "      <td>F2</td>\n",
       "      <td>-1.84</td>\n",
       "    </tr>\n",
       "  </tbody>\n",
       "</table>\n",
       "</div>"
      ],
      "text/plain": [
       "    Cluster_A  Cluster_B feature  eff_size (Cohen)\n",
       "0           1          2      R1              1.80\n",
       "1           1          2      R2              1.69\n",
       "2           1          2      B1             -0.79\n",
       "3           1          2      B2             -0.65\n",
       "4           1          2      H1             -1.91\n",
       "5           1          2      H2             -1.39\n",
       "6           1          2      F1             -0.89\n",
       "7           1          2      F2             -0.55\n",
       "8           1          3      R1              0.19\n",
       "9           1          3      R2              0.58\n",
       "10          1          3      B1             -0.54\n",
       "11          1          3      B2             -1.71\n",
       "12          1          3      H1             -1.32\n",
       "13          1          3      H2             -1.66\n",
       "14          1          3      F1             -3.08\n",
       "15          1          3      F2             -2.94\n",
       "16          2          3      R1             -1.47\n",
       "17          2          3      R2             -1.02\n",
       "18          2          3      B1              0.28\n",
       "19          2          3      B2             -0.98\n",
       "20          2          3      H1              0.39\n",
       "21          2          3      H2             -0.46\n",
       "22          2          3      F1             -2.17\n",
       "23          2          3      F2             -1.84"
      ]
     },
     "execution_count": 53,
     "metadata": {},
     "output_type": "execute_result"
    }
   ],
   "source": [
    "# Comput effect sizes between clusteres for each of the 8 features R1, ..., F2\n",
    "\n",
    "# Create a dataframe to store the results\n",
    "df_eff_size = pd.DataFrame(columns=['Cluster_A', 'Cluster_B', 'feature', 'eff_size (Cohen)'])\n",
    "\n",
    "# Compute the effect size for each feature between each pair of clusters\n",
    "for i in range(K):\n",
    "    for j in range(K):\n",
    "        if i < j:\n",
    "            for k in range(n_var):\n",
    "                # Compute the effect size for the feature k between the clusters i and j\n",
    "                eff_size = pg.compute_effsize(data_ext[data_ext['Cluster'] == i][xticks[k]], data_ext[data_ext['Cluster'] == j][xticks[k]], eftype='cohen')\n",
    "\n",
    "                # Append the results to the dataframe df_eff_size\n",
    "                df_eff_size.loc[(i*K+j)*n_var+k] = [i, j, xticks[k], round(eff_size, 2)]\n",
    "\n",
    "# Reindex the dataframe df_eff_size\n",
    "df_eff_size = df_eff_size.reset_index(drop=True)\n",
    "\n",
    "# Add 1 to the cluster values to get the cluster numbers from 1 to K\n",
    "\n",
    "df_eff_size['Cluster_A'] = df_eff_size['Cluster_A'] + 1\n",
    "df_eff_size['Cluster_B'] = df_eff_size['Cluster_B'] + 1\n",
    "\n",
    "df_eff_size"
   ]
  },
  {
   "cell_type": "code",
   "execution_count": null,
   "id": "8dcaeba9",
   "metadata": {},
   "outputs": [],
   "source": []
  }
 ],
 "metadata": {
  "kernelspec": {
   "display_name": "Python 3 (ipykernel)",
   "language": "python",
   "name": "python3"
  },
  "language_info": {
   "codemirror_mode": {
    "name": "ipython",
    "version": 3
   },
   "file_extension": ".py",
   "mimetype": "text/x-python",
   "name": "python",
   "nbconvert_exporter": "python",
   "pygments_lexer": "ipython3",
   "version": "3.11.9"
  },
  "toc": {
   "base_numbering": 1,
   "nav_menu": {},
   "number_sections": true,
   "sideBar": true,
   "skip_h1_title": false,
   "title_cell": "Table of Contents",
   "title_sidebar": "Contents",
   "toc_cell": false,
   "toc_position": {},
   "toc_section_display": true,
   "toc_window_display": false
  },
  "vscode": {
   "interpreter": {
    "hash": "39dd2b1a993b1b65d55bc55d82ef5b13723e6487760921d209641ef49d9fc611"
   }
  }
 },
 "nbformat": 4,
 "nbformat_minor": 5
}
